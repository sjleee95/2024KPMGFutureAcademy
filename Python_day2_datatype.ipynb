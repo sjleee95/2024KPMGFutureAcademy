{
 "cells": [
  {
   "cell_type": "markdown",
   "metadata": {
    "id": "zuvIZ4N988pl"
   },
   "source": [
    "## 문자열의 format()\n",
    "제곱을 표현하기 위해서는 *를 두개 사용하면 된다."
   ]
  },
  {
   "cell_type": "code",
   "execution_count": null,
   "metadata": {
    "colab": {
     "base_uri": "https://localhost:8080/"
    },
    "executionInfo": {
     "elapsed": 319,
     "status": "ok",
     "timestamp": 1721106843224,
     "user": {
      "displayName": "Fullmoon",
      "userId": "09384791820595413483"
     },
     "user_tz": -540
    },
    "id": "9zhSDRZT8xEu",
    "outputId": "e5e453d2-8b72-4983-f204-ad9915f2a130"
   },
   "outputs": [
    {
     "data": {
      "text/plain": [
       "8"
      ]
     },
     "execution_count": 2,
     "metadata": {},
     "output_type": "execute_result"
    }
   ],
   "source": [
    "2**3"
   ]
  },
  {
   "cell_type": "code",
   "execution_count": null,
   "metadata": {
    "id": "QC37EdwA-Qhz"
   },
   "outputs": [],
   "source": [
    "a=2"
   ]
  },
  {
   "cell_type": "code",
   "execution_count": null,
   "metadata": {
    "id": "q7ywSlHl-y_n"
   },
   "outputs": [],
   "source": [
    "b=3"
   ]
  },
  {
   "cell_type": "code",
   "execution_count": null,
   "metadata": {
    "colab": {
     "base_uri": "https://localhost:8080/"
    },
    "executionInfo": {
     "elapsed": 8,
     "status": "ok",
     "timestamp": 1721107169883,
     "user": {
      "displayName": "Fullmoon",
      "userId": "09384791820595413483"
     },
     "user_tz": -540
    },
    "id": "WtIASjnY9hIA",
    "outputId": "7a62a62e-6eac-43a7-fac2-e9c80450b4a7"
   },
   "outputs": [
    {
     "name": "stdout",
     "output_type": "stream",
     "text": [
      "입력한 값2\n"
     ]
    }
   ],
   "source": [
    "print(f\"입력한 값{a}\")"
   ]
  },
  {
   "cell_type": "code",
   "execution_count": null,
   "metadata": {
    "colab": {
     "base_uri": "https://localhost:8080/"
    },
    "executionInfo": {
     "elapsed": 7,
     "status": "ok",
     "timestamp": 1721107170741,
     "user": {
      "displayName": "Fullmoon",
      "userId": "09384791820595413483"
     },
     "user_tz": -540
    },
    "id": "cP_HKc6y-E01",
    "outputId": "ab9f3bb0-f797-4e9c-bb96-a54ff9790c50"
   },
   "outputs": [
    {
     "name": "stdout",
     "output_type": "stream",
     "text": [
      "입력한 값2\n"
     ]
    }
   ],
   "source": [
    "print(\"입력한 값{}\" .format(a))"
   ]
  },
  {
   "cell_type": "code",
   "execution_count": null,
   "metadata": {
    "colab": {
     "base_uri": "https://localhost:8080/"
    },
    "executionInfo": {
     "elapsed": 6,
     "status": "ok",
     "timestamp": 1721107171677,
     "user": {
      "displayName": "Fullmoon",
      "userId": "09384791820595413483"
     },
     "user_tz": -540
    },
    "id": "Jmbx9b8C-OeM",
    "outputId": "40ea55c4-032c-43c9-bffb-8f52c5c255a4"
   },
   "outputs": [
    {
     "name": "stdout",
     "output_type": "stream",
     "text": [
      "입력한 값 2, 3, 5\n"
     ]
    }
   ],
   "source": [
    "print(\"입력한 값 {}, {}, {}\" .format(a,b,a+b))"
   ]
  },
  {
   "cell_type": "code",
   "execution_count": null,
   "metadata": {
    "colab": {
     "base_uri": "https://localhost:8080/"
    },
    "executionInfo": {
     "elapsed": 9,
     "status": "ok",
     "timestamp": 1721107232625,
     "user": {
      "displayName": "Fullmoon",
      "userId": "09384791820595413483"
     },
     "user_tz": -540
    },
    "id": "NiKPMFvm-poB",
    "outputId": "0fc8076c-9744-4bc7-e37e-87f1c4198bb3"
   },
   "outputs": [
    {
     "name": "stdout",
     "output_type": "stream",
     "text": [
      "입력한 값 2, 3, 5\n"
     ]
    }
   ],
   "source": [
    "print(f\"입력한 값 {a}, {b}, {a+b}\")"
   ]
  },
  {
   "cell_type": "code",
   "execution_count": null,
   "metadata": {
    "id": "HOxqXWE0_DV8"
   },
   "outputs": [],
   "source": [
    "a = f\"입력한 값 {a}, {b}, {a+b}\""
   ]
  },
  {
   "cell_type": "code",
   "execution_count": null,
   "metadata": {
    "colab": {
     "base_uri": "https://localhost:8080/",
     "height": 35
    },
    "executionInfo": {
     "elapsed": 327,
     "status": "ok",
     "timestamp": 1721107372183,
     "user": {
      "displayName": "Fullmoon",
      "userId": "09384791820595413483"
     },
     "user_tz": -540
    },
    "id": "T7VyA4Sh_kv3",
    "outputId": "b7f1a662-a3df-435b-de09-9a627cb83ccb"
   },
   "outputs": [
    {
     "data": {
      "application/vnd.google.colaboratory.intrinsic+json": {
       "type": "string"
      },
      "text/plain": [
       "'입력한 값 2, 3, 5'"
      ]
     },
     "execution_count": 17,
     "metadata": {},
     "output_type": "execute_result"
    }
   ],
   "source": [
    "a"
   ]
  },
  {
   "cell_type": "code",
   "execution_count": null,
   "metadata": {
    "colab": {
     "base_uri": "https://localhost:8080/",
     "height": 147
    },
    "executionInfo": {
     "elapsed": 307,
     "status": "error",
     "timestamp": 1721107597983,
     "user": {
      "displayName": "Fullmoon",
      "userId": "09384791820595413483"
     },
     "user_tz": -540
    },
    "id": "sXatFJg1_lLK",
    "outputId": "9bf6fdca-84dc-4d4b-c4a5-5cb70edca943"
   },
   "outputs": [
    {
     "ename": "TypeError",
     "evalue": "can only concatenate str (not \"int\") to str",
     "output_type": "error",
     "traceback": [
      "\u001b[0;31m---------------------------------------------------------------------------\u001b[0m",
      "\u001b[0;31mTypeError\u001b[0m                                 Traceback (most recent call last)",
      "\u001b[0;32m<ipython-input-18-f7cee709a044>\u001b[0m in \u001b[0;36m<cell line: 1>\u001b[0;34m()\u001b[0m\n\u001b[0;32m----> 1\u001b[0;31m \u001b[0mprint\u001b[0m\u001b[0;34m(\u001b[0m\u001b[0;34m\"입력한 값 {}, {}\"\u001b[0m \u001b[0;34m.\u001b[0m\u001b[0mformat\u001b[0m\u001b[0;34m(\u001b[0m\u001b[0ma\u001b[0m\u001b[0;34m,\u001b[0m\u001b[0mb\u001b[0m\u001b[0;34m,\u001b[0m\u001b[0ma\u001b[0m\u001b[0;34m+\u001b[0m\u001b[0mb\u001b[0m\u001b[0;34m)\u001b[0m\u001b[0;34m)\u001b[0m\u001b[0;34m\u001b[0m\u001b[0;34m\u001b[0m\u001b[0m\n\u001b[0m",
      "\u001b[0;31mTypeError\u001b[0m: can only concatenate str (not \"int\") to str"
     ]
    }
   ],
   "source": [
    "print(\"입력한 값 {}, {}\" .format(a,b,a+b))"
   ]
  },
  {
   "cell_type": "code",
   "execution_count": null,
   "metadata": {
    "colab": {
     "base_uri": "https://localhost:8080/",
     "height": 147
    },
    "executionInfo": {
     "elapsed": 302,
     "status": "error",
     "timestamp": 1721107615258,
     "user": {
      "displayName": "Fullmoon",
      "userId": "09384791820595413483"
     },
     "user_tz": -540
    },
    "id": "JZ3fvdiaAcfd",
    "outputId": "981a5b5b-9948-4995-9f72-39c30fa4de65"
   },
   "outputs": [
    {
     "ename": "IndexError",
     "evalue": "Replacement index 2 out of range for positional args tuple",
     "output_type": "error",
     "traceback": [
      "\u001b[0;31m---------------------------------------------------------------------------\u001b[0m",
      "\u001b[0;31mIndexError\u001b[0m                                Traceback (most recent call last)",
      "\u001b[0;32m<ipython-input-19-8157139a6ece>\u001b[0m in \u001b[0;36m<cell line: 1>\u001b[0;34m()\u001b[0m\n\u001b[0;32m----> 1\u001b[0;31m \u001b[0mprint\u001b[0m\u001b[0;34m(\u001b[0m\u001b[0;34m\"입력한 값 {}, {}, {}\"\u001b[0m \u001b[0;34m.\u001b[0m\u001b[0mformat\u001b[0m\u001b[0;34m(\u001b[0m\u001b[0ma\u001b[0m\u001b[0;34m,\u001b[0m\u001b[0mb\u001b[0m\u001b[0;34m)\u001b[0m\u001b[0;34m)\u001b[0m\u001b[0;34m\u001b[0m\u001b[0;34m\u001b[0m\u001b[0m\n\u001b[0m",
      "\u001b[0;31mIndexError\u001b[0m: Replacement index 2 out of range for positional args tuple"
     ]
    }
   ],
   "source": [
    "# 문자열에 중괄호 3개 표시에 format의 변수 2개여서 Index Error 발생\n",
    "print(\"입력한 값 {}, {}, {}\" .format(a,b))"
   ]
  },
  {
   "cell_type": "markdown",
   "metadata": {
    "id": "j8giIurGBn8s"
   },
   "source": [
    "#정수값 포매팅"
   ]
  },
  {
   "cell_type": "code",
   "execution_count": null,
   "metadata": {
    "colab": {
     "base_uri": "https://localhost:8080/",
     "height": 35
    },
    "executionInfo": {
     "elapsed": 413,
     "status": "ok",
     "timestamp": 1721107940440,
     "user": {
      "displayName": "Fullmoon",
      "userId": "09384791820595413483"
     },
     "user_tz": -540
    },
    "id": "LX37iqFWAgtI",
    "outputId": "3e4cae73-a065-4537-b37b-55af54210ee4"
   },
   "outputs": [
    {
     "data": {
      "application/vnd.google.colaboratory.intrinsic+json": {
       "type": "string"
      },
      "text/plain": [
       "'52'"
      ]
     },
     "execution_count": 20,
     "metadata": {},
     "output_type": "execute_result"
    }
   ],
   "source": [
    "\"{:d}\".format(52)"
   ]
  },
  {
   "cell_type": "code",
   "execution_count": null,
   "metadata": {
    "colab": {
     "base_uri": "https://localhost:8080/",
     "height": 35
    },
    "executionInfo": {
     "elapsed": 312,
     "status": "ok",
     "timestamp": 1721107970842,
     "user": {
      "displayName": "Fullmoon",
      "userId": "09384791820595413483"
     },
     "user_tz": -540
    },
    "id": "70vXhTz9BwFF",
    "outputId": "bbc44137-9ced-4368-e697-a8799e7b6a5e"
   },
   "outputs": [
    {
     "data": {
      "application/vnd.google.colaboratory.intrinsic+json": {
       "type": "string"
      },
      "text/plain": [
       "'   52'"
      ]
     },
     "execution_count": 21,
     "metadata": {},
     "output_type": "execute_result"
    }
   ],
   "source": [
    "\"{:5d}\".format(52)"
   ]
  },
  {
   "cell_type": "code",
   "execution_count": null,
   "metadata": {
    "colab": {
     "base_uri": "https://localhost:8080/",
     "height": 35
    },
    "executionInfo": {
     "elapsed": 323,
     "status": "ok",
     "timestamp": 1721108038746,
     "user": {
      "displayName": "Fullmoon",
      "userId": "09384791820595413483"
     },
     "user_tz": -540
    },
    "id": "eGd0k5g6B3f0",
    "outputId": "09e7055e-8f1d-4a39-c6c0-c2b70c5ad947"
   },
   "outputs": [
    {
     "data": {
      "application/vnd.google.colaboratory.intrinsic+json": {
       "type": "string"
      },
      "text/plain": [
       "'        52'"
      ]
     },
     "execution_count": 23,
     "metadata": {},
     "output_type": "execute_result"
    }
   ],
   "source": [
    "\"{:10d}\".format(52)"
   ]
  },
  {
   "cell_type": "code",
   "execution_count": null,
   "metadata": {
    "colab": {
     "base_uri": "https://localhost:8080/"
    },
    "executionInfo": {
     "elapsed": 357,
     "status": "ok",
     "timestamp": 1721108299307,
     "user": {
      "displayName": "Fullmoon",
      "userId": "09384791820595413483"
     },
     "user_tz": -540
    },
    "id": "hlDgs-7ACGNu",
    "outputId": "bca5d14c-420c-458e-fab8-afb00e96d559"
   },
   "outputs": [
    {
     "name": "stdout",
     "output_type": "stream",
     "text": [
      "   52\n",
      "   52\n",
      "  -52\n",
      "  +52\n",
      "  +52\n",
      "  -52\n"
     ]
    }
   ],
   "source": [
    "#함수의 의미, 그리고 부호 간의 관계 명확히 할 필요성 있음\n",
    "\n",
    "print(\"{:5d}\".format(52))\n",
    "print(\"{:5d}\".format(+52))\n",
    "print(\"{:5d}\".format(-52))\n",
    "print(\"{:+5d}\".format(52))\n",
    "print(\"{:+5d}\".format(+52))\n",
    "print(\"{:+5d}\".format(-52))"
   ]
  },
  {
   "cell_type": "code",
   "execution_count": null,
   "metadata": {
    "id": "zawzWWpVCkPl"
   },
   "outputs": [],
   "source": [
    "# \"{가수부.지수부}\".format(52.273)     (기본적으로 반올림을 진행한다 (아래쪽)\n",
    "\n",
    "output_a = \"{15.3f}:"
   ]
  },
  {
   "cell_type": "markdown",
   "metadata": {
    "id": "goRhjAfSFOTC"
   },
   "source": [
    "###실습"
   ]
  },
  {
   "cell_type": "code",
   "execution_count": null,
   "metadata": {
    "id": "qTBt9CUzFPM0"
   },
   "outputs": [],
   "source": [
    "format_a = \"{}만 원\".format(5000)\n",
    "format_b = \"파이썬 열공하여 첫 연봉 {}만 원 만들기\".format(5000)\n",
    "format_c = \"{} {} {}\".format(3000, 4000, 5000)\n",
    "format_d = \"{} {} {}\".format(1, \"문자열\", True)"
   ]
  },
  {
   "cell_type": "code",
   "execution_count": null,
   "metadata": {
    "colab": {
     "base_uri": "https://localhost:8080/"
    },
    "executionInfo": {
     "elapsed": 12,
     "status": "ok",
     "timestamp": 1721108987954,
     "user": {
      "displayName": "Fullmoon",
      "userId": "09384791820595413483"
     },
     "user_tz": -540
    },
    "id": "3m2lerBaFq8u",
    "outputId": "ebb393cd-8541-45ed-ef0d-8acd48a5c5f2"
   },
   "outputs": [
    {
     "name": "stdout",
     "output_type": "stream",
     "text": [
      "5000만 원\n",
      "파이썬 열공하여 첫 연봉 5000만 원 만들기\n",
      "3000 4000 5000\n",
      "1 문자열 True\n"
     ]
    }
   ],
   "source": [
    "print(format_a)\n",
    "print(format_b)\n",
    "print(format_c)\n",
    "print(format_d)"
   ]
  },
  {
   "cell_type": "markdown",
   "metadata": {
    "id": "9HWbLq9YF_rI"
   },
   "source": [
    "### Format 함수의 다양한 기능"
   ]
  },
  {
   "cell_type": "code",
   "execution_count": null,
   "metadata": {
    "id": "cDBN_NK0Fvu7"
   },
   "outputs": [],
   "source": [
    "#정수\n",
    "output_a = \"{:d}\".format(52)"
   ]
  },
  {
   "cell_type": "code",
   "execution_count": null,
   "metadata": {
    "colab": {
     "base_uri": "https://localhost:8080/"
    },
    "executionInfo": {
     "elapsed": 290,
     "status": "ok",
     "timestamp": 1721109423531,
     "user": {
      "displayName": "Fullmoon",
      "userId": "09384791820595413483"
     },
     "user_tz": -540
    },
    "id": "hpbbNV0gGb8g",
    "outputId": "4ea3a06a-75b3-4cff-e168-3ed911ca99eb"
   },
   "outputs": [
    {
     "name": "stdout",
     "output_type": "stream",
     "text": [
      "# 기본\n",
      "52\n",
      "# 특정 칸에 출력하기\n",
      "   52\n",
      "        52\n",
      "빈칸을 #으로 채우기\n",
      "00052\n",
      "-0052\n"
     ]
    }
   ],
   "source": [
    "#특정 칸에 출력하기\n",
    "output_b = \"{:5d}\".format(52)\n",
    "output_c = \"{:10d}\".format(52)\n",
    "\n",
    "#빈칸을 0으로 채우기\n",
    "output_d = \"{:05d}\".format(52)\n",
    "output_e = \"{:05d}\".format(-52)\n",
    "\n",
    "print(\"# 기본\")\n",
    "print(output_a)\n",
    "print(\"# 특정 칸에 출력하기\")\n",
    "print(output_b)\n",
    "print(output_c)\n",
    "print(\"빈칸을 #으로 채우기\")\n",
    "print(output_d)\n",
    "print(output_e)"
   ]
  },
  {
   "cell_type": "markdown",
   "metadata": {
    "id": "lhJehukPLlT4"
   },
   "source": [
    "## 공백 제거"
   ]
  },
  {
   "cell_type": "code",
   "execution_count": null,
   "metadata": {
    "colab": {
     "base_uri": "https://localhost:8080/"
    },
    "executionInfo": {
     "elapsed": 6899,
     "status": "ok",
     "timestamp": 1721110647508,
     "user": {
      "displayName": "Fullmoon",
      "userId": "09384791820595413483"
     },
     "user_tz": -540
    },
    "id": "d7edZj0ILurW",
    "outputId": "4011f66f-89ac-4c49-e7ea-a851a2b01b64"
   },
   "outputs": [
    {
     "name": "stdout",
     "output_type": "stream",
     "text": [
      "데이터입력 >>         이승준        \n"
     ]
    }
   ],
   "source": [
    "data = input(\"데이터입력 >>\")"
   ]
  },
  {
   "cell_type": "code",
   "execution_count": null,
   "metadata": {
    "colab": {
     "base_uri": "https://localhost:8080/",
     "height": 35
    },
    "executionInfo": {
     "elapsed": 6,
     "status": "ok",
     "timestamp": 1721110647809,
     "user": {
      "displayName": "Fullmoon",
      "userId": "09384791820595413483"
     },
     "user_tz": -540
    },
    "id": "YD9cshg3L2zK",
    "outputId": "fb054ef2-3006-4a25-e1a1-8515633a8ac5"
   },
   "outputs": [
    {
     "data": {
      "application/vnd.google.colaboratory.intrinsic+json": {
       "type": "string"
      },
      "text/plain": [
       "'         이승준        '"
      ]
     },
     "execution_count": 39,
     "metadata": {},
     "output_type": "execute_result"
    }
   ],
   "source": [
    "data"
   ]
  },
  {
   "cell_type": "code",
   "execution_count": null,
   "metadata": {
    "colab": {
     "base_uri": "https://localhost:8080/",
     "height": 35
    },
    "executionInfo": {
     "elapsed": 12,
     "status": "ok",
     "timestamp": 1721110678092,
     "user": {
      "displayName": "Fullmoon",
      "userId": "09384791820595413483"
     },
     "user_tz": -540
    },
    "id": "5PttE4jfMBs-",
    "outputId": "63dce61d-63a3-44dd-9f28-45424911d1e3"
   },
   "outputs": [
    {
     "data": {
      "application/vnd.google.colaboratory.intrinsic+json": {
       "type": "string"
      },
      "text/plain": [
       "'이승준'"
      ]
     },
     "execution_count": 41,
     "metadata": {},
     "output_type": "execute_result"
    }
   ],
   "source": [
    "data.strip()"
   ]
  },
  {
   "cell_type": "code",
   "execution_count": null,
   "metadata": {
    "colab": {
     "base_uri": "https://localhost:8080/",
     "height": 35
    },
    "executionInfo": {
     "elapsed": 353,
     "status": "ok",
     "timestamp": 1721111406593,
     "user": {
      "displayName": "Fullmoon",
      "userId": "09384791820595413483"
     },
     "user_tz": -540
    },
    "id": "tDNxcRzeMKZv",
    "outputId": "aefa31fe-8f72-4b77-c11b-d0ddda876f08"
   },
   "outputs": [
    {
     "data": {
      "application/vnd.google.colaboratory.intrinsic+json": {
       "type": "string"
      },
      "text/plain": [
       "'         이승준        '"
      ]
     },
     "execution_count": 46,
     "metadata": {},
     "output_type": "execute_result"
    }
   ],
   "source": [
    "#함수와 Method의 차이를 확실하게 정리하자.\n",
    "#Python은 객체 지향 언어.\n",
    "#함수 혹은 method를 사용해서 실행을 시켰을 때, 변수를 지정해주어야 메모리에 저장이 된다. 필요 없는 데이터는 새로운 데이터로 덮어쓰기 (같은 변수에 저장하기)의 방식을 통해 데이터를 줄일 수 있다.\n",
    "data"
   ]
  },
  {
   "cell_type": "code",
   "execution_count": null,
   "metadata": {
    "colab": {
     "base_uri": "https://localhost:8080/",
     "height": 35
    },
    "executionInfo": {
     "elapsed": 305,
     "status": "ok",
     "timestamp": 1721111182635,
     "user": {
      "displayName": "Fullmoon",
      "userId": "09384791820595413483"
     },
     "user_tz": -540
    },
    "id": "vjStfR9JNAwl",
    "outputId": "9dc99b6e-050c-4c9b-be7d-cf2daefb6959"
   },
   "outputs": [
    {
     "data": {
      "application/vnd.google.colaboratory.intrinsic+json": {
       "type": "string"
      },
      "text/plain": [
       "'이승준        '"
      ]
     },
     "execution_count": 43,
     "metadata": {},
     "output_type": "execute_result"
    }
   ],
   "source": [
    "data.lstrip()"
   ]
  },
  {
   "cell_type": "code",
   "execution_count": null,
   "metadata": {
    "colab": {
     "base_uri": "https://localhost:8080/",
     "height": 35
    },
    "executionInfo": {
     "elapsed": 297,
     "status": "ok",
     "timestamp": 1721111197462,
     "user": {
      "displayName": "Fullmoon",
      "userId": "09384791820595413483"
     },
     "user_tz": -540
    },
    "id": "9UWFVFGtOHpn",
    "outputId": "2f916d9e-1f0b-4d75-f577-a150acfa302f"
   },
   "outputs": [
    {
     "data": {
      "application/vnd.google.colaboratory.intrinsic+json": {
       "type": "string"
      },
      "text/plain": [
       "'         이승준'"
      ]
     },
     "execution_count": 44,
     "metadata": {},
     "output_type": "execute_result"
    }
   ],
   "source": [
    "data.rstrip()"
   ]
  },
  {
   "cell_type": "code",
   "execution_count": null,
   "metadata": {
    "colab": {
     "base_uri": "https://localhost:8080/"
    },
    "executionInfo": {
     "elapsed": 303,
     "status": "ok",
     "timestamp": 1721111530509,
     "user": {
      "displayName": "Fullmoon",
      "userId": "09384791820595413483"
     },
     "user_tz": -540
    },
    "id": "Et5tsK9IOLKc",
    "outputId": "26b9c862-c07b-4922-80b3-a8f89c75bbd3"
   },
   "outputs": [
    {
     "data": {
      "text/plain": [
       "True"
      ]
     },
     "execution_count": 47,
     "metadata": {},
     "output_type": "execute_result"
    }
   ],
   "source": [
    "#메모리에 넣는 명령이 있고, 그렇지 않은 명령이 있다.\n",
    "\"이승준1024\".isalnum()"
   ]
  },
  {
   "cell_type": "code",
   "execution_count": null,
   "metadata": {
    "colab": {
     "base_uri": "https://localhost:8080/"
    },
    "executionInfo": {
     "elapsed": 298,
     "status": "ok",
     "timestamp": 1721111588677,
     "user": {
      "displayName": "Fullmoon",
      "userId": "09384791820595413483"
     },
     "user_tz": -540
    },
    "id": "z7V-ztliPcle",
    "outputId": "36f2df1d-f497-4909-f8bf-43aeaa110482"
   },
   "outputs": [
    {
     "data": {
      "text/plain": [
       "False"
      ]
     },
     "execution_count": 48,
     "metadata": {},
     "output_type": "execute_result"
    }
   ],
   "source": [
    "\"이승준1024~\".isalnum()"
   ]
  },
  {
   "cell_type": "code",
   "execution_count": null,
   "metadata": {
    "colab": {
     "base_uri": "https://localhost:8080/"
    },
    "executionInfo": {
     "elapsed": 304,
     "status": "ok",
     "timestamp": 1721111619201,
     "user": {
      "displayName": "Fullmoon",
      "userId": "09384791820595413483"
     },
     "user_tz": -540
    },
    "id": "bcZnweZ-PqyA",
    "outputId": "ff0bac55-1065-422f-e1da-f505f285abb5"
   },
   "outputs": [
    {
     "data": {
      "text/plain": [
       "False"
      ]
     },
     "execution_count": 49,
     "metadata": {},
     "output_type": "execute_result"
    }
   ],
   "source": [
    "\"이승준1024\\n\".isalnum()"
   ]
  },
  {
   "cell_type": "code",
   "execution_count": null,
   "metadata": {
    "colab": {
     "base_uri": "https://localhost:8080/"
    },
    "executionInfo": {
     "elapsed": 299,
     "status": "ok",
     "timestamp": 1721111729562,
     "user": {
      "displayName": "Fullmoon",
      "userId": "09384791820595413483"
     },
     "user_tz": -540
    },
    "id": "7O36_ym7PyPM",
    "outputId": "3991a0ab-d5c9-4815-be87-de10b404e741"
   },
   "outputs": [
    {
     "data": {
      "text/plain": [
       "True"
      ]
     },
     "execution_count": 51,
     "metadata": {},
     "output_type": "execute_result"
    }
   ],
   "source": [
    "\"str\".isidentifier()"
   ]
  },
  {
   "cell_type": "code",
   "execution_count": null,
   "metadata": {
    "colab": {
     "base_uri": "https://localhost:8080/"
    },
    "executionInfo": {
     "elapsed": 304,
     "status": "ok",
     "timestamp": 1721111754635,
     "user": {
      "displayName": "Fullmoon",
      "userId": "09384791820595413483"
     },
     "user_tz": -540
    },
    "id": "iFXirRqJQL0M",
    "outputId": "99d7528b-2e4e-4d5b-9d36-0de57cc58a8d"
   },
   "outputs": [
    {
     "data": {
      "text/plain": [
       "True"
      ]
     },
     "execution_count": 54,
     "metadata": {},
     "output_type": "execute_result"
    }
   ],
   "source": [
    "\"a\".isidentifier()"
   ]
  },
  {
   "cell_type": "code",
   "execution_count": null,
   "metadata": {
    "colab": {
     "base_uri": "https://localhost:8080/"
    },
    "executionInfo": {
     "elapsed": 308,
     "status": "ok",
     "timestamp": 1721111777412,
     "user": {
      "displayName": "Fullmoon",
      "userId": "09384791820595413483"
     },
     "user_tz": -540
    },
    "id": "1xjgoAmLQQF2",
    "outputId": "ff72b55d-7fa6-4c2b-a719-99bfa8b5f349"
   },
   "outputs": [
    {
     "data": {
      "text/plain": [
       "True"
      ]
     },
     "execution_count": 55,
     "metadata": {},
     "output_type": "execute_result"
    }
   ],
   "source": [
    "\"d\".isidentifier()"
   ]
  },
  {
   "cell_type": "code",
   "execution_count": null,
   "metadata": {
    "colab": {
     "base_uri": "https://localhost:8080/"
    },
    "executionInfo": {
     "elapsed": 311,
     "status": "ok",
     "timestamp": 1721111900075,
     "user": {
      "displayName": "Fullmoon",
      "userId": "09384791820595413483"
     },
     "user_tz": -540
    },
    "id": "T3etgOIXQY3G",
    "outputId": "f67ea794-664c-4af6-cecb-2d091f27a957"
   },
   "outputs": [
    {
     "data": {
      "text/plain": [
       "(True, False)"
      ]
     },
     "execution_count": 57,
     "metadata": {},
     "output_type": "execute_result"
    }
   ],
   "source": [
    "#컴퓨터에서 위의 T/F는 true false로 인식하지만, 아래는 아님\n",
    "True, False\n",
    "# true, false\n"
   ]
  },
  {
   "cell_type": "code",
   "execution_count": null,
   "metadata": {
    "colab": {
     "base_uri": "https://localhost:8080/"
    },
    "executionInfo": {
     "elapsed": 4,
     "status": "ok",
     "timestamp": 1721111920045,
     "user": {
      "displayName": "Fullmoon",
      "userId": "09384791820595413483"
     },
     "user_tz": -540
    },
    "id": "rRysz4t4QmCm",
    "outputId": "b313f6ee-b0e5-432c-c8bc-2838c81bc994"
   },
   "outputs": [
    {
     "data": {
      "text/plain": [
       "bool"
      ]
     },
     "execution_count": 59,
     "metadata": {},
     "output_type": "execute_result"
    }
   ],
   "source": [
    "type(True)"
   ]
  },
  {
   "cell_type": "code",
   "execution_count": null,
   "metadata": {
    "colab": {
     "base_uri": "https://localhost:8080/"
    },
    "executionInfo": {
     "elapsed": 300,
     "status": "ok",
     "timestamp": 1721111930476,
     "user": {
      "displayName": "Fullmoon",
      "userId": "09384791820595413483"
     },
     "user_tz": -540
    },
    "id": "RjkXD8HuQ4qa",
    "outputId": "c3ade729-1f07-4da4-a5ce-a26240041f64"
   },
   "outputs": [
    {
     "data": {
      "text/plain": [
       "bool"
      ]
     },
     "execution_count": 60,
     "metadata": {},
     "output_type": "execute_result"
    }
   ],
   "source": [
    "type(False)"
   ]
  },
  {
   "cell_type": "code",
   "execution_count": null,
   "metadata": {
    "colab": {
     "base_uri": "https://localhost:8080/"
    },
    "executionInfo": {
     "elapsed": 300,
     "status": "ok",
     "timestamp": 1721112009744,
     "user": {
      "displayName": "Fullmoon",
      "userId": "09384791820595413483"
     },
     "user_tz": -540
    },
    "id": "jEEtnm07Q-Kt",
    "outputId": "f913562a-e58d-4c63-da50-7cfb94c216e3"
   },
   "outputs": [
    {
     "data": {
      "text/plain": [
       "True"
      ]
     },
     "execution_count": 61,
     "metadata": {},
     "output_type": "execute_result"
    }
   ],
   "source": [
    "\"data_val\".isidentifier()"
   ]
  },
  {
   "cell_type": "code",
   "execution_count": null,
   "metadata": {
    "colab": {
     "base_uri": "https://localhost:8080/"
    },
    "executionInfo": {
     "elapsed": 368,
     "status": "ok",
     "timestamp": 1721112192506,
     "user": {
      "displayName": "Fullmoon",
      "userId": "09384791820595413483"
     },
     "user_tz": -540
    },
    "id": "kK3eIJYnRRcn",
    "outputId": "6c7fe0cb-6954-4729-a853-2a4c77431ca9"
   },
   "outputs": [
    {
     "data": {
      "text/plain": [
       "False"
      ]
     },
     "execution_count": 62,
     "metadata": {},
     "output_type": "execute_result"
    }
   ],
   "source": [
    "#예약어들은 변수로 활용하면 안됨. 미리 약속한 단어들이기 때문에, 기능을 사용하지 못하게 되면 문제가 생기기 때문이다.\n",
    "#isidentifier를 통해 식별자로 활용 가능한지 아닌지를 판단할 수 있다.\n",
    "\"~nums\".isidentifier()"
   ]
  },
  {
   "cell_type": "markdown",
   "metadata": {
    "id": "ZVHZ6lAUR-L7"
   },
   "source": [
    "#파이썬의 네이밍 컨벤션 ( 변수를 만드는 규칙 ) - 그라운드 룰과 유사\n",
    "## 변수\n",
    "- 영어\n",
    "- 영어로+숫자\n",
    "- 워드_워드 : result_val\n",
    "\n",
    "## 함수\n",
    "- 첫워드소문자_첫글자대문자나머지소문자\n",
    " - dataPreprocess\n",
    "\n",
    "## 클래스\n",
    "- DataPreprecess"
   ]
  },
  {
   "cell_type": "markdown",
   "metadata": {
    "id": "m4qzVn24SVmt"
   },
   "source": [
    "문자열 특정기호로 분할"
   ]
  },
  {
   "cell_type": "code",
   "execution_count": null,
   "metadata": {
    "colab": {
     "base_uri": "https://localhost:8080/"
    },
    "executionInfo": {
     "elapsed": 6820,
     "status": "ok",
     "timestamp": 1721112903811,
     "user": {
      "displayName": "Fullmoon",
      "userId": "09384791820595413483"
     },
     "user_tz": -540
    },
    "id": "5nv8sr2QUhVP",
    "outputId": "9e119c40-563c-47d8-bf16-4854c3fc736d"
   },
   "outputs": [
    {
     "name": "stdout",
     "output_type": "stream",
     "text": [
      "숫자 두 개 입력>6 7\n"
     ]
    }
   ],
   "source": [
    "nums = input(\"숫자 두 개 입력>\")"
   ]
  },
  {
   "cell_type": "code",
   "execution_count": null,
   "metadata": {
    "colab": {
     "base_uri": "https://localhost:8080/",
     "height": 35
    },
    "executionInfo": {
     "elapsed": 8,
     "status": "ok",
     "timestamp": 1721112912187,
     "user": {
      "displayName": "Fullmoon",
      "userId": "09384791820595413483"
     },
     "user_tz": -540
    },
    "id": "pQCZZk7ZUqIY",
    "outputId": "d509a684-7eba-4ee6-d38a-e37052913799"
   },
   "outputs": [
    {
     "data": {
      "application/vnd.google.colaboratory.intrinsic+json": {
       "type": "string"
      },
      "text/plain": [
       "'6 7'"
      ]
     },
     "execution_count": 65,
     "metadata": {},
     "output_type": "execute_result"
    }
   ],
   "source": [
    "nums"
   ]
  },
  {
   "cell_type": "code",
   "execution_count": null,
   "metadata": {
    "colab": {
     "base_uri": "https://localhost:8080/",
     "height": 35
    },
    "executionInfo": {
     "elapsed": 4,
     "status": "ok",
     "timestamp": 1721112990190,
     "user": {
      "displayName": "Fullmoon",
      "userId": "09384791820595413483"
     },
     "user_tz": -540
    },
    "id": "w_aNtrotUtvo",
    "outputId": "8669c46e-1bf9-434a-937e-5c2dcde826df"
   },
   "outputs": [
    {
     "data": {
      "application/vnd.google.colaboratory.intrinsic+json": {
       "type": "string"
      },
      "text/plain": [
       "'6'"
      ]
     },
     "execution_count": 66,
     "metadata": {},
     "output_type": "execute_result"
    }
   ],
   "source": [
    "nums[0]"
   ]
  },
  {
   "cell_type": "code",
   "execution_count": null,
   "metadata": {
    "colab": {
     "base_uri": "https://localhost:8080/",
     "height": 35
    },
    "executionInfo": {
     "elapsed": 288,
     "status": "ok",
     "timestamp": 1721112993949,
     "user": {
      "displayName": "Fullmoon",
      "userId": "09384791820595413483"
     },
     "user_tz": -540
    },
    "id": "Taojg48_VA5q",
    "outputId": "090e61e8-f06d-42c6-9727-cd81000e2c9f"
   },
   "outputs": [
    {
     "data": {
      "application/vnd.google.colaboratory.intrinsic+json": {
       "type": "string"
      },
      "text/plain": [
       "' '"
      ]
     },
     "execution_count": 67,
     "metadata": {},
     "output_type": "execute_result"
    }
   ],
   "source": [
    "nums[1]"
   ]
  },
  {
   "cell_type": "code",
   "execution_count": null,
   "metadata": {
    "colab": {
     "base_uri": "https://localhost:8080/",
     "height": 35
    },
    "executionInfo": {
     "elapsed": 9,
     "status": "ok",
     "timestamp": 1721112996447,
     "user": {
      "displayName": "Fullmoon",
      "userId": "09384791820595413483"
     },
     "user_tz": -540
    },
    "id": "67OyCc9wVBxs",
    "outputId": "ef3380cd-dc49-4e51-ee83-3e975e6f7724"
   },
   "outputs": [
    {
     "data": {
      "application/vnd.google.colaboratory.intrinsic+json": {
       "type": "string"
      },
      "text/plain": [
       "'7'"
      ]
     },
     "execution_count": 68,
     "metadata": {},
     "output_type": "execute_result"
    }
   ],
   "source": [
    "nums[2]"
   ]
  },
  {
   "cell_type": "code",
   "execution_count": null,
   "metadata": {
    "colab": {
     "base_uri": "https://localhost:8080/"
    },
    "executionInfo": {
     "elapsed": 299,
     "status": "ok",
     "timestamp": 1721113007360,
     "user": {
      "displayName": "Fullmoon",
      "userId": "09384791820595413483"
     },
     "user_tz": -540
    },
    "id": "u6btpblzVChh",
    "outputId": "458e70f8-8725-4ff4-8e6c-12d4edcc7100"
   },
   "outputs": [
    {
     "data": {
      "text/plain": [
       "['6', '7']"
      ]
     },
     "execution_count": 69,
     "metadata": {},
     "output_type": "execute_result"
    }
   ],
   "source": [
    "nums.split(\" \")"
   ]
  },
  {
   "cell_type": "code",
   "execution_count": null,
   "metadata": {
    "colab": {
     "base_uri": "https://localhost:8080/"
    },
    "executionInfo": {
     "elapsed": 6,
     "status": "ok",
     "timestamp": 1721113016541,
     "user": {
      "displayName": "Fullmoon",
      "userId": "09384791820595413483"
     },
     "user_tz": -540
    },
    "id": "bRWN1rn_VFJS",
    "outputId": "7890991c-a315-484e-f981-ae5694972d36"
   },
   "outputs": [
    {
     "data": {
      "text/plain": [
       "['6', '7']"
      ]
     },
     "execution_count": 70,
     "metadata": {},
     "output_type": "execute_result"
    }
   ],
   "source": [
    "nums.split()"
   ]
  },
  {
   "cell_type": "code",
   "execution_count": null,
   "metadata": {
    "colab": {
     "base_uri": "https://localhost:8080/"
    },
    "executionInfo": {
     "elapsed": 4493,
     "status": "ok",
     "timestamp": 1721113100957,
     "user": {
      "displayName": "Fullmoon",
      "userId": "09384791820595413483"
     },
     "user_tz": -540
    },
    "id": "CTGrcFmFVHVq",
    "outputId": "5a1e3a3a-2177-431c-c28d-c2b38bef8bd1"
   },
   "outputs": [
    {
     "name": "stdout",
     "output_type": "stream",
     "text": [
      "숫자 두개 입력1,2\n"
     ]
    }
   ],
   "source": [
    "nums = input(\"숫자 두개 입력\")"
   ]
  },
  {
   "cell_type": "code",
   "execution_count": null,
   "metadata": {
    "colab": {
     "base_uri": "https://localhost:8080/"
    },
    "executionInfo": {
     "elapsed": 5,
     "status": "ok",
     "timestamp": 1721113123172,
     "user": {
      "displayName": "Fullmoon",
      "userId": "09384791820595413483"
     },
     "user_tz": -540
    },
    "id": "jMnhoMSoVa-C",
    "outputId": "bee49c7c-86fc-47b4-9168-466c009f26d6"
   },
   "outputs": [
    {
     "data": {
      "text/plain": [
       "['1', '2']"
      ]
     },
     "execution_count": 74,
     "metadata": {},
     "output_type": "execute_result"
    }
   ],
   "source": [
    "nums.split(\",\")"
   ]
  },
  {
   "cell_type": "code",
   "execution_count": null,
   "metadata": {
    "colab": {
     "base_uri": "https://localhost:8080/"
    },
    "executionInfo": {
     "elapsed": 5900,
     "status": "ok",
     "timestamp": 1721113366000,
     "user": {
      "displayName": "Fullmoon",
      "userId": "09384791820595413483"
     },
     "user_tz": -540
    },
    "id": "hrcol3fCVe4X",
    "outputId": "e418edb6-75ca-4720-ccb4-e2e466322c78"
   },
   "outputs": [
    {
     "name": "stdout",
     "output_type": "stream",
     "text": [
      "숫자 두 개 입력 콤마와 함께1, 2\n"
     ]
    }
   ],
   "source": [
    "nums = input(\"숫자 두 개 입력 콤마와 함께\")"
   ]
  },
  {
   "cell_type": "code",
   "execution_count": null,
   "metadata": {
    "colab": {
     "base_uri": "https://localhost:8080/"
    },
    "executionInfo": {
     "elapsed": 10,
     "status": "ok",
     "timestamp": 1721113412746,
     "user": {
      "displayName": "Fullmoon",
      "userId": "09384791820595413483"
     },
     "user_tz": -540
    },
    "id": "R87gluAXWZgP",
    "outputId": "5a54d9f4-a5a4-4611-bec0-d57a577c592e"
   },
   "outputs": [
    {
     "name": "stdout",
     "output_type": "stream",
     "text": [
      "1\n",
      "2\n"
     ]
    }
   ],
   "source": [
    "#Casting을 하면 자동으로 공백이 제거됨(?)\n",
    "#',' 는 split()의 전달인자 (Argument)\n",
    "result = nums.split(',')\n",
    "print(int(result[0]))\n",
    "print(int(result[1]))"
   ]
  },
  {
   "cell_type": "markdown",
   "metadata": {
    "id": "wB3lnTk9WoG2"
   },
   "source": [
    "문제 2 두 수를 입력받아서 사칙연산, 나머지, 몫 구해서 출력\n",
    "두 수를 한번에 \",\"로 구분하여 입력 받기\n",
    "입력 받은 두 수를 사칙연산, 나머지, 몫 구해서 출력\n",
    "두 수는 정수, 실수 모두 가능함\n"
   ]
  },
  {
   "cell_type": "code",
   "execution_count": null,
   "metadata": {
    "colab": {
     "base_uri": "https://localhost:8080/"
    },
    "executionInfo": {
     "elapsed": 14979,
     "status": "ok",
     "timestamp": 1721114441005,
     "user": {
      "displayName": "Fullmoon",
      "userId": "09384791820595413483"
     },
     "user_tz": -540
    },
    "id": "uldg77KuZoVz",
    "outputId": "ffcc2c20-8b09-4613-de52-1b936020d3b1"
   },
   "outputs": [
    {
     "name": "stdout",
     "output_type": "stream",
     "text": [
      "두 수를 입력하세요4, 20\n"
     ]
    }
   ],
   "source": [
    "hello = input(\"두 수를 입력하세요\")"
   ]
  },
  {
   "cell_type": "code",
   "execution_count": null,
   "metadata": {
    "colab": {
     "base_uri": "https://localhost:8080/"
    },
    "executionInfo": {
     "elapsed": 354,
     "status": "ok",
     "timestamp": 1721114448248,
     "user": {
      "displayName": "Fullmoon",
      "userId": "09384791820595413483"
     },
     "user_tz": -540
    },
    "id": "FNgmZFBkafkV",
    "outputId": "b0b79700-ef2e-407e-f6e0-cce0384b233b"
   },
   "outputs": [
    {
     "name": "stdout",
     "output_type": "stream",
     "text": [
      "4, 20\n"
     ]
    }
   ],
   "source": [
    "print(hello)"
   ]
  },
  {
   "cell_type": "code",
   "execution_count": null,
   "metadata": {
    "colab": {
     "base_uri": "https://localhost:8080/"
    },
    "executionInfo": {
     "elapsed": 299,
     "status": "ok",
     "timestamp": 1721114495321,
     "user": {
      "displayName": "Fullmoon",
      "userId": "09384791820595413483"
     },
     "user_tz": -540
    },
    "id": "DPfxC5-hakxl",
    "outputId": "e2b01edf-57fa-439f-d1d5-db5c4a0cd732"
   },
   "outputs": [
    {
     "data": {
      "text/plain": [
       "['4', ' 20']"
      ]
     },
     "execution_count": 80,
     "metadata": {},
     "output_type": "execute_result"
    }
   ],
   "source": [
    "hello.split(\",\")"
   ]
  },
  {
   "cell_type": "code",
   "execution_count": null,
   "metadata": {
    "colab": {
     "base_uri": "https://localhost:8080/"
    },
    "executionInfo": {
     "elapsed": 394,
     "status": "ok",
     "timestamp": 1721114994275,
     "user": {
      "displayName": "Fullmoon",
      "userId": "09384791820595413483"
     },
     "user_tz": -540
    },
    "id": "8NHNxfjAcpkI",
    "outputId": "abce55a2-ec0b-4374-dd1c-f361eda6bfc3"
   },
   "outputs": [
    {
     "name": "stdout",
     "output_type": "stream",
     "text": [
      "4, 20\n"
     ]
    }
   ],
   "source": [
    "print(hello)"
   ]
  },
  {
   "cell_type": "code",
   "execution_count": 88,
   "metadata": {
    "colab": {
     "base_uri": "https://localhost:8080/"
    },
    "executionInfo": {
     "elapsed": 298,
     "status": "ok",
     "timestamp": 1721115198277,
     "user": {
      "displayName": "Fullmoon",
      "userId": "09384791820595413483"
     },
     "user_tz": -540
    },
    "id": "YBpur65kc67y",
    "outputId": "1766c7d0-2f16-4f59-e1f1-da8cded2fdc3"
   },
   "outputs": [
    {
     "data": {
      "text/plain": [
       "['4', ' 20']"
      ]
     },
     "execution_count": 88,
     "metadata": {},
     "output_type": "execute_result"
    }
   ],
   "source": [
    "hello.split(\",\")"
   ]
  },
  {
   "cell_type": "code",
   "execution_count": 93,
   "metadata": {
    "colab": {
     "base_uri": "https://localhost:8080/"
    },
    "executionInfo": {
     "elapsed": 289,
     "status": "ok",
     "timestamp": 1721115273854,
     "user": {
      "displayName": "Fullmoon",
      "userId": "09384791820595413483"
     },
     "user_tz": -540
    },
    "id": "SjzMeqP_ddmR",
    "outputId": "5cbccfbb-1a9f-477f-cf3c-d8b806e54638"
   },
   "outputs": [
    {
     "name": "stdout",
     "output_type": "stream",
     "text": [
      "['4', ' 20']\n"
     ]
    }
   ],
   "source": [
    "print(hello)"
   ]
  },
  {
   "cell_type": "code",
   "execution_count": 96,
   "metadata": {
    "executionInfo": {
     "elapsed": 5,
     "status": "ok",
     "timestamp": 1721115330276,
     "user": {
      "displayName": "Fullmoon",
      "userId": "09384791820595413483"
     },
     "user_tz": -540
    },
    "id": "OshJS--UdzJk"
   },
   "outputs": [],
   "source": [
    "hello[0] = int(hello[0])\n",
    "hello[1] = int(hello[1])"
   ]
  },
  {
   "cell_type": "code",
   "execution_count": 100,
   "metadata": {
    "colab": {
     "base_uri": "https://localhost:8080/"
    },
    "executionInfo": {
     "elapsed": 290,
     "status": "ok",
     "timestamp": 1721115592241,
     "user": {
      "displayName": "Fullmoon",
      "userId": "09384791820595413483"
     },
     "user_tz": -540
    },
    "id": "Qkh5K4ftawaK",
    "outputId": "5855583a-fb00-412a-d57b-63220cf233b9"
   },
   "outputs": [
    {
     "name": "stdout",
     "output_type": "stream",
     "text": [
      "4 20 24\n",
      "4 20 -16\n",
      "4 20 80\n",
      "4 20 0.2\n",
      "4 20 4\n",
      "4 20 0\n"
     ]
    }
   ],
   "source": [
    "format_hello_add = \"{} {} {}\".format(hello[0],hello[1],hello[0] + hello[1])\n",
    "format_hello_sub = \"{} {} {}\".format(hello[0],hello[1],hello[0] - hello[1])\n",
    "format_hello_times = \"{} {} {}\".format(hello[0],hello[1],hello[0] * hello[1])\n",
    "format_hello_divide = \"{} {} {}\".format(hello[0],hello[1],hello[0] / hello[1])\n",
    "format_hello_remain = \"{} {} {}\".format(hello[0],hello[1],hello[0] % hello[1])\n",
    "format_hello_share = \"{} {} {}\".format(hello[0],hello[1],hello[0] // hello[1])\n",
    "\n",
    "print(format_hello_add)\n",
    "print(format_hello_sub)\n",
    "print(format_hello_times)\n",
    "print(format_hello_divide)\n",
    "print(format_hello_remain)\n",
    "print(format_hello_share)"
   ]
  },
  {
   "cell_type": "code",
   "execution_count": 101,
   "metadata": {
    "colab": {
     "base_uri": "https://localhost:8080/"
    },
    "executionInfo": {
     "elapsed": 286,
     "status": "ok",
     "timestamp": 1721117712052,
     "user": {
      "displayName": "Fullmoon",
      "userId": "09384791820595413483"
     },
     "user_tz": -540
    },
    "id": "l-XlhlG6mPV8",
    "outputId": "021bf27e-a690-4390-a0f0-a6076a2a20ae"
   },
   "outputs": [
    {
     "name": "stdout",
     "output_type": "stream",
     "text": [
      "4 + 20 = 24\n",
      "4 - 20 = -16\n",
      "4 * 20 = 80\n",
      "4 / 20 = 0.2\n",
      "4 % 20 = 4\n",
      "4 // 20 = 0\n"
     ]
    }
   ],
   "source": [
    "print(f\"{hello[0]} + {hello[1]} = {hello[0] + hello[1]}\")\n",
    "print(f\"{hello[0]} - {hello[1]} = {hello[0] - hello[1]}\")\n",
    "print(f\"{hello[0]} * {hello[1]} = {hello[0] * hello[1]}\")\n",
    "print(f\"{hello[0]} / {hello[1]} = {hello[0] / hello[1]}\")\n",
    "print(f\"{hello[0]} % {hello[1]} = {hello[0] % hello[1]}\")\n",
    "print(f\"{hello[0]} // {hello[1]} = {hello[0] // hello[1]}\")"
   ]
  },
  {
   "cell_type": "markdown",
   "metadata": {
    "id": "6Qt7ANSwfnWH"
   },
   "source": [
    "문제 3\n",
    "입력값이 숫자만, 문자로만, 숫자와문자로 이뤄져 있는지 판단하기\\n\n",
    "파이썬 조건문을 인터넷에서 검색해서 해결하기\n",
    "문자만 있으면 문자만 있습니다. 출력\n",
    "숫자만 있으면 숫자만 있습니다.\n",
    "숫자,문자로 구성되어 있으면 숫자 문자 모두 있습니다."
   ]
  },
  {
   "cell_type": "code",
   "execution_count": 104,
   "metadata": {
    "colab": {
     "base_uri": "https://localhost:8080/"
    },
    "executionInfo": {
     "elapsed": 372,
     "status": "ok",
     "timestamp": 1721117996035,
     "user": {
      "displayName": "Fullmoon",
      "userId": "09384791820595413483"
     },
     "user_tz": -540
    },
    "id": "k9dG_RUBeDFW",
    "outputId": "fa8cc042-1dd6-47df-9166-399a3fb740e2"
   },
   "outputs": [
    {
     "data": {
      "text/plain": [
       "False"
      ]
     },
     "execution_count": 104,
     "metadata": {},
     "output_type": "execute_result"
    }
   ],
   "source": [
    "money = False\n",
    "money"
   ]
  },
  {
   "cell_type": "code",
   "execution_count": 105,
   "metadata": {
    "colab": {
     "base_uri": "https://localhost:8080/"
    },
    "executionInfo": {
     "elapsed": 6,
     "status": "ok",
     "timestamp": 1721117996339,
     "user": {
      "displayName": "Fullmoon",
      "userId": "09384791820595413483"
     },
     "user_tz": -540
    },
    "id": "ufM7369Dcb5a",
    "outputId": "5b19b2b2-5a16-4ff8-9da9-e90e976f7653"
   },
   "outputs": [
    {
     "name": "stdout",
     "output_type": "stream",
     "text": [
      "Walk\n"
     ]
    }
   ],
   "source": [
    "#일반적으로 ==True는 생략됨\n",
    "# :는 서브로 들어가는 문장이 있다는 의미 (문장의 끝이 아님)\n",
    "# ! << 참, 거짓의 반대\n",
    "\n",
    "if money==True:\n",
    "  print(\"Ride a Taxi\")\n",
    "else:\n",
    "  print(\"Walk\")"
   ]
  },
  {
   "cell_type": "code",
   "execution_count": 109,
   "metadata": {
    "colab": {
     "base_uri": "https://localhost:8080/",
     "height": 110
    },
    "executionInfo": {
     "elapsed": 305,
     "status": "error",
     "timestamp": 1721118301480,
     "user": {
      "displayName": "Fullmoon",
      "userId": "09384791820595413483"
     },
     "user_tz": -540
    },
    "id": "pFDK5TvnotvO",
    "outputId": "c343c895-4276-4d5c-b6e0-6e60ab05f1a7"
   },
   "outputs": [
    {
     "ename": "SyntaxError",
     "evalue": "invalid syntax (<ipython-input-109-1563298fd550>, line 4)",
     "output_type": "error",
     "traceback": [
      "\u001b[0;36m  File \u001b[0;32m\"<ipython-input-109-1563298fd550>\"\u001b[0;36m, line \u001b[0;32m4\u001b[0m\n\u001b[0;31m    if !money\u001b[0m\n\u001b[0m       ^\u001b[0m\n\u001b[0;31mSyntaxError\u001b[0m\u001b[0;31m:\u001b[0m invalid syntax\n"
     ]
    }
   ],
   "source": [
    "#If문 두 개와 else는 CPU 용량 차이가 난다.\n",
    "if money:\n",
    "  print(\"Ride a Taxi\")\n",
    "if !money\n",
    "  print(\"Walk\")"
   ]
  },
  {
   "cell_type": "code",
   "execution_count": 117,
   "metadata": {
    "colab": {
     "base_uri": "https://localhost:8080/"
    },
    "executionInfo": {
     "elapsed": 279,
     "status": "ok",
     "timestamp": 1721118875257,
     "user": {
      "displayName": "Fullmoon",
      "userId": "09384791820595413483"
     },
     "user_tz": -540
    },
    "id": "MlQexwSMqh2X",
    "outputId": "4afa01c5-1d6f-4af7-e84f-385729a3e80a"
   },
   "outputs": [
    {
     "name": "stdout",
     "output_type": "stream",
     "text": [
      "False\n",
      "True\n",
      "False\n",
      "True\n",
      "True\n"
     ]
    }
   ],
   "source": [
    "#대입연산자\n",
    "money = 1000\n",
    "#비교연산자  > , == , <\n",
    "print(money > 4000)\n",
    "print(money < 4000)\n",
    "print(money >= 4000)\n",
    "print(money <= 4000)\n",
    "print(money == 1000)\n"
   ]
  },
  {
   "cell_type": "code",
   "execution_count": 116,
   "metadata": {
    "colab": {
     "base_uri": "https://localhost:8080/"
    },
    "executionInfo": {
     "elapsed": 284,
     "status": "ok",
     "timestamp": 1721118680100,
     "user": {
      "displayName": "Fullmoon",
      "userId": "09384791820595413483"
     },
     "user_tz": -540
    },
    "id": "FRvtICwXpWwc",
    "outputId": "8ebd25b5-a86a-4389-f24a-7c56a46ec9fb"
   },
   "outputs": [
    {
     "name": "stdout",
     "output_type": "stream",
     "text": [
      "Subway\n"
     ]
    }
   ],
   "source": [
    "#큰 값부터 계산해야 먹히지 않는다 (선생님 표현)\n",
    "# if문의 조건에 맞지 않는다면 스킵하고 연산을 진행함.\n",
    "\n",
    "money = 3000\n",
    "if money > 4000 :\n",
    "  print(\"Ride a Taxi\")\n",
    "elif money >= 2000 :\n",
    "  print(\"Subway\")\n",
    "else :\n",
    "  print(\"Walk\")"
   ]
  },
  {
   "cell_type": "code",
   "execution_count": 127,
   "metadata": {
    "colab": {
     "base_uri": "https://localhost:8080/"
    },
    "executionInfo": {
     "elapsed": 6335,
     "status": "ok",
     "timestamp": 1721119401793,
     "user": {
      "displayName": "Fullmoon",
      "userId": "09384791820595413483"
     },
     "user_tz": -540
    },
    "id": "6ZCFxFARp9J9",
    "outputId": "d32ff3fa-2fff-4c1f-8415-66be18a48bd9"
   },
   "outputs": [
    {
     "name": "stdout",
     "output_type": "stream",
     "text": [
      "1231231ㅎㅇㅎㅇ\n",
      "숫자 문자 모두 있습니다.\n"
     ]
    }
   ],
   "source": [
    "# <<를 이용해서 여러 경우의 수를 저장하고, 이를 순차적으로 테스트해보는 방법이 있음\n",
    "# 스페이스는 사용한 Method에서는 특수문자로 인식하는 것으로 보임.\n",
    "\n",
    "sentence = input()\n",
    "if sentence.isnumeric() :\n",
    "  print(\"숫자만 있습니다.\")\n",
    "elif sentence.isalpha() :\n",
    "  print(\"문자만 있습니다.\")\n",
    "elif sentence.isalnum() :\n",
    "  print(\"숫자 문자 모두 있습니다.\")\n",
    "else :\n",
    "  print(\"나머지 경우의 수\")"
   ]
  },
  {
   "cell_type": "code",
   "execution_count": 127,
   "metadata": {
    "executionInfo": {
     "elapsed": 3,
     "status": "ok",
     "timestamp": 1721119402107,
     "user": {
      "displayName": "Fullmoon",
      "userId": "09384791820595413483"
     },
     "user_tz": -540
    },
    "id": "1bNiZdDFsJeC"
   },
   "outputs": [],
   "source": []
  }
 ],
 "metadata": {
  "colab": {
   "authorship_tag": "ABX9TyOInvxUC6cBN8BsxPdcOtXo",
   "provenance": []
  },
  "kernelspec": {
   "display_name": "Python 3 (ipykernel)",
   "language": "python",
   "name": "python3"
  },
  "language_info": {
   "codemirror_mode": {
    "name": "ipython",
    "version": 3
   },
   "file_extension": ".py",
   "mimetype": "text/x-python",
   "name": "python",
   "nbconvert_exporter": "python",
   "pygments_lexer": "ipython3",
   "version": "3.10.9"
  }
 },
 "nbformat": 4,
 "nbformat_minor": 4
}
