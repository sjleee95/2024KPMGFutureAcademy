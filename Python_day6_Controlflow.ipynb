{
  "nbformat": 4,
  "nbformat_minor": 0,
  "metadata": {
    "colab": {
      "provenance": [],
      "authorship_tag": "ABX9TyOZhJQl54NvujL5WKi+k0MU",
      "include_colab_link": true
    },
    "kernelspec": {
      "name": "python3",
      "display_name": "Python 3"
    },
    "language_info": {
      "name": "python"
    }
  },
  "cells": [
    {
      "cell_type": "markdown",
      "metadata": {
        "id": "view-in-github",
        "colab_type": "text"
      },
      "source": [
        "<a href=\"https://colab.research.google.com/github/sjleee95/2024KPMGFutureAcademy/blob/main/Python_day6_Controlflow.ipynb\" target=\"_parent\"><img src=\"https://colab.research.google.com/assets/colab-badge.svg\" alt=\"Open In Colab\"/></a>"
      ]
    },
    {
      "cell_type": "markdown",
      "source": [
        "###While문\n",
        "\n",
        "무한루프에 안걸리는게 중요해!"
      ],
      "metadata": {
        "id": "8yw3CQy_FP4K"
      }
    },
    {
      "cell_type": "code",
      "source": [
        "while 조건이 참일동안 :\n",
        "  #구문 실행\n",
        "  #참이 아니면 빠져나간다"
      ],
      "metadata": {
        "id": "QZ3e3KZXFPKq"
      },
      "execution_count": null,
      "outputs": []
    },
    {
      "cell_type": "code",
      "execution_count": null,
      "metadata": {
        "colab": {
          "base_uri": "https://localhost:8080/",
          "height": 110
        },
        "id": "fdCaHflqFMnL",
        "outputId": "0d5b33d5-07dd-45a6-b88e-66675f24c5e5"
      },
      "outputs": [
        {
          "output_type": "error",
          "ename": "SyntaxError",
          "evalue": "invalid syntax (<ipython-input-5-b2f9ece58d4a>, line 2)",
          "traceback": [
            "\u001b[0;36m  File \u001b[0;32m\"<ipython-input-5-b2f9ece58d4a>\"\u001b[0;36m, line \u001b[0;32m2\u001b[0m\n\u001b[0;31m    하면 무한루프\u001b[0m\n\u001b[0m       ^\u001b[0m\n\u001b[0;31mSyntaxError\u001b[0m\u001b[0;31m:\u001b[0m invalid syntax\n"
          ]
        }
      ],
      "source": [
        "while True:\n",
        " 하면 무한루프"
      ]
    },
    {
      "cell_type": "code",
      "source": [
        "cnt = 1\n",
        "while cnt<=10:\n",
        "  print(f\"{cnt} : 맛좋은커피\")\n",
        "  cnt = cnt + 1"
      ],
      "metadata": {
        "id": "qKi_jY7vFuLm",
        "colab": {
          "base_uri": "https://localhost:8080/"
        },
        "outputId": "05306674-9a1b-436a-dd8b-4a0c004f1a95"
      },
      "execution_count": null,
      "outputs": [
        {
          "output_type": "stream",
          "name": "stdout",
          "text": [
            "1 : 맛좋은커피\n",
            "2 : 맛좋은커피\n",
            "3 : 맛좋은커피\n",
            "4 : 맛좋은커피\n",
            "5 : 맛좋은커피\n",
            "6 : 맛좋은커피\n",
            "7 : 맛좋은커피\n",
            "8 : 맛좋은커피\n",
            "9 : 맛좋은커피\n",
            "10 : 맛좋은커피\n"
          ]
        }
      ]
    },
    {
      "cell_type": "markdown",
      "source": [
        "#while - ~하는 동안 구동\n",
        "#break - 빠져나가버리는 것\n",
        "#continue - 반복문 처음으로 돌아가는 것"
      ],
      "metadata": {
        "id": "DGeFO-uZHRod"
      }
    },
    {
      "cell_type": "code",
      "source": [
        "#상태를 기반으로 반복하기\n",
        "\n",
        "list_test = [1, 2, 1, 2]\n",
        "value = 2\n",
        "\n",
        "while value in list_test:\n",
        "  list_test.remove(value)\n",
        "\n",
        "print(list_test)"
      ],
      "metadata": {
        "colab": {
          "base_uri": "https://localhost:8080/"
        },
        "id": "_RMER0RgGciJ",
        "outputId": "6f413093-542e-4925-ac5d-cdfa68ad1c81"
      },
      "execution_count": null,
      "outputs": [
        {
          "output_type": "stream",
          "name": "stdout",
          "text": [
            "[1, 1]\n"
          ]
        }
      ]
    },
    {
      "cell_type": "code",
      "source": [
        "#유닉스 타임 구하기  << 정확히 무엇이 반복되었는지 모르겠음.\n",
        "\n",
        "import time\n",
        "\n",
        "number = 0\n",
        "\n",
        "target_tick = time.time() + 5\n",
        "while time.time() < target_tick:\n",
        "  number += 1\n",
        "\n",
        "print(\"5초 동안 {}번 반복하였습니다.\".format(number))"
      ],
      "metadata": {
        "colab": {
          "base_uri": "https://localhost:8080/"
        },
        "id": "CIB_GN3pIQyj",
        "outputId": "12cb25e4-4538-40c8-c21c-150168ab0369"
      },
      "execution_count": null,
      "outputs": [
        {
          "output_type": "stream",
          "name": "stdout",
          "text": [
            "5초 동안 18939118번 반복하였습니다.\n"
          ]
        }
      ]
    },
    {
      "cell_type": "code",
      "source": [
        "#break 키워드\n",
        "\n",
        "i = 0\n",
        "\n",
        "while True:\n",
        "  print(\"{}번째 반복문입니다.\".format(i))\n",
        "  i = i + 1\n",
        "\n",
        "  input_text = input(\">종료하시겠습니까?(y):\")\n",
        "  if input_text in [\"y\", \"Y\"]:\n",
        "    print(\"반복을 종료합니다.\")\n",
        "    break"
      ],
      "metadata": {
        "colab": {
          "base_uri": "https://localhost:8080/"
        },
        "id": "-_7gd6BnIwQY",
        "outputId": "2d51f1a2-2f7f-4a56-e36c-4e4af542fa4d"
      },
      "execution_count": null,
      "outputs": [
        {
          "output_type": "stream",
          "name": "stdout",
          "text": [
            "0번째 반복문입니다.\n",
            ">종료하시겠습니까?(y):n\n",
            ">종료하시겠습니까?(y):\n",
            "1번째 반복문입니다.\n",
            "2번째 반복문입니다.\n",
            ">종료하시겠습니까?(y):n\n",
            "3번째 반복문입니다.\n",
            ">종료하시겠습니까?(y):n\n",
            "4번째 반복문입니다.\n",
            ">종료하시겠습니까?(y):n\n",
            "5번째 반복문입니다.\n",
            ">종료하시겠습니까?(y):n\n",
            "6번째 반복문입니다.\n",
            ">종료하시겠습니까?(y):n\n",
            "7번째 반복문입니다.\n",
            ">종료하시겠습니까?(y):y\n",
            "반복을 종료합니다.\n"
          ]
        }
      ]
    },
    {
      "cell_type": "code",
      "source": [
        "#continue 키워드\n",
        "\n",
        "numbers = [ 5, 15, 6, 20, 7, 25]\n",
        "\n",
        "for number in numbers:\n",
        "  if number <10:\n",
        "    continue\n",
        "\n",
        "  print(number)"
      ],
      "metadata": {
        "colab": {
          "base_uri": "https://localhost:8080/"
        },
        "id": "5TAH7kO5JRV8",
        "outputId": "89e1ab7c-22c8-46c4-bd8c-40211d96c17d"
      },
      "execution_count": null,
      "outputs": [
        {
          "output_type": "stream",
          "name": "stdout",
          "text": [
            "15\n",
            "20\n",
            "25\n"
          ]
        }
      ]
    },
    {
      "cell_type": "code",
      "source": [
        "##확인문제 1\n",
        "\n",
        "print(list(range(4,6)))\n",
        "print(list(range(7,0,-1)))\n",
        "print(list(range(3,8)))\n",
        "print(list(range(3,10,3)))"
      ],
      "metadata": {
        "colab": {
          "base_uri": "https://localhost:8080/"
        },
        "id": "P8ykfAm3JhiO",
        "outputId": "71b20cd4-23cb-435a-ba78-4aef6d83f072"
      },
      "execution_count": null,
      "outputs": [
        {
          "output_type": "stream",
          "name": "stdout",
          "text": [
            "[4, 5]\n",
            "[7, 6, 5, 4, 3, 2, 1]\n",
            "[3, 4, 5, 6, 7]\n",
            "[3, 6, 9]\n"
          ]
        }
      ]
    },
    {
      "cell_type": "code",
      "source": [
        "##확인문제 2\n",
        "# 10000을 넘는지 -  이상이니 부등호 제대로 진행하자.\n",
        "\n",
        "limit = 10000\n",
        "i = 1\n",
        "sum_value = 0\n",
        "\n",
        "while sum_value <= limit:\n",
        "  sum_value = i + sum_value\n",
        "  #or sum_value += i\n",
        "  i = i+1\n",
        "  #or i +=1\n",
        "\n",
        "print(\"{}까지 더할 때 {}를 넘으며 그때의 값은 {}입니다.\".format(i, limit, sum_value))"
      ],
      "metadata": {
        "colab": {
          "base_uri": "https://localhost:8080/"
        },
        "id": "IV_-rSRcJ5M1",
        "outputId": "d20b713e-39c5-45b4-d223-0373b45ededd"
      },
      "execution_count": null,
      "outputs": [
        {
          "output_type": "stream",
          "name": "stdout",
          "text": [
            "142까지 더할 때 10000를 넘으며 그때의 값은 10011입니다.\n"
          ]
        }
      ]
    },
    {
      "cell_type": "code",
      "source": [
        "#응용\n",
        "#누적 곱, 처음으로 10000을 넘어가는 i, 누적값 구하기\n",
        "\n",
        "limit = 10000\n",
        "i = 1\n",
        "gop_value = 1\n",
        "\n",
        "while gop_value <= limit:\n",
        "  gop_value = i*gop_value\n",
        "  i = i+1\n",
        "\n",
        "print(\"{}까지 곱할 때 {}를 넘으며 그 때의 값은 {}입니다.\".format(i, limit, gop_value))"
      ],
      "metadata": {
        "colab": {
          "base_uri": "https://localhost:8080/"
        },
        "id": "XNq8VsYBSXku",
        "outputId": "b8610a1d-8caa-4646-ba8c-dffc159a2756"
      },
      "execution_count": null,
      "outputs": [
        {
          "output_type": "stream",
          "name": "stdout",
          "text": [
            "9까지 곱할 때 10000를 넘으며 그 때의 값은 40320입니다.\n"
          ]
        }
      ]
    },
    {
      "cell_type": "code",
      "source": [
        "from os import name\n",
        "##확인문제2 for 사용 풀이 << ㅋㅋ 넘 어렵다ㅠ\n",
        "#증가할 변수\n",
        "i = 1\n",
        "#누적합 변수 초기화\n",
        "sum_val = 0\n",
        "nam = 1\n",
        "\n",
        "for nam in range(1,x):\n",
        "  if nam <= 10000\n",
        "  i + nam\n"
      ],
      "metadata": {
        "id": "xZLulmCWMnxh"
      },
      "execution_count": null,
      "outputs": []
    },
    {
      "cell_type": "markdown",
      "source": [
        "###복합대입연산자"
      ],
      "metadata": {
        "id": "1xUCDhl7TNZR"
      }
    },
    {
      "cell_type": "code",
      "source": [
        "a = 2\n",
        "a"
      ],
      "metadata": {
        "colab": {
          "base_uri": "https://localhost:8080/"
        },
        "id": "oSB1ZeFfTOs3",
        "outputId": "294f8aaa-8ae0-400a-8825-8fb987fdb6a4"
      },
      "execution_count": null,
      "outputs": [
        {
          "output_type": "execute_result",
          "data": {
            "text/plain": [
              "2"
            ]
          },
          "metadata": {},
          "execution_count": 27
        }
      ]
    },
    {
      "cell_type": "code",
      "source": [
        "\n",
        "a =+ 1\n",
        "a"
      ],
      "metadata": {
        "colab": {
          "base_uri": "https://localhost:8080/"
        },
        "id": "zjwKKjecTPGJ",
        "outputId": "151562ca-c91d-4774-95e3-be1c8254757a"
      },
      "execution_count": null,
      "outputs": [
        {
          "output_type": "execute_result",
          "data": {
            "text/plain": [
              "1"
            ]
          },
          "metadata": {},
          "execution_count": 34
        }
      ]
    },
    {
      "cell_type": "code",
      "source": [
        "# a+1 연산을 해서 a에 대입\n",
        "a += 1\n",
        "a"
      ],
      "metadata": {
        "colab": {
          "base_uri": "https://localhost:8080/"
        },
        "id": "zPGuoFL9TjHq",
        "outputId": "57809051-5ce3-43e3-fe07-06320ea84fa2"
      },
      "execution_count": null,
      "outputs": [
        {
          "output_type": "execute_result",
          "data": {
            "text/plain": [
              "5"
            ]
          },
          "metadata": {},
          "execution_count": 32
        }
      ]
    },
    {
      "cell_type": "code",
      "source": [
        "#요소 갯수가 안맞으면 버려지는 정보\n",
        "a = ['a', 'b','c','d']\n",
        "b = [1,2,3,4,5]\n",
        "c =zip(a,b)\n",
        "type(c)"
      ],
      "metadata": {
        "colab": {
          "base_uri": "https://localhost:8080/"
        },
        "id": "8uD3zE9UVunC",
        "outputId": "8bcef47d-a1a1-4e1d-d497-c579987da614"
      },
      "execution_count": null,
      "outputs": [
        {
          "output_type": "execute_result",
          "data": {
            "text/plain": [
              "zip"
            ]
          },
          "metadata": {},
          "execution_count": 38
        }
      ]
    },
    {
      "cell_type": "code",
      "source": [
        "c"
      ],
      "metadata": {
        "colab": {
          "base_uri": "https://localhost:8080/"
        },
        "id": "0F3YWjYBTlJG",
        "outputId": "b42c69be-a038-4878-bf90-1d3ffdcdb2c4"
      },
      "execution_count": null,
      "outputs": [
        {
          "output_type": "execute_result",
          "data": {
            "text/plain": [
              "<zip at 0x7fda11c18540>"
            ]
          },
          "metadata": {},
          "execution_count": 39
        }
      ]
    },
    {
      "cell_type": "code",
      "source": [
        "#for 문에서도 데이터가 삭제된다.\n",
        "for m,n in zip(a,b):\n",
        "  print(m,n)\n",
        "  print"
      ],
      "metadata": {
        "colab": {
          "base_uri": "https://localhost:8080/"
        },
        "id": "2WaAzgqBWEo2",
        "outputId": "e1037a90-44a3-44bb-a2dc-1a4e11dc70c5"
      },
      "execution_count": null,
      "outputs": [
        {
          "output_type": "stream",
          "name": "stdout",
          "text": [
            "a 1\n",
            "b 2\n",
            "c 3\n",
            "d 4\n"
          ]
        }
      ]
    },
    {
      "cell_type": "code",
      "source": [
        "#dict\n",
        "dict_val = {}\n",
        "for m,n in zip(a,b):\n",
        "  dict_val[m] = n\n",
        "\n",
        "print(dict_val)"
      ],
      "metadata": {
        "colab": {
          "base_uri": "https://localhost:8080/"
        },
        "id": "tNc7bSQoWgkY",
        "outputId": "d1bad97c-1528-4e87-e47a-2509cab3eaa0"
      },
      "execution_count": null,
      "outputs": [
        {
          "output_type": "stream",
          "name": "stdout",
          "text": [
            "{'a': 1, 'b': 2, 'c': 3, 'd': 4}\n"
          ]
        }
      ]
    },
    {
      "cell_type": "code",
      "source": [
        "#for 처리 시간을 조정하고 싶을 때\n",
        "import time\n",
        "\n",
        "dict_bal = {}\n",
        "for m,n in zip(a,b):\n",
        "  dict_bal[m]= n\n",
        "  print(dict_bal)\n",
        "  time.sleep(1)#sec"
      ],
      "metadata": {
        "colab": {
          "base_uri": "https://localhost:8080/"
        },
        "id": "PfTNoVv4W80i",
        "outputId": "f22d59ce-8a82-41cb-aa7f-894f2972e4c9"
      },
      "execution_count": null,
      "outputs": [
        {
          "output_type": "stream",
          "name": "stdout",
          "text": [
            "{'a': 1}\n",
            "{'a': 1, 'b': 2}\n",
            "{'a': 1, 'b': 2, 'c': 3}\n",
            "{'a': 1, 'b': 2, 'c': 3, 'd': 4}\n"
          ]
        }
      ]
    },
    {
      "cell_type": "code",
      "source": [
        "#리스트 내포 #List Comprehension\n",
        "# 리스트 이름 = [표현식 for 반복자 in 반복할 수 있는 것 if 조건문]\n",
        "\n",
        "array = [\"사과\", \"자두\", \"초콜릿\", \"바나나\", \"체리\"]\n",
        "\n",
        "output = [fruit for fruit in array if fruit != \"초콜릿\"]\n",
        "\n",
        "print(output)"
      ],
      "metadata": {
        "colab": {
          "base_uri": "https://localhost:8080/"
        },
        "id": "TBW5TigrXo8q",
        "outputId": "1197d733-c8b9-4318-b61b-9f2680dd5380"
      },
      "execution_count": null,
      "outputs": [
        {
          "output_type": "stream",
          "name": "stdout",
          "text": [
            "['사과', '자두', '바나나', '체리']\n"
          ]
        }
      ]
    },
    {
      "cell_type": "code",
      "source": [
        "#위와 같은 for 구문\n",
        "output = []\n",
        "for fruit in array:\n",
        "  if fruit != \"초콜릿\":\n",
        "    output.append(fruit)\n",
        "\n",
        "print(output)"
      ],
      "metadata": {
        "colab": {
          "base_uri": "https://localhost:8080/"
        },
        "id": "z48_TWopZN1M",
        "outputId": "15b75866-595c-479e-ad2d-2b0fe77e180d"
      },
      "execution_count": null,
      "outputs": [
        {
          "output_type": "stream",
          "name": "stdout",
          "text": [
            "['사과', '자두', '바나나', '체리']\n"
          ]
        }
      ]
    },
    {
      "cell_type": "code",
      "source": [
        "aa = []\n",
        "\n",
        "for i in range(0,20,2):\n",
        "  aa.append(i**2)\n",
        "print(aa)\n"
      ],
      "metadata": {
        "colab": {
          "base_uri": "https://localhost:8080/"
        },
        "id": "LKU_FQe8ZeGC",
        "outputId": "577c4e93-05fb-4770-8eb6-4f1526419c68"
      },
      "execution_count": null,
      "outputs": [
        {
          "output_type": "stream",
          "name": "stdout",
          "text": [
            "[0, 4, 16, 36, 64, 100, 144, 196, 256, 324]\n"
          ]
        }
      ]
    },
    {
      "cell_type": "code",
      "source": [
        "#Change to list comprehension\n",
        "aa = []\n",
        "aa = [i**2 for i in range(0,20,2)]\n",
        "\n",
        "print(aa)"
      ],
      "metadata": {
        "colab": {
          "base_uri": "https://localhost:8080/"
        },
        "id": "CC0cUCV5aO9W",
        "outputId": "73ce1b7b-58b0-4f15-bfe7-ba93e04f18b0"
      },
      "execution_count": null,
      "outputs": [
        {
          "output_type": "stream",
          "name": "stdout",
          "text": [
            "[0, 4, 16, 36, 64, 100, 144, 196, 256, 324]\n"
          ]
        }
      ]
    },
    {
      "cell_type": "code",
      "source": [
        "##dictionary 확인문제 3\n",
        "#목적 - dictionary에서 원하는 자료만을 불러 \\올 수 있다.\n",
        "#- character 변수의 자료는 dict 구조\n",
        "# dict 자료의 구조 value가 달라도 키 : 값 형태로 출력\n",
        "# 값에 따른 key : value 추출 방법\n",
        "# 값이 문자열\n",
        "# 값이 숫자\n",
        "# 값이 딕셔너리 - 값 안에 있는 키 : 값\n",
        "# 값이 리스트\n",
        "\n",
        "\n",
        "character = {\n",
        "    \"name\" : \"기사\",\n",
        "    \"level\" : 12,\n",
        "    \"items\" : {\n",
        "        \"sword\" : \"불꽃의 검\",\n",
        "        \"armor\" : \"풀플레이트\",\n",
        "    },\n",
        "    \"skill\" : [\"베기\", \"세게 베기\", \"아주 세게 베기\"]\n",
        "    }\n",
        "\n",
        "for key,val in character.items():\n",
        "  # 값이 str 또는 int인 경우에 처리\n",
        "  if type(val) is str or type(val) is int:\n",
        "    print(f\"{key} : {val}\")\n",
        "  #값이 딕셔너리\n",
        "  # sub key 1: val1\n",
        "  # sub key 2 : val 2\n",
        "  # val가 dict 출력\n",
        "  #print(type(val))\n",
        "  if type(val) is dict:\n",
        "    for sub_key, sub_val in val.items():\n",
        "      print(f\"{sub_key}, {sub_val}\")\n",
        "\n",
        "  if type(val) is list:\n",
        "    for idx, l_val in enumerate(val):\n",
        "          print(f\"skill{idx+1} : {l_val}\")\n",
        "\n",
        "  #val가 list인 경우 출력"
      ],
      "metadata": {
        "colab": {
          "base_uri": "https://localhost:8080/"
        },
        "id": "HOn9ImbIaz0Z",
        "outputId": "598766fb-1d90-4cd7-f321-0c37f032de3b"
      },
      "execution_count": null,
      "outputs": [
        {
          "output_type": "stream",
          "name": "stdout",
          "text": [
            "name : 기사\n",
            "level : 12\n",
            "sword, 불꽃의 검\n",
            "armor, 풀플레이트\n",
            "skill1 : 베기\n",
            "skill2 : 세게 베기\n",
            "skill3 : 아주 세게 베기\n"
          ]
        }
      ]
    },
    {
      "cell_type": "code",
      "source": [
        "print(\"hello\")\n"
      ],
      "metadata": {
        "colab": {
          "base_uri": "https://localhost:8080/"
        },
        "id": "fonsL8e4fE6e",
        "outputId": "17976873-2b4a-4d92-881b-39988ad870a5"
      },
      "execution_count": null,
      "outputs": [
        {
          "output_type": "stream",
          "name": "stdout",
          "text": [
            "hello\n"
          ]
        }
      ]
    },
    {
      "cell_type": "code",
      "source": [
        "#확인문제 2\n",
        "#list를 합쳐서 zip으로 만든 후 dic으로 만들기\n",
        "# 뒤에서 zip을 정의해줘도 상관없음.\n",
        "\n",
        "key_list = [\"name\", \"hp\", \"mp\", \"level\"]\n",
        "value_list = [\"기사\", 200, 30, 5]\n",
        "character1 = {}\n",
        "zip(key_list, value_list)\n",
        "\n",
        "for m,n in zip(key_list, value_list):\n",
        "  character1[m] = n\n",
        "\n",
        "print(character1)\n"
      ],
      "metadata": {
        "colab": {
          "base_uri": "https://localhost:8080/"
        },
        "id": "Vl1ZMemkgafh",
        "outputId": "ee6329c0-8b6a-4cdf-ba8e-275f8b9d0033"
      },
      "execution_count": null,
      "outputs": [
        {
          "output_type": "stream",
          "name": "stdout",
          "text": [
            "{'name': '기사', 'hp': 200, 'mp': 30, 'level': 5}\n"
          ]
        }
      ]
    },
    {
      "cell_type": "code",
      "source": [
        "#확인문제 3\n",
        "demical = []\n",
        "num = int(list(range(2,101)))\n",
        "\n",
        "print(type(num))\n",
        "\n",
        " #2는 무조건 넣기\n",
        "if num == 2:\n",
        "  demical.append(num)\n",
        "deno = num - 1"
      ],
      "metadata": {
        "colab": {
          "base_uri": "https://localhost:8080/",
          "height": 221
        },
        "id": "DCDIXn8HftM7",
        "outputId": "53321dc9-af43-40bb-87da-ac906d3373b8"
      },
      "execution_count": null,
      "outputs": [
        {
          "output_type": "error",
          "ename": "TypeError",
          "evalue": "int() argument must be a string, a bytes-like object or a real number, not 'list'",
          "traceback": [
            "\u001b[0;31m---------------------------------------------------------------------------\u001b[0m",
            "\u001b[0;31mTypeError\u001b[0m                                 Traceback (most recent call last)",
            "\u001b[0;32m<ipython-input-105-6f38309c5acb>\u001b[0m in \u001b[0;36m<cell line: 3>\u001b[0;34m()\u001b[0m\n\u001b[1;32m      1\u001b[0m \u001b[0;31m#확인문제 3\u001b[0m\u001b[0;34m\u001b[0m\u001b[0;34m\u001b[0m\u001b[0m\n\u001b[1;32m      2\u001b[0m \u001b[0mdemical\u001b[0m \u001b[0;34m=\u001b[0m \u001b[0;34m[\u001b[0m\u001b[0;34m]\u001b[0m\u001b[0;34m\u001b[0m\u001b[0;34m\u001b[0m\u001b[0m\n\u001b[0;32m----> 3\u001b[0;31m \u001b[0mnum\u001b[0m \u001b[0;34m=\u001b[0m \u001b[0mint\u001b[0m\u001b[0;34m(\u001b[0m\u001b[0mlist\u001b[0m\u001b[0;34m(\u001b[0m\u001b[0mrange\u001b[0m\u001b[0;34m(\u001b[0m\u001b[0;36m2\u001b[0m\u001b[0;34m,\u001b[0m\u001b[0;36m101\u001b[0m\u001b[0;34m)\u001b[0m\u001b[0;34m)\u001b[0m\u001b[0;34m)\u001b[0m\u001b[0;34m\u001b[0m\u001b[0;34m\u001b[0m\u001b[0m\n\u001b[0m\u001b[1;32m      4\u001b[0m \u001b[0;34m\u001b[0m\u001b[0m\n\u001b[1;32m      5\u001b[0m \u001b[0mprint\u001b[0m\u001b[0;34m(\u001b[0m\u001b[0mtype\u001b[0m\u001b[0;34m(\u001b[0m\u001b[0mnum\u001b[0m\u001b[0;34m)\u001b[0m\u001b[0;34m)\u001b[0m\u001b[0;34m\u001b[0m\u001b[0;34m\u001b[0m\u001b[0m\n",
            "\u001b[0;31mTypeError\u001b[0m: int() argument must be a string, a bytes-like object or a real number, not 'list'"
          ]
        }
      ]
    },
    {
      "cell_type": "code",
      "source": [],
      "metadata": {
        "id": "m6CdkqsInLwx"
      },
      "execution_count": null,
      "outputs": []
    }
  ]
}