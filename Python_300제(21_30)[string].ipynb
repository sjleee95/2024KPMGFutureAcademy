{
  "nbformat": 4,
  "nbformat_minor": 0,
  "metadata": {
    "colab": {
      "provenance": [],
      "authorship_tag": "ABX9TyPm4BulbLNVoBBxHOBd99nG",
      "include_colab_link": true
    },
    "kernelspec": {
      "name": "python3",
      "display_name": "Python 3"
    },
    "language_info": {
      "name": "python"
    }
  },
  "cells": [
    {
      "cell_type": "markdown",
      "metadata": {
        "id": "view-in-github",
        "colab_type": "text"
      },
      "source": [
        "<a href=\"https://colab.research.google.com/github/sjleee95/2024KPMGFutureAcademy/blob/Python-300%EC%A0%9C/Python_300%EC%A0%9C(21_30)%5Bstring%5D.ipynb\" target=\"_parent\"><img src=\"https://colab.research.google.com/assets/colab-badge.svg\" alt=\"Open In Colab\"/></a>"
      ]
    },
    {
      "cell_type": "markdown",
      "source": [
        "###파이썬 문자열"
      ],
      "metadata": {
        "id": "LVJ_TZ4thDxM"
      }
    },
    {
      "cell_type": "markdown",
      "source": [
        "**021** 문자열 인덱싱\n",
        "\n",
        "\n",
        "letters가 바인딩하는 문자열에서 첫번째와 세번째 문자를 출력하세요.\n",
        "\n",
        ">> letters = 'python'\n",
        "\n",
        "실행 예\n",
        "\n",
        "p t"
      ],
      "metadata": {
        "id": "ZiOY-d4qhHs8"
      }
    },
    {
      "cell_type": "code",
      "source": [
        "#1\n",
        "letters = 'python'\n",
        "\n",
        "print(f\"{letters[0]} {letters[2]}\")\n",
        "\n",
        "#2\n",
        "print(letters[0],letters[2])"
      ],
      "metadata": {
        "colab": {
          "base_uri": "https://localhost:8080/"
        },
        "id": "FbqRv_yXQN8K",
        "outputId": "893d93b2-f412-47e5-f7ca-882f594de4bd"
      },
      "execution_count": 13,
      "outputs": [
        {
          "output_type": "stream",
          "name": "stdout",
          "text": [
            "p t\n",
            "p t\n"
          ]
        }
      ]
    },
    {
      "cell_type": "markdown",
      "source": [
        "**022** 문자열 슬라이싱\n",
        "\n",
        "자동차 번호가 다음과 같을 때 뒤에 4자리만 출력하세요.\n",
        "\n",
        ">> license_plate = \"24가 2210\"\n",
        "\n",
        "\n",
        "실행 예: 2210"
      ],
      "metadata": {
        "id": "TfwhVlc-hLb2"
      }
    },
    {
      "cell_type": "code",
      "source": [
        "#1\n",
        "\n",
        "license_plate = \"24가 2210\"\n",
        "\n",
        "\n",
        "print(license_plate.split()[1])\n",
        "\n",
        "#2 ***** 생각해내지 못한 것\n",
        "print(license_plate[-4:])\n",
        "\n",
        "#3 -> 여기에서는 스페이스만 없애면 결과값이 나올 듯. 무식한 방법\n",
        "print(license_plate[-4],license_plate[-3],license_plate[-2],license_plate[-1])"
      ],
      "metadata": {
        "colab": {
          "base_uri": "https://localhost:8080/"
        },
        "id": "GpAfRAM-RveE",
        "outputId": "d295ddea-52a9-4aac-b375-31828dd6be22"
      },
      "execution_count": 22,
      "outputs": [
        {
          "output_type": "stream",
          "name": "stdout",
          "text": [
            "2210\n",
            "2210\n",
            "2 2 1 0\n"
          ]
        }
      ]
    },
    {
      "cell_type": "markdown",
      "source": [
        "**023** 문자열 인덱싱\n",
        "\n",
        "\n",
        "아래의 문자열에서 '홀' 만 출력하세요.\n",
        "\n",
        "\n",
        ">> string = \"홀짝홀짝홀짝\"\n",
        "\n",
        "\n",
        "실행 예:\n",
        "\n",
        "\n",
        "홀홀홀"
      ],
      "metadata": {
        "id": "0aZRe5gLhWw0"
      }
    },
    {
      "cell_type": "code",
      "source": [
        "string = \"홀짝홀짝홀짝\"\n",
        "\n",
        "#1 -> :: 의 사용법 알기\n",
        "\n",
        "print(string[::2])\n",
        "\n",
        "#2 -> ,가 아니라, :로 이루어져 있다는 점, 그리고 괄호 안의 의미 확실히 알기\n",
        "print(string[0:5:2])"
      ],
      "metadata": {
        "colab": {
          "base_uri": "https://localhost:8080/"
        },
        "id": "FwwxICf4TMoo",
        "outputId": "d76c8eb1-70b2-4dff-b56c-6da3a0a6b4c8"
      },
      "execution_count": 27,
      "outputs": [
        {
          "output_type": "stream",
          "name": "stdout",
          "text": [
            "홀홀홀\n",
            "홀홀홀\n"
          ]
        }
      ]
    },
    {
      "cell_type": "markdown",
      "source": [
        "**024** 문자열 슬라이싱\n",
        "\n",
        "문자열을 거꾸로 뒤집어 출력하세요.\n",
        "\n",
        ">> string = \"PYTHON\"\n",
        "\n",
        "\n",
        "실행 예:\n",
        "\n",
        "\n",
        "NOHTYP"
      ],
      "metadata": {
        "id": "t8cfpToshaRs"
      }
    },
    {
      "cell_type": "code",
      "source": [
        "# :: 는 중간에 0이 생략되어 있다고 보면 되는 구조이다. List에서 [1::2]라고 하게 되면, 두 번째부터 2씩 증가하며 뽑는다 보면 된다.\n",
        "string = \"PYTHON\"\n",
        "\n",
        "print(string[::-1])\n",
        "\n",
        "hello = \"ABCDEFG\"\n",
        "print(hello[1::2])"
      ],
      "metadata": {
        "colab": {
          "base_uri": "https://localhost:8080/"
        },
        "id": "YjcdKhDApT6X",
        "outputId": "b5ec8dd1-9299-4d2f-823b-af92b7cd1060"
      },
      "execution_count": 36,
      "outputs": [
        {
          "output_type": "stream",
          "name": "stdout",
          "text": [
            "NOHTYP\n",
            "BDF\n"
          ]
        }
      ]
    },
    {
      "cell_type": "markdown",
      "source": [
        "**025** 문자열 치환\n",
        "\n",
        "\n",
        "아래의 전화번호에서 하이푼 ('-')을 제거하고 출력하세요.\n",
        "\n",
        "\n",
        "\n",
        ">> phone_number = \"010-1111-2222\"\n",
        "\n",
        "\n",
        "실행 예\n",
        "\n",
        "\n",
        "010 1111 2222"
      ],
      "metadata": {
        "id": "K9WooHZHhhE0"
      }
    },
    {
      "cell_type": "code",
      "source": [
        "phone_number = \"010-1111-2222\"\n",
        "\n",
        "#split을 이용하여 출력하기\n",
        "'''\n",
        "print(type(phone_number))\n",
        "\n",
        "ph = phone_number.split(\"-\")\n",
        "\n",
        "print(type(ph[0]))\n",
        "\n",
        "print(ph[0], ph[1],ph[2])\n",
        "'''\n",
        "\n",
        "#replace를 이용해서 진행하기\n",
        "\n",
        "phone_number1 = phone_number.replace(\"-\",\" \")\n",
        "\n",
        "print(phone_number1)"
      ],
      "metadata": {
        "colab": {
          "base_uri": "https://localhost:8080/"
        },
        "id": "bVWLSNAYpUmu",
        "outputId": "9b6eabf6-7443-402e-eb50-64771a56612e"
      },
      "execution_count": 44,
      "outputs": [
        {
          "output_type": "stream",
          "name": "stdout",
          "text": [
            "010 1111 2222\n"
          ]
        }
      ]
    },
    {
      "cell_type": "markdown",
      "source": [
        "**026** 문자열 다루기\n",
        "\n",
        "\n",
        "25번 문제의 전화번호를 아래와 같이 모두 붙여 출력하세요.\n",
        "\n",
        "\n",
        "실행 예\n",
        "\n",
        "\n",
        "01011112222"
      ],
      "metadata": {
        "id": "cLbbe3y2hnNl"
      }
    },
    {
      "cell_type": "code",
      "source": [
        "smartphone = \"010-1111-2222\"\n",
        "\n",
        "#replace 사용해서 만들기\n",
        "\n",
        "smartphone1 = smartphone.replace(\"-\",\"\")\n",
        "\n",
        "print(smartphone1)"
      ],
      "metadata": {
        "colab": {
          "base_uri": "https://localhost:8080/"
        },
        "id": "I0MQBusdpWAv",
        "outputId": "d9f16338-ef03-4765-f042-8ba93b8e2140"
      },
      "execution_count": 48,
      "outputs": [
        {
          "output_type": "stream",
          "name": "stdout",
          "text": [
            "01011112222\n"
          ]
        }
      ]
    },
    {
      "cell_type": "markdown",
      "source": [
        "**027** 문자열 다루기\n",
        "\n",
        "\n",
        "url 에 저장된 웹 페이지 주소에서 도메인을 출력하세요.\n",
        "\n",
        ">> url = \"http://sharebook.kr\"\n",
        "\n",
        "\n",
        "실행 예:\n",
        "\n",
        "kr"
      ],
      "metadata": {
        "id": "VxXyJsDJhqzB"
      }
    },
    {
      "cell_type": "code",
      "source": [
        "url = \"http://sharebook.kr\"\n",
        "\n",
        "#다소 무식한 방법\n",
        "print(url.find(\"kr\"))\n",
        "print(url[17:])\n",
        "\n",
        "#기준점을 하나로 잡고, 나눠서 하나만 고르는 방법\n",
        "\n",
        "domain = url.split(\".\")\n",
        "\n",
        "print(domain[1])\n",
        "\n",
        "#or\n",
        "\n",
        "print(domain[-1])\n"
      ],
      "metadata": {
        "colab": {
          "base_uri": "https://localhost:8080/"
        },
        "id": "G9fHe5zXpXTi",
        "outputId": "a21f6fcb-75bb-4799-bd00-25316c49680a"
      },
      "execution_count": 65,
      "outputs": [
        {
          "output_type": "stream",
          "name": "stdout",
          "text": [
            "17\n",
            "kr\n",
            "kr\n",
            "kr\n"
          ]
        }
      ]
    },
    {
      "cell_type": "markdown",
      "source": [
        "**028** 문자열은 immutable\n",
        "\n",
        "\n",
        "아래 코드의 실행 결과를 예상해보세요. -.\n",
        "\n",
        "대문자로 교체되어 'Python' 이 될 것이다\n",
        "\n",
        "(XXXXXXXXXXXXXX) String(문자열)은 교체할 수 없다.\n",
        "\n",
        "\n",
        ">> lang = 'python'\n",
        "\n",
        "\n",
        ">> lang[0] = 'P'\n",
        "\n",
        "\n",
        ">> print(lang)"
      ],
      "metadata": {
        "id": "r_TZft_1hud7"
      }
    },
    {
      "cell_type": "code",
      "source": [
        "lang = 'python'\n",
        "\n",
        "lang[0] = 'P'\n",
        "\n",
        "print(lang)\n",
        "\n"
      ],
      "metadata": {
        "colab": {
          "base_uri": "https://localhost:8080/",
          "height": 211
        },
        "id": "g508hqrmpYei",
        "outputId": "b94b5e84-7606-49b6-a217-4dfdc8f0f42b"
      },
      "execution_count": 67,
      "outputs": [
        {
          "output_type": "error",
          "ename": "TypeError",
          "evalue": "'str' object does not support item assignment",
          "traceback": [
            "\u001b[0;31m---------------------------------------------------------------------------\u001b[0m",
            "\u001b[0;31mTypeError\u001b[0m                                 Traceback (most recent call last)",
            "\u001b[0;32m<ipython-input-67-5090f6265144>\u001b[0m in \u001b[0;36m<cell line: 3>\u001b[0;34m()\u001b[0m\n\u001b[1;32m      1\u001b[0m \u001b[0mlang\u001b[0m \u001b[0;34m=\u001b[0m \u001b[0;34m'python'\u001b[0m\u001b[0;34m\u001b[0m\u001b[0;34m\u001b[0m\u001b[0m\n\u001b[1;32m      2\u001b[0m \u001b[0;34m\u001b[0m\u001b[0m\n\u001b[0;32m----> 3\u001b[0;31m \u001b[0mlang\u001b[0m\u001b[0;34m[\u001b[0m\u001b[0;36m0\u001b[0m\u001b[0;34m]\u001b[0m \u001b[0;34m=\u001b[0m \u001b[0;34m'P'\u001b[0m\u001b[0;34m\u001b[0m\u001b[0;34m\u001b[0m\u001b[0m\n\u001b[0m\u001b[1;32m      4\u001b[0m \u001b[0;34m\u001b[0m\u001b[0m\n\u001b[1;32m      5\u001b[0m \u001b[0mprint\u001b[0m\u001b[0;34m(\u001b[0m\u001b[0mlang\u001b[0m\u001b[0;34m)\u001b[0m\u001b[0;34m\u001b[0m\u001b[0;34m\u001b[0m\u001b[0m\n",
            "\u001b[0;31mTypeError\u001b[0m: 'str' object does not support item assignment"
          ]
        }
      ]
    },
    {
      "cell_type": "markdown",
      "source": [
        "**029** replace 메서드\n",
        "\n",
        "\n",
        "아래 문자열에서 소문자 'a'를 대문자 'A'로 변경하세요.\n",
        "\n",
        "\n",
        ">> string = 'abcdfe2a354a32a'\n",
        "\n",
        "실행 예:\n",
        "\n",
        "Abcdfe2A354A32A"
      ],
      "metadata": {
        "id": "7DSUG-KJhzaz"
      }
    },
    {
      "cell_type": "code",
      "source": [
        "string = 'abcdfe2a354a32a'\n",
        "\n",
        "\n",
        "string = string.replace('a','A')\n",
        "\n",
        "print(string)"
      ],
      "metadata": {
        "colab": {
          "base_uri": "https://localhost:8080/"
        },
        "id": "yRwom9r5pZNH",
        "outputId": "ad93d7aa-2b5d-4132-a407-f27d1a30939b"
      },
      "execution_count": 69,
      "outputs": [
        {
          "output_type": "stream",
          "name": "stdout",
          "text": [
            "Abcdfe2A354A32A\n"
          ]
        }
      ]
    },
    {
      "cell_type": "markdown",
      "source": [
        "**030** replace 메서드\n",
        "\n",
        "아래 코드의 실행 결과를 예상해보세요.\n",
        "\n",
        ">> string = 'abcd'\n",
        "\n",
        ">> string.replace('b', 'B')\n",
        "\n",
        ">> print(string)"
      ],
      "metadata": {
        "id": "GpDWscZch4Gb"
      }
    },
    {
      "cell_type": "code",
      "source": [
        "string = 'abcd'\n",
        "string.replace('b','B')\n",
        "print(string)"
      ],
      "metadata": {
        "colab": {
          "base_uri": "https://localhost:8080/"
        },
        "id": "kbi6dmbhpZmw",
        "outputId": "f30bb16b-82b3-4288-c6a8-01fe35dcaf68"
      },
      "execution_count": 73,
      "outputs": [
        {
          "output_type": "stream",
          "name": "stdout",
          "text": [
            "abcd\n"
          ]
        }
      ]
    },
    {
      "cell_type": "markdown",
      "source": [
        "##29, 30번의 설명 (Feat. ChatGPT)\n",
        "\n",
        "##간단하게 말해서, 중간에 있는 변수를 바꿔주는 것이 아니라, 온전히 새로운 객체를 생성하는 것이기 때문에 변수에 다시 저장해주어야 사용할 수 있다. 그렇지 않으면 원본은 바뀌지 않고, 그대로 출력된다.\n",
        "\n",
        "문자열은 변경할 수 없는(immutable) 자료형이기 때문에, 문자열을 변경하는 모든 메서드는 원본 문자열을 수정하지 않고 수정된 새로운 문자열을 반환합니다. 이 개념을 이해하기 위해 두 가지 예제를 비교해 봅시다:\n",
        "\n",
        "1. 첫 번째 예제:\n",
        "    ```python\n",
        "    string = 'abcd'\n",
        "    string.replace('b', 'B')\n",
        "    print(string)\n",
        "    ```\n",
        "    여기서 `string.replace('b', 'B')`는 'b'를 'B'로 대체한 새로운 문자열 'aBcd'를 반환하지만, 반환된 새로운 문자열을 아무 변수에도 저장하지 않습니다. 따라서 `string`은 여전히 'abcd'로 남아 있습니다. 그래서 `print(string)`은 'abcd'를 출력합니다.\n",
        "\n",
        "2. 두 번째 예제:\n",
        "    ```python\n",
        "    string = 'abcdfe2a354a32a'\n",
        "    string = string.replace('a', 'A')\n",
        "    print(string)\n",
        "    ```\n",
        "    여기서 `string.replace('a', 'A')`는 'a'를 'A'로 대체한 새로운 문자열 'Abcdfe2A354A32A'를 반환합니다. 그리고 반환된 새로운 문자열을 다시 `string` 변수에 저장합니다. 이제 `string` 변수는 'Abcdfe2A354A32A'를 가리키게 됩니다. 따라서 `print(string)`은 'Abcdfe2A354A32A'를 출력합니다.\n",
        "\n",
        "핵심은 문자열은 변경할 수 없는 자료형이기 때문에 문자열을 직접 수정하는 것이 아니라, 항상 새로운 문자열을 반환한다는 점입니다. 만약 반환된 새로운 문자열을 원본 변수에 다시 저장하면, 원본 변수가 새로운 문자열을 가리키게 되어 변경된 것처럼 보이는 것입니다.\n",
        "\n",
        "아래에 두 예제를 다시 정리하면:\n",
        "\n",
        "1. 변경된 문자열을 변수에 저장하지 않은 경우:\n",
        "    ```python\n",
        "    string = 'abcd'\n",
        "    string.replace('b', 'B')\n",
        "    print(string)  # 출력: 'abcd'\n",
        "    ```\n",
        "\n",
        "2. 변경된 문자열을 변수에 저장한 경우:\n",
        "    ```python\n",
        "    string = 'abcdfe2a354a32a'\n",
        "    string = string.replace('a', 'A')\n",
        "    print(string)  # 출력: 'Abcdfe2A354A32A'\n",
        "    ```\n",
        "\n",
        "이 차이를 이해하면, 왜 첫 번째 예제에서는 문자열이 바뀌지 않은 것처럼 보이는지, 두 번째 예제에서는 문자열이 바뀐 것처럼 보이는지 명확히 이해할 수 있습니다."
      ],
      "metadata": {
        "id": "81OAUED-wO-n"
      }
    },
    {
      "cell_type": "code",
      "execution_count": 73,
      "metadata": {
        "id": "6QGktWaTgZ7I"
      },
      "outputs": [],
      "source": []
    }
  ]
}