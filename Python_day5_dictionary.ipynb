{
  "nbformat": 4,
  "nbformat_minor": 0,
  "metadata": {
    "colab": {
      "provenance": [],
      "authorship_tag": "ABX9TyNpK4T2GU/Jr58zL6g2yySG",
      "include_colab_link": true
    },
    "kernelspec": {
      "name": "python3",
      "display_name": "Python 3"
    },
    "language_info": {
      "name": "python"
    }
  },
  "cells": [
    {
      "cell_type": "markdown",
      "metadata": {
        "id": "view-in-github",
        "colab_type": "text"
      },
      "source": [
        "<a href=\"https://colab.research.google.com/github/sjleee95/2024KPMGFutureAcademy/blob/main/Python_day5_dictionary.ipynb\" target=\"_parent\"><img src=\"https://colab.research.google.com/assets/colab-badge.svg\" alt=\"Open In Colab\"/></a>"
      ]
    },
    {
      "cell_type": "markdown",
      "source": [
        "###For 확인문제 3단계\n",
        "\n",
        "* 사용자로부터 ','구분된 숫자 목록을 입력 받아서 100 이상의 숫자만 출력하도록 만들어 보시오.\n",
        "* 숫자는 정수, 실수 모두 입력 받을 수 있음\n",
        "*값의 입력 범위는 1<= 입력값 <1000\n",
        "* 1자리수, 2자리수, 3자리 수 숫자를 구분하여 각각 리스트에 넣기\n",
        "* 각 리스트의 최종값 출력하기"
      ],
      "metadata": {
        "id": "Fmwqn30YhKvJ"
      }
    },
    {
      "cell_type": "code",
      "execution_count": null,
      "metadata": {
        "colab": {
          "base_uri": "https://localhost:8080/",
          "height": 110
        },
        "id": "wEmiWhA-g-Dz",
        "outputId": "e3a0c789-9653-46d0-97a1-2211c95a6575"
      },
      "outputs": [
        {
          "output_type": "error",
          "ename": "SyntaxError",
          "evalue": "incomplete input (<ipython-input-1-b0c29a5b5539>, line 1)",
          "traceback": [
            "\u001b[0;36m  File \u001b[0;32m\"<ipython-input-1-b0c29a5b5539>\"\u001b[0;36m, line \u001b[0;32m1\u001b[0m\n\u001b[0;31m    '''\u001b[0m\n\u001b[0m    ^\u001b[0m\n\u001b[0;31mSyntaxError\u001b[0m\u001b[0;31m:\u001b[0m incomplete input\n"
          ]
        }
      ],
      "source": [
        "'''\n",
        "입력받기 ㅣ 1<= 입력값 < 1000\n",
        "\n",
        "input_data = ...\n",
        "\n",
        "for data in input_data:\n",
        "  list1 = []\n",
        "  list2 = []\n",
        "  list3 = []\n",
        "\n",
        "  이런 식으로 for 문 안에 넣어놓으면, list가 매번 초기화되며 정보를 누적시킬 수 없다.\n",
        "\n",
        "\n",
        "하지만 데이터를 숫자가 아닌, str으로 판단하고자 한다면, len 함수를 사용해서 판단해도 괜찮음!"
      ]
    },
    {
      "cell_type": "code",
      "source": [
        "dict_lovinmovie = {\"name\" : \"Love Letter\", \"type\" : \"romance\"}"
      ],
      "metadata": {
        "id": "JRY_XY_2kAC-"
      },
      "execution_count": null,
      "outputs": []
    },
    {
      "cell_type": "code",
      "source": [
        "type(dict_lovinmovie)"
      ],
      "metadata": {
        "colab": {
          "base_uri": "https://localhost:8080/"
        },
        "id": "aBpyujpin3Rg",
        "outputId": "138a0818-6ef6-4c18-b8ea-066c642a3393"
      },
      "execution_count": null,
      "outputs": [
        {
          "output_type": "execute_result",
          "data": {
            "text/plain": [
              "dict"
            ]
          },
          "metadata": {},
          "execution_count": 5
        }
      ]
    },
    {
      "cell_type": "code",
      "source": [
        "dict_lovinmovie[\"name\"]"
      ],
      "metadata": {
        "colab": {
          "base_uri": "https://localhost:8080/",
          "height": 35
        },
        "id": "5iEjvbd3oG5Y",
        "outputId": "f8ed2c9b-97ce-4ed2-89b4-bf9480ee7046"
      },
      "execution_count": null,
      "outputs": [
        {
          "output_type": "execute_result",
          "data": {
            "text/plain": [
              "'Love Letter'"
            ],
            "application/vnd.google.colaboratory.intrinsic+json": {
              "type": "string"
            }
          },
          "metadata": {},
          "execution_count": 8
        }
      ]
    },
    {
      "cell_type": "code",
      "source": [
        "dict_lovinmovie[\"type\"]"
      ],
      "metadata": {
        "colab": {
          "base_uri": "https://localhost:8080/",
          "height": 35
        },
        "id": "LQIj1e_ZoUhL",
        "outputId": "5a81e212-5822-421c-cd2e-eb7231efbbb5"
      },
      "execution_count": null,
      "outputs": [
        {
          "output_type": "execute_result",
          "data": {
            "text/plain": [
              "'romance'"
            ],
            "application/vnd.google.colaboratory.intrinsic+json": {
              "type": "string"
            }
          },
          "metadata": {},
          "execution_count": 9
        }
      ]
    },
    {
      "cell_type": "code",
      "source": [
        "print(dict_lovinmovie[\"name\"])\n",
        "print(dict_lovinmovie[\"type\"])"
      ],
      "metadata": {
        "colab": {
          "base_uri": "https://localhost:8080/"
        },
        "id": "EnRJWpXXoaN2",
        "outputId": "036e3ce1-6cd9-4cb3-862e-ce87b3ca4961"
      },
      "execution_count": null,
      "outputs": [
        {
          "output_type": "stream",
          "name": "stdout",
          "text": [
            "Love Letter\n",
            "romance\n"
          ]
        }
      ]
    },
    {
      "cell_type": "code",
      "source": [
        "dict_b = {\"a\": [\"안\",\"조\"] , \"c\":[\"아\",\"타\",\"토\"]}\n",
        "\n",
        "dict_b\n"
      ],
      "metadata": {
        "colab": {
          "base_uri": "https://localhost:8080/"
        },
        "id": "LWoAznefozS-",
        "outputId": "234b0ad4-ed8d-49ee-d0e2-3e7340ddce9e"
      },
      "execution_count": null,
      "outputs": [
        {
          "output_type": "execute_result",
          "data": {
            "text/plain": [
              "{'a': ['안', '조'], 'c': ['아', '타', '토']}"
            ]
          },
          "metadata": {},
          "execution_count": 14
        }
      ]
    },
    {
      "cell_type": "code",
      "source": [
        "dict_b[\"a\"]"
      ],
      "metadata": {
        "colab": {
          "base_uri": "https://localhost:8080/"
        },
        "id": "gAMemtyspiCG",
        "outputId": "9284ebd6-ea5e-4188-e363-704f2c3a6c23"
      },
      "execution_count": null,
      "outputs": [
        {
          "output_type": "execute_result",
          "data": {
            "text/plain": [
              "['안', '조']"
            ]
          },
          "metadata": {},
          "execution_count": 15
        }
      ]
    },
    {
      "cell_type": "code",
      "source": [
        "dict_b[\"a\"][0]"
      ],
      "metadata": {
        "colab": {
          "base_uri": "https://localhost:8080/",
          "height": 35
        },
        "id": "1cV0KfAMqiv6",
        "outputId": "ef3000d3-8804-43bc-b9fe-b3f77f89b0fc"
      },
      "execution_count": null,
      "outputs": [
        {
          "output_type": "execute_result",
          "data": {
            "text/plain": [
              "'안'"
            ],
            "application/vnd.google.colaboratory.intrinsic+json": {
              "type": "string"
            }
          },
          "metadata": {},
          "execution_count": 16
        }
      ]
    },
    {
      "cell_type": "code",
      "source": [
        "# 딕셔너리 요소의 값 수정\n",
        "\n",
        "dict_b['a'] = {'bb' : 'bbb'}\n",
        "\n",
        "dict_b"
      ],
      "metadata": {
        "colab": {
          "base_uri": "https://localhost:8080/"
        },
        "id": "fdUvNIF5qlER",
        "outputId": "cfcc8ea6-dd47-4927-a01b-82386499fa06"
      },
      "execution_count": null,
      "outputs": [
        {
          "output_type": "execute_result",
          "data": {
            "text/plain": [
              "{'a': {'bb': 'bbb'}, 'c': ['아', '타', '토']}"
            ]
          },
          "metadata": {},
          "execution_count": 19
        }
      ]
    },
    {
      "cell_type": "code",
      "source": [
        "#dictionary 요소 추가\n",
        "\n",
        "dict_b['d'] = {'dd' : 'ddd'}\n",
        "dict_b"
      ],
      "metadata": {
        "colab": {
          "base_uri": "https://localhost:8080/"
        },
        "id": "_0ytEbX4q8fX",
        "outputId": "70193ee1-a566-4058-d926-2f016e59d462"
      },
      "execution_count": null,
      "outputs": [
        {
          "output_type": "execute_result",
          "data": {
            "text/plain": [
              "{'a': {'bb': 'bbb'}, 'c': ['아', '타', '토'], 'd': {'dd': 'ddd'}}"
            ]
          },
          "metadata": {},
          "execution_count": 20
        }
      ]
    },
    {
      "cell_type": "code",
      "source": [
        "del dict_b['c']\n",
        "\n",
        "dict_b"
      ],
      "metadata": {
        "colab": {
          "base_uri": "https://localhost:8080/"
        },
        "id": "gO3LAiVPrXuI",
        "outputId": "e9e13df7-eb8e-45a6-e577-533f83c4fb30"
      },
      "execution_count": null,
      "outputs": [
        {
          "output_type": "execute_result",
          "data": {
            "text/plain": [
              "{'a': {'bb': 'bbb'}, 'd': {'dd': 'ddd'}}"
            ]
          },
          "metadata": {},
          "execution_count": 21
        }
      ]
    },
    {
      "cell_type": "code",
      "source": [
        "del dict_b"
      ],
      "metadata": {
        "id": "PL4xqchOrkqd"
      },
      "execution_count": null,
      "outputs": []
    },
    {
      "cell_type": "code",
      "source": [
        "## 삭제되었기에 나오지 않아요\n",
        "\n",
        "print dict_b"
      ],
      "metadata": {
        "colab": {
          "base_uri": "https://localhost:8080/",
          "height": 110
        },
        "id": "NpOR74Uwr8_6",
        "outputId": "0b049a37-ee63-400a-ebd0-d3c69c14b5ea"
      },
      "execution_count": null,
      "outputs": [
        {
          "output_type": "error",
          "ename": "SyntaxError",
          "evalue": "Missing parentheses in call to 'print'. Did you mean print(...)? (<ipython-input-24-2d97d56e2092>, line 3)",
          "traceback": [
            "\u001b[0;36m  File \u001b[0;32m\"<ipython-input-24-2d97d56e2092>\"\u001b[0;36m, line \u001b[0;32m3\u001b[0m\n\u001b[0;31m    print dict_b\u001b[0m\n\u001b[0m    ^\u001b[0m\n\u001b[0;31mSyntaxError\u001b[0m\u001b[0;31m:\u001b[0m Missing parentheses in call to 'print'. Did you mean print(...)?\n"
          ]
        }
      ]
    },
    {
      "cell_type": "markdown",
      "source": [
        "## in keyword"
      ],
      "metadata": {
        "id": "HLTQxTXbsJl5"
      }
    },
    {
      "cell_type": "code",
      "source": [
        "dictionary = {\n",
        "    \"name\":\"7D 건조 망고\",\n",
        "    \"type\": \"당절임\",\n",
        "    \"ingredient\" : [\"망고\",\"설탕\",\"메타중아황산나트륨\",\"치자황색소\"],\n",
        "    \"origin\" : \"필리핀\"\n",
        "}\n",
        "\n",
        "key = input(\">접근하고자 하는 키:\")\n",
        "\n",
        "if key in dictionary:\n",
        "  print(dictionary[key])\n",
        "else:\n",
        "    print(\"존재하지 않는 키에 접근하고 있습니다\")"
      ],
      "metadata": {
        "colab": {
          "base_uri": "https://localhost:8080/"
        },
        "id": "qjvWMPIUr_DM",
        "outputId": "4bc51a56-9110-4e20-c0c8-d5dc48451c4b"
      },
      "execution_count": null,
      "outputs": [
        {
          "output_type": "stream",
          "name": "stdout",
          "text": [
            ">접근하고자 하는 키:잉\n",
            "존재하지 않는 키에 접근하고 있습니다\n"
          ]
        }
      ]
    },
    {
      "cell_type": "code",
      "source": [
        "#dict에 특정 값이 있는지 확인하기\n",
        "find = '당'\n",
        "for data in dictionary :\n",
        "  print(dictionary[data])\n",
        "  if find == dictionary[data]:\n",
        "    print(f\"{find}있다\")\n",
        "  else:\n",
        "    print(\"없다\")\n"
      ],
      "metadata": {
        "colab": {
          "base_uri": "https://localhost:8080/"
        },
        "id": "vhm06RPHtt-R",
        "outputId": "a21ad35d-6193-417a-f962-61d69d934915"
      },
      "execution_count": null,
      "outputs": [
        {
          "output_type": "stream",
          "name": "stdout",
          "text": [
            "7D 건조 망고\n",
            "없다\n",
            "당절임\n",
            "없다\n",
            "['망고', '설탕', '메타중아황산나트륨', '치자황색소']\n",
            "없다\n",
            "필리핀\n",
            "없다\n"
          ]
        }
      ]
    },
    {
      "cell_type": "code",
      "source": [
        "find = '당절임'\n",
        "#딕셔너리.items() : 키, 값을 리턴해줌\n",
        "#for key, val in dictionary.items():\n",
        "#key는 리턴 받지 않음\n",
        "for _, val in dictionary.items():\n",
        "  #print(val)\n",
        "  if find == val:\n",
        "    print(f\"{find}있다\")"
      ],
      "metadata": {
        "colab": {
          "base_uri": "https://localhost:8080/"
        },
        "id": "ETeUVa5Du1Q_",
        "outputId": "0f8a8fb6-47c5-4d56-e702-85abe31394d9"
      },
      "execution_count": null,
      "outputs": [
        {
          "output_type": "stream",
          "name": "stdout",
          "text": [
            "당절임있다\n"
          ]
        }
      ]
    },
    {
      "cell_type": "code",
      "source": [
        "#get() method"
      ],
      "metadata": {
        "id": "QYib4uxNxgZP"
      },
      "execution_count": null,
      "outputs": []
    },
    {
      "cell_type": "code",
      "source": [
        "#확인문제\n",
        "#다음 표에서 dict_a의 결과가 나오도록 빈칸을 채워보세요\n",
        "\n",
        "dict_a = {}\n",
        "\n",
        "dict_a[\"name\"] = \"구름\"\n",
        "\n",
        "print(dict_a)"
      ],
      "metadata": {
        "colab": {
          "base_uri": "https://localhost:8080/"
        },
        "id": "TSXIa9Bc05s8",
        "outputId": "acc77cff-02d8-4186-829a-0be041a2ab8b"
      },
      "execution_count": null,
      "outputs": [
        {
          "output_type": "stream",
          "name": "stdout",
          "text": [
            "{'name': '구름'}\n"
          ]
        }
      ]
    },
    {
      "cell_type": "markdown",
      "source": [],
      "metadata": {
        "id": "OMXf3DukBCYE"
      }
    },
    {
      "cell_type": "code",
      "source": [
        "\"\"\"\n",
        "확인문제 2\n",
        "1. make dictionary\n",
        "2. create key and value\n",
        "3. - so how do I get dic from data numbers?\n",
        "4. output frame : {number 1 : count of numbers}\n",
        "\n",
        "for variant in numbers:\n",
        "  if #first number, #first number becomes the key, and first value is 1.\n",
        "  if it is not first number, add number 1 in value\n",
        "  * so my question was what is method of adding on value?\n",
        "\"\"\"\n",
        "numbers =  [1,2,6,8,4,3,2,1,9,5,4,9,7,2,1,3,5,4,8,9,7,2,3]\n",
        "counter = {}\n",
        "\n",
        "##없어야 만드는 조건이라 not을 사용해야 한다. 항상 Focus를 둘 곳은 어떤 조건 하에서 '생성'할 것인지 = 일을 진행할 것인지\n",
        "\n",
        "for number in numbers:\n",
        "  if number not in counter :\n",
        "    counter[number]= 1\n",
        "  elif number in counter :\n",
        "    counter[number] = counter[number] + 1\n",
        "\n",
        "\n",
        "\n",
        "print(counter)"
      ],
      "metadata": {
        "colab": {
          "base_uri": "https://localhost:8080/"
        },
        "id": "EVgbgjOG1aI2",
        "outputId": "0188e0e4-63a2-4f88-d304-aa0e538e9b46"
      },
      "execution_count": null,
      "outputs": [
        {
          "output_type": "stream",
          "name": "stdout",
          "text": [
            "{1: 3, 2: 4, 6: 1, 8: 2, 4: 3, 3: 3, 9: 3, 5: 2, 7: 2}\n"
          ]
        }
      ]
    },
    {
      "cell_type": "code",
      "source": [
        "\"\"\"\n",
        "확인문제 3\n",
        "\"\"\"\n",
        "\n",
        "#character = {\n",
        " #   \"name\" : \"기사\",\n",
        "  #  \"level\" : 12,\n",
        "   # \"items\" : {\n",
        "    #    \"sword\" : \"불꽃의 검\",\n",
        "     #   \"armor\" : \"풀플레이트\"\n",
        " #   },\n",
        "   # \"skill\": [\"베기\", \"세게 베기\", \"아주 세게 베기\"]\n",
        "#}\n",
        "\n",
        "#for key in character:\n",
        " # if"
      ],
      "metadata": {
        "colab": {
          "base_uri": "https://localhost:8080/",
          "height": 35
        },
        "id": "h7DivdBn2PkQ",
        "outputId": "0181924e-442b-4107-e21c-28125303214a"
      },
      "execution_count": null,
      "outputs": [
        {
          "output_type": "execute_result",
          "data": {
            "text/plain": [
              "'\\n확인문제 3\\n'"
            ],
            "application/vnd.google.colaboratory.intrinsic+json": {
              "type": "string"
            }
          },
          "metadata": {},
          "execution_count": 63
        }
      ]
    },
    {
      "cell_type": "markdown",
      "source": [
        "###범위 함수"
      ],
      "metadata": {
        "id": "67g9XtXfH-dP"
      }
    },
    {
      "cell_type": "code",
      "source": [
        "data = range(10)\n",
        "type(data)"
      ],
      "metadata": {
        "colab": {
          "base_uri": "https://localhost:8080/"
        },
        "id": "UJkKaV4GGc_4",
        "outputId": "ccd65b37-1d40-4aa5-c9f5-a54e196d44da"
      },
      "execution_count": null,
      "outputs": [
        {
          "output_type": "execute_result",
          "data": {
            "text/plain": [
              "range"
            ]
          },
          "metadata": {},
          "execution_count": 64
        }
      ]
    },
    {
      "cell_type": "code",
      "source": [
        "list(data)"
      ],
      "metadata": {
        "colab": {
          "base_uri": "https://localhost:8080/"
        },
        "id": "4deYERVRIEdv",
        "outputId": "98aa07f5-b114-4849-d7e6-340c540eba7d"
      },
      "execution_count": null,
      "outputs": [
        {
          "output_type": "execute_result",
          "data": {
            "text/plain": [
              "[0, 1, 2, 3, 4, 5, 6, 7, 8, 9]"
            ]
          },
          "metadata": {},
          "execution_count": 65
        }
      ]
    },
    {
      "cell_type": "code",
      "source": [
        "#range(start,stop, step) # stop = n-1\n",
        "data = list(range(1,10, 2))\n",
        "data"
      ],
      "metadata": {
        "colab": {
          "base_uri": "https://localhost:8080/"
        },
        "id": "bgt-ge7LIFen",
        "outputId": "fdd5233d-3c20-4003-8d7d-8be41f275f65"
      },
      "execution_count": null,
      "outputs": [
        {
          "output_type": "execute_result",
          "data": {
            "text/plain": [
              "[1, 3, 5, 7, 9]"
            ]
          },
          "metadata": {},
          "execution_count": 66
        }
      ]
    },
    {
      "cell_type": "code",
      "source": [
        "for a in data:\n",
        "  print(a)"
      ],
      "metadata": {
        "colab": {
          "base_uri": "https://localhost:8080/"
        },
        "id": "l2_vza32Igyj",
        "outputId": "c52a3491-fc2c-47a6-cbe2-30c8d6c86108"
      },
      "execution_count": null,
      "outputs": [
        {
          "output_type": "stream",
          "name": "stdout",
          "text": [
            "1\n",
            "3\n",
            "5\n",
            "7\n",
            "9\n"
          ]
        }
      ]
    },
    {
      "cell_type": "code",
      "source": [],
      "metadata": {
        "id": "DN7XPqO0Im_W"
      },
      "execution_count": null,
      "outputs": []
    }
  ]
}