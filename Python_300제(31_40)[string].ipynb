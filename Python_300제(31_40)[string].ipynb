{
  "nbformat": 4,
  "nbformat_minor": 0,
  "metadata": {
    "colab": {
      "provenance": [],
      "authorship_tag": "ABX9TyMlbM0RgPjCPf+Eh1/J6pmw",
      "include_colab_link": true
    },
    "kernelspec": {
      "name": "python3",
      "display_name": "Python 3"
    },
    "language_info": {
      "name": "python"
    }
  },
  "cells": [
    {
      "cell_type": "markdown",
      "metadata": {
        "id": "view-in-github",
        "colab_type": "text"
      },
      "source": [
        "<a href=\"https://colab.research.google.com/github/sjleee95/2024KPMGFutureAcademy/blob/Python-300%EC%A0%9C/Python_300%EC%A0%9C(31_40)%5Bstring%5D.ipynb\" target=\"_parent\"><img src=\"https://colab.research.google.com/assets/colab-badge.svg\" alt=\"Open In Colab\"/></a>"
      ]
    },
    {
      "cell_type": "markdown",
      "source": [
        "**031** 문자열 합치기\n",
        "\n",
        "아래 코드의 실행 결과를 예상해보세요.\n",
        "\n",
        ">> a = \"3\"\n",
        "\n",
        ">> b = \"4\"\n",
        "\n",
        ">> print(a + b)"
      ],
      "metadata": {
        "id": "pPSzTMvJiil0"
      }
    },
    {
      "cell_type": "code",
      "source": [
        "#처음에는 실행이 되지 않을 것이라 생각했으나, 문자열 + 문자열 = 문자열문자열\n",
        "\n",
        "#따라서, 34\n",
        "\n",
        "a = \"3\"\n",
        "b = \"4\"\n",
        "\n",
        "print(a+b)"
      ],
      "metadata": {
        "colab": {
          "base_uri": "https://localhost:8080/"
        },
        "id": "QN_VRfn50Rrw",
        "outputId": "6e98bb99-aba0-4195-cdfb-eedbab825dc2"
      },
      "execution_count": 1,
      "outputs": [
        {
          "output_type": "stream",
          "name": "stdout",
          "text": [
            "34\n"
          ]
        }
      ]
    },
    {
      "cell_type": "markdown",
      "source": [
        "**032** 문자열 곱하기\n",
        "\n",
        "아래 코드의 실행 결과를 예상해보세요.\n",
        "\n",
        ">> print(\"Hi\" * 3)"
      ],
      "metadata": {
        "id": "k-o0q5NliiGN"
      }
    },
    {
      "cell_type": "code",
      "source": [
        "#Hi Hi Hi   - 띄어쓰기와 함께 출력되지 않을까\n",
        "\n",
        "#가설 기각. 붙여서 출력된다.\n",
        "\n",
        "print(\"Hi\"*3)"
      ],
      "metadata": {
        "colab": {
          "base_uri": "https://localhost:8080/"
        },
        "id": "AUp8oJbc0o-t",
        "outputId": "509b19a7-d43b-45db-e3c0-783a2caaf2b7"
      },
      "execution_count": 3,
      "outputs": [
        {
          "output_type": "stream",
          "name": "stdout",
          "text": [
            "HiHiHi\n"
          ]
        }
      ]
    },
    {
      "cell_type": "markdown",
      "source": [
        "**033** 문자열 곱하기\n",
        "\n",
        "화면에 '-'를 80개 출력하세요.\n",
        "\n",
        "실행 예:\n",
        "\n",
        "--------------------------------------------------------------------------------"
      ],
      "metadata": {
        "id": "J1nRpsoZiiCn"
      }
    },
    {
      "cell_type": "code",
      "source": [
        "#1\n",
        "print(\"-\"*80)"
      ],
      "metadata": {
        "colab": {
          "base_uri": "https://localhost:8080/"
        },
        "id": "qfW4dDPu1CaN",
        "outputId": "f00fbf89-7f1b-4b83-b34a-40bdaa01c5fb"
      },
      "execution_count": 5,
      "outputs": [
        {
          "output_type": "stream",
          "name": "stdout",
          "text": [
            "--------------------------------------------------------------------------------\n"
          ]
        }
      ]
    },
    {
      "cell_type": "markdown",
      "source": [
        "**034** 문자열 곱하기\n",
        "\n",
        "변수에 다음과 같은 문자열이 바인딩되어 있습니다.\n",
        "\n",
        ">>> t1 = 'python'\n",
        "\n",
        ">>> t2 = 'java'\n",
        "\n",
        "변수에 문자열 더하기와 문자열 곱하기를 사용해서 아래와 같이 출력해보세요.\n",
        "\n",
        "실행 예:\n",
        "\n",
        "python java python java python java python java"
      ],
      "metadata": {
        "id": "8M7TtusOih_Q"
      }
    },
    {
      "cell_type": "code",
      "source": [
        "t1 = 'python'\n",
        "\n",
        "t2 = 'java'\n",
        "\n",
        "#1\n",
        "print((t1 + \" \" + t2 + \" \")*4)\n",
        "\n",
        "#2\n",
        "t3 = t1 + \" \" + t2 + \" \"\n",
        "\n",
        "print(t3*4)"
      ],
      "metadata": {
        "colab": {
          "base_uri": "https://localhost:8080/"
        },
        "id": "_jU_eEuC1AU0",
        "outputId": "05c3467f-905c-4e99-ecd0-05a826fba042"
      },
      "execution_count": 10,
      "outputs": [
        {
          "output_type": "stream",
          "name": "stdout",
          "text": [
            "python java python java python java python java \n",
            "python java python java python java python java \n"
          ]
        }
      ]
    },
    {
      "cell_type": "markdown",
      "source": [
        "**035** 문자열 출력\n",
        "\n",
        "변수에 다음과 같이 문자열과 정수가 바인딩되어 있을 때 % formatting을 사용해서 다음과 같이 출력해보세요.\n",
        "\n",
        "name1 = \"김민수\"\n",
        "\n",
        "age1 = 10\n",
        "\n",
        "name2 = \"이철희\"\n",
        "\n",
        "age2 = 13\n",
        "\n",
        "이름: 김민수 나이: 10\n",
        "\n",
        "이름: 이철희 나이: 13"
      ],
      "metadata": {
        "id": "9RNXGpJYih8X"
      }
    },
    {
      "cell_type": "code",
      "source": [
        "name1 = \"김민수\"\n",
        "\n",
        "age1 = 10\n",
        "\n",
        "name2 = \"이철희\"\n",
        "\n",
        "age2 = 13\n",
        "\n",
        "# 내 방식이지만, % formatting을 사용하지 않음.\n",
        "print(f\"이름:{name1} 나이:{age1}\")\n",
        "print(f\"이름:{name2} 나이:{age2}\")\n",
        "\n",
        "#print 포맷팅에서 `%s`는 문자열 데이터 타입의 값을 `%d`는 정수형 데이터 타입 값의 출력을 의미합니다.\n",
        "\n",
        "print(\"이름:%s 나이:%d\" % (name1, age1))\n",
        "print(\"이름:%s 나이:%d\" % (name2, age2))"
      ],
      "metadata": {
        "colab": {
          "base_uri": "https://localhost:8080/"
        },
        "id": "kwxlDlLI17kF",
        "outputId": "3f956631-ab67-4549-e1cb-680ce542ba9f"
      },
      "execution_count": 13,
      "outputs": [
        {
          "output_type": "stream",
          "name": "stdout",
          "text": [
            "이름:김민수 나이:10\n",
            "이름:이철희 나이:13\n",
            "이름:김민수 나이:10\n",
            "이름:이철희 나이:13\n"
          ]
        }
      ]
    },
    {
      "cell_type": "markdown",
      "source": [
        "**036** 문자열 출력\n",
        "\n",
        "문자열의 format( ) 메서드를 사용해서 035번 문제를 다시 풀어보세요."
      ],
      "metadata": {
        "id": "rc00gnrUih5e"
      }
    },
    {
      "cell_type": "code",
      "source": [
        "name1 = \"김민수\"\n",
        "\n",
        "age1 = 10\n",
        "\n",
        "name2 = \"이철희\"\n",
        "\n",
        "age2 = 13\n",
        "\n",
        "print(\"이름:{} 나이:{}\".format(name1, age1))\n",
        "print(\"이름:{} 나이:{}\".format(name2, age2))"
      ],
      "metadata": {
        "colab": {
          "base_uri": "https://localhost:8080/"
        },
        "id": "0JdrYGw02-7t",
        "outputId": "b767a942-b61d-4b28-9b3d-a1383187cf48"
      },
      "execution_count": 15,
      "outputs": [
        {
          "output_type": "stream",
          "name": "stdout",
          "text": [
            "이름:김민수 나이:10\n",
            "이름:이철희 나이:13\n"
          ]
        }
      ]
    },
    {
      "cell_type": "markdown",
      "source": [
        "**037** 문자열 출력\n",
        "\n",
        "파이썬 3.6부터 지원하는 f-string을 사용해서 035번 문제를 다시 풀어보세요."
      ],
      "metadata": {
        "id": "AqE-xSF1ih2L"
      }
    },
    {
      "cell_type": "code",
      "source": [
        "name1 = \"김민수\"\n",
        "\n",
        "age1 = 10\n",
        "\n",
        "name2 = \"이철희\"\n",
        "\n",
        "age2 = 13\n",
        "\n",
        "print(f\"이름:{name1} 나이:{age1}\")\n",
        "print(f\"이름:{name2} 나이:{age2}\")"
      ],
      "metadata": {
        "colab": {
          "base_uri": "https://localhost:8080/"
        },
        "id": "-V-bEwbH3syw",
        "outputId": "a15cede8-3dff-4671-905b-5e35a266c754"
      },
      "execution_count": 16,
      "outputs": [
        {
          "output_type": "stream",
          "name": "stdout",
          "text": [
            "이름:김민수 나이:10\n",
            "이름:이철희 나이:13\n"
          ]
        }
      ]
    },
    {
      "cell_type": "markdown",
      "source": [
        "**038** 컴마 제거하기\n",
        "\n",
        "삼성전자의 상장주식수가 다음과 같습니다.\n",
        "\n",
        "컴마를 제거한 후 이를 정수 타입으로 변환해보세요.\n",
        "\n",
        "\n",
        "상장주식수 = \"5,969,782,550\""
      ],
      "metadata": {
        "id": "Vhek6Mjeihxx"
      }
    },
    {
      "cell_type": "code",
      "source": [
        "#GPT\n",
        "상장주식수 = \"5,969,782,550\"\n",
        "\n",
        "# strip 메서드는 문자열 양 끝의 ,만 제거함\n",
        "sangjang = 상장주식수.strip(',')\n",
        "\n",
        "print(sangjang)  # 출력: \"5,969,782,550\" (변화 없음)\n",
        "\n",
        "# replace 메서드는 문자열의 모든 ,를 제거함\n",
        "sangjang2 = 상장주식수.replace(\",\", \"\")\n",
        "\n",
        "print(sangjang2)  # 출력: \"5969782550\"\n",
        "\n",
        "sangjang2 = int(sangjang2)\n",
        "\n",
        "print(type(sangjang2))  # 출력: <class 'int'>\n",
        "print(sangjang2)        # 출력: 5969782550\n"
      ],
      "metadata": {
        "colab": {
          "base_uri": "https://localhost:8080/"
        },
        "id": "UvmGWIm86Wpv",
        "outputId": "246e7199-36cd-484c-c880-b139b8cbc992"
      },
      "execution_count": 25,
      "outputs": [
        {
          "output_type": "stream",
          "name": "stdout",
          "text": [
            "5,969,782,550\n",
            "5969782550\n",
            "<class 'int'>\n",
            "5969782550\n"
          ]
        }
      ]
    },
    {
      "cell_type": "code",
      "source": [
        "상장주식수 = \"5,969,782,550\"\n",
        "\n",
        "print(type(상장주식수))\n",
        "\n",
        "sangjang = 상장주식수.strip(',')\n",
        "\n",
        "print(sangjang)\n",
        "\n",
        "sangjang2 = 상장주식수.replace(\",\",\"\")\n",
        "\n",
        "sangjang2 = int(sangjang2)\n",
        "\n",
        "print(type(sangjang2))\n",
        "print(sangjang2)"
      ],
      "metadata": {
        "colab": {
          "base_uri": "https://localhost:8080/"
        },
        "id": "od4w36Ti4Ajz",
        "outputId": "dcc8e8f4-e63b-4047-98c2-e0f30de744c0"
      },
      "execution_count": 24,
      "outputs": [
        {
          "output_type": "stream",
          "name": "stdout",
          "text": [
            "<class 'str'>\n",
            "5,969,782,550\n",
            "<class 'int'>\n",
            "5969782550\n"
          ]
        }
      ]
    },
    {
      "cell_type": "markdown",
      "source": [
        "**039** 문자열 슬라이싱\n",
        "\n",
        "다음과 같은 문자열에서 '2020/03'만 출력하세요.\n",
        "\n",
        "분기 = \"2020/03(E) (IFRS연결)\""
      ],
      "metadata": {
        "id": "iZXEoOciihuG"
      }
    },
    {
      "cell_type": "code",
      "source": [
        "#1\n",
        "분기 = \"2020/03(E) (IFRS연결)\"\n",
        "\n",
        "분분기 = 분기.replace(\"(E) (IFRS연결)\",\"\")\n",
        "\n",
        "print(분분기)\n",
        "\n",
        "#2 -문자열 !\n",
        "print(분기[:7])"
      ],
      "metadata": {
        "colab": {
          "base_uri": "https://localhost:8080/"
        },
        "id": "q9e391A76c5t",
        "outputId": "e338b1ee-c795-4bac-ab60-2b289a07eb4d"
      },
      "execution_count": 28,
      "outputs": [
        {
          "output_type": "stream",
          "name": "stdout",
          "text": [
            "2020/03\n",
            "2020/03\n"
          ]
        }
      ]
    },
    {
      "cell_type": "markdown",
      "source": [
        "**040** strip 메서드\n",
        "\n",
        "문자열의 좌우의 공백이 있을 때 이를 제거해보세요.\n",
        "\n",
        "data = \"  삼성전자    \""
      ],
      "metadata": {
        "id": "RNzu7BD1ihnX"
      }
    },
    {
      "cell_type": "code",
      "source": [
        "data =' 삼성전자 '\n",
        "\n",
        "data = data.strip(\" \")\n",
        "\n",
        "print(data)"
      ],
      "metadata": {
        "colab": {
          "base_uri": "https://localhost:8080/"
        },
        "id": "odPfouQG6-3X",
        "outputId": "21c3a1b8-fc1e-4686-faca-d43c4ece9401"
      },
      "execution_count": 30,
      "outputs": [
        {
          "output_type": "stream",
          "name": "stdout",
          "text": [
            "삼성전자\n"
          ]
        }
      ]
    },
    {
      "cell_type": "code",
      "execution_count": null,
      "metadata": {
        "id": "vJMbJlqIiPzd"
      },
      "outputs": [],
      "source": []
    }
  ]
}