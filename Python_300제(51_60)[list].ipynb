{
  "nbformat": 4,
  "nbformat_minor": 0,
  "metadata": {
    "colab": {
      "provenance": [],
      "authorship_tag": "ABX9TyPr/H7mOXjJKrrThaV5Xm9X",
      "include_colab_link": true
    },
    "kernelspec": {
      "name": "python3",
      "display_name": "Python 3"
    },
    "language_info": {
      "name": "python"
    }
  },
  "cells": [
    {
      "cell_type": "markdown",
      "metadata": {
        "id": "view-in-github",
        "colab_type": "text"
      },
      "source": [
        "<a href=\"https://colab.research.google.com/github/sjleee95/2024KPMGFutureAcademy/blob/Python-300%EC%A0%9C/Python_300%EC%A0%9C(51_60)%5Blist%5D.ipynb\" target=\"_parent\"><img src=\"https://colab.research.google.com/assets/colab-badge.svg\" alt=\"Open In Colab\"/></a>"
      ]
    },
    {
      "cell_type": "markdown",
      "source": [
        "**051** 리스트 생성\n",
        "\n",
        "\n",
        "2016년 11월 영화 예매 순위 기준 top3는 다음과 같습니다.\n",
        "\n",
        "영화 제목을 movie_rank 이름의 리스트에 저장해보세요. (순위 정보는 저장하지 않습니다.)\n",
        "\n",
        "![image.png](data:image/png;base64,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)"
      ],
      "metadata": {
        "id": "_8k7uaEC1COc"
      }
    },
    {
      "cell_type": "code",
      "source": [
        "#2016 영화예매 순위 기준\n",
        "\n",
        "movie_rank = [\"닥터 스트레인지\", \"스플릿\", \"럭키\"]\n",
        "\n",
        "print(movie_rank)"
      ],
      "metadata": {
        "colab": {
          "base_uri": "https://localhost:8080/"
        },
        "id": "wemB_EXT2UAz",
        "outputId": "d5379792-343c-4fb0-b141-f59f6f46b067"
      },
      "execution_count": null,
      "outputs": [
        {
          "output_type": "stream",
          "name": "stdout",
          "text": [
            "['닥터 스트레인지', '스플릿', '럭키']\n"
          ]
        }
      ]
    },
    {
      "cell_type": "markdown",
      "source": [
        "**052**\n",
        "\n",
        "051의 movie_rank 리스트에 \"배트맨\"을 추가하라."
      ],
      "metadata": {
        "id": "DRbvpDDL2j_h"
      }
    },
    {
      "cell_type": "code",
      "source": [
        "#append 사용\n",
        "\n",
        "movie_rank.append(\"배트맨\")\n",
        "\n",
        "print(movie_rank)"
      ],
      "metadata": {
        "colab": {
          "base_uri": "https://localhost:8080/"
        },
        "id": "npIsLAMz2nMF",
        "outputId": "012961c8-0326-44b6-c258-93ca411eb798"
      },
      "execution_count": null,
      "outputs": [
        {
          "output_type": "stream",
          "name": "stdout",
          "text": [
            "['닥터 스트레인지', '스플릿', '럭키', '배트맨', '배트맨']\n"
          ]
        }
      ]
    },
    {
      "cell_type": "markdown",
      "source": [
        "**053**\n",
        "\n",
        "movie_rank 리스트에는 아래와 같이 네 개의 영화 제목이 바인딩되어 있다.\n",
        "\n",
        "\"슈퍼맨\"을 \"닥터 스트레인지\"와 \"스플릿\" 사이에 추가하라.\n",
        "\n",
        "movie_rank = ['닥터 스트레인지', '스플릿', '럭키', '배트맨']\n"
      ],
      "metadata": {
        "id": "ey9lLdWE1Jo_"
      }
    },
    {
      "cell_type": "code",
      "source": [
        "#insert\n",
        "\n",
        "movie_rank = ['닥터 스트레인지', '스플릿', '럭키', '배트맨']\n",
        "\n",
        "movie_rank.insert( 2, \"슈퍼맨\")"
      ],
      "metadata": {
        "id": "TUZE6mLA3I68"
      },
      "execution_count": null,
      "outputs": []
    },
    {
      "cell_type": "markdown",
      "source": [
        "**054**\n",
        "\n",
        "movie_rank 리스트에서 '럭키'를 삭제하라\n",
        "\n",
        "movie_rank = ['닥터 스트레인지', '슈퍼맨', '스플릿', '럭키', '배트맨']"
      ],
      "metadata": {
        "id": "WzKnUELQ1Jlr"
      }
    },
    {
      "cell_type": "code",
      "source": [
        "#1\n",
        "movie_rank = ['닥터 스트레인지', '슈퍼맨', '스플릿', '럭키', '배트맨']\n",
        "\n",
        "movie_rank.remove(\"럭키\")\n",
        "\n",
        "print(movie_rank)\n",
        "\n",
        "#2\n",
        "movie_rank = ['닥터 스트레인지', '슈퍼맨', '스플릿', '럭키', '배트맨']\n",
        "\n",
        "del movie_rank[3]\n",
        "\n",
        "print(movie_rank)"
      ],
      "metadata": {
        "colab": {
          "base_uri": "https://localhost:8080/"
        },
        "id": "cbLQOzsQ4geA",
        "outputId": "523f8840-405b-4e03-f0d7-b599f572f723"
      },
      "execution_count": null,
      "outputs": [
        {
          "output_type": "stream",
          "name": "stdout",
          "text": [
            "['닥터 스트레인지', '슈퍼맨', '스플릿', '배트맨']\n",
            "['닥터 스트레인지', '슈퍼맨', '스플릿', '배트맨']\n"
          ]
        }
      ]
    },
    {
      "cell_type": "markdown",
      "source": [
        "**055**\n",
        "\n",
        "movie_rank 리스트에서 '스플릿' 과 '배트맨'을 를 삭제하라.\n",
        "\n",
        "movie_rank = ['닥터 스트레인지', '슈퍼맨', '스플릿', '배트맨']"
      ],
      "metadata": {
        "id": "_g_y93fl1Ji4"
      }
    },
    {
      "cell_type": "code",
      "source": [
        "#리스트 안의 요소를 지우면 다시 인덱싱이 되고, 연속된 것을 지우고 싶다면 시작점의 포인트를 두 번 입력하는 방법이 잇다.\n",
        "\n",
        "movie_rank = ['닥터 스트레인지', '슈퍼맨', '스플릿', '배트맨']\n",
        "\n",
        "del movie_rank[2]\n",
        "del movie_rank[2]\n",
        "\n",
        "print(movie_rank)"
      ],
      "metadata": {
        "colab": {
          "base_uri": "https://localhost:8080/"
        },
        "id": "F1cxFAtU6vcs",
        "outputId": "09defd73-87cc-4308-9b7f-f47aae734bd1"
      },
      "execution_count": null,
      "outputs": [
        {
          "output_type": "stream",
          "name": "stdout",
          "text": [
            "['닥터 스트레인지', '슈퍼맨']\n"
          ]
        }
      ]
    },
    {
      "cell_type": "markdown",
      "source": [
        "**056**\n",
        "\n",
        "lang1과 lang2 리스트가 있을 때 lang1과 lang2의 원소를 모두 갖고 있는 langs 리스트를 만들어라.\n",
        "\n",
        ">> lang1 = [\"C\", \"C++\", \"JAVA\"]\n",
        "\n",
        ">> lang2 = [\"Python\", \"Go\", \"C#\"]\n",
        "\n",
        "실행 예:\n",
        "\n",
        ">> langs\n",
        "\n",
        "['C', 'C++', 'JAVA', 'Python', 'Go', 'C#']"
      ],
      "metadata": {
        "id": "Jo83u2U11JgF"
      }
    },
    {
      "cell_type": "code",
      "source": [
        "lang1 = [\"C\", \"C++\", \"JAVA\"]\n",
        "\n",
        "lang2 = [\"Python\", \"Go\", \"C#\"]\n",
        "\n",
        "\n",
        "langs = lang1 + lang2"
      ],
      "metadata": {
        "id": "fPMTDpSK7iTB"
      },
      "execution_count": null,
      "outputs": []
    },
    {
      "cell_type": "markdown",
      "source": [
        "**057**\n",
        "\n",
        "다음 리스트에서 최댓값과 최솟값을 출력하라. (힌트: min(), max() 함수 사용)\n",
        "\n",
        "nums = [1, 2, 3, 4, 5, 6, 7]\n",
        "\n",
        "실행 예:\n",
        "\n",
        "max:  7\n",
        "\n",
        "min:  1"
      ],
      "metadata": {
        "id": "CABufztI1Jd2"
      }
    },
    {
      "cell_type": "code",
      "source": [
        "nums = [1,2,3,4,5,6,7]\n",
        "\n",
        "#1\n",
        "print(f'max:{max(nums)}')\n",
        "\n",
        "print(f'min:{min(nums)}')\n",
        "\n",
        "#2\n",
        "print(\"max: \",max(nums))\n",
        "print(\"min: \",min(nums))"
      ],
      "metadata": {
        "colab": {
          "base_uri": "https://localhost:8080/"
        },
        "id": "CUPnyI0g8DUo",
        "outputId": "fbcc15dd-0cad-44da-959e-95efaa4e5878"
      },
      "execution_count": 10,
      "outputs": [
        {
          "output_type": "stream",
          "name": "stdout",
          "text": [
            "max:7\n",
            "min:1\n",
            "max:  7\n",
            "min:  1\n"
          ]
        }
      ]
    },
    {
      "cell_type": "markdown",
      "source": [
        "**058**\n",
        "\n",
        "다음 리스트의 합을 출력하라.\n",
        "\n",
        "nums = [1, 2, 3, 4, 5]\n",
        "\n",
        "실행 예:\n",
        "\n",
        "15"
      ],
      "metadata": {
        "id": "45yO_QP-1JbP"
      }
    },
    {
      "cell_type": "code",
      "source": [
        "nums = [1,2,3,4,5]\n",
        "\n",
        "#모범답안\n",
        "print(sum(nums))\n",
        "\n",
        "#이가 없으면 잇몸으로 하라\n",
        "print(nums[0]+nums[1]+nums[2]+nums[3]+nums[4])"
      ],
      "metadata": {
        "colab": {
          "base_uri": "https://localhost:8080/"
        },
        "id": "dK3flpN7BWa9",
        "outputId": "e5b94ad9-2c88-40e4-cc63-9a4ce47765b2"
      },
      "execution_count": 14,
      "outputs": [
        {
          "output_type": "stream",
          "name": "stdout",
          "text": [
            "15\n",
            "15\n"
          ]
        }
      ]
    },
    {
      "cell_type": "markdown",
      "source": [
        "**059**\n",
        "\n",
        "다음 리스트에 저장된 데이터의 개수를 화면에 구하하라.\n",
        "\n",
        "cook = [\"피자\", \"김밥\", \"만두\", \"양념치킨\", \"족발\", \"피자\", \"김치만두\", \"쫄면\", \"소시지\", \"라면\", \"팥빙수\", \"김치전\"]"
      ],
      "metadata": {
        "id": "04kJ_o2C1JYS"
      }
    },
    {
      "cell_type": "code",
      "source": [
        "cook = [\"피자\", \"김밥\", \"만두\", \"양념치킨\", \"족발\", \"피자\", \"김치만두\", \"쫄면\", \"소시지\", \"라면\", \"팥빙수\", \"김치전\"]\n",
        "\n",
        "#len() - 문자열 길이 반환 함수\n",
        "\n",
        "print(len(cook))"
      ],
      "metadata": {
        "colab": {
          "base_uri": "https://localhost:8080/"
        },
        "id": "Kf0wnX8sB3Pf",
        "outputId": "1b99751c-e928-4c14-fbc6-17424a4ec73a"
      },
      "execution_count": 16,
      "outputs": [
        {
          "output_type": "stream",
          "name": "stdout",
          "text": [
            "12\n"
          ]
        }
      ]
    },
    {
      "cell_type": "markdown",
      "source": [
        "**060**\n",
        "\n",
        "다음 리스트의 평균을 출력하라.\n",
        "\n",
        "nums = [1, 2, 3, 4, 5]\n",
        "\n",
        "실행 예:\n",
        "\n",
        "3.0"
      ],
      "metadata": {
        "id": "0pFZQ8Kd1JVk"
      }
    },
    {
      "cell_type": "code",
      "execution_count": 19,
      "metadata": {
        "id": "tnUD_9Hqkzgh",
        "colab": {
          "base_uri": "https://localhost:8080/"
        },
        "outputId": "278ad77d-9d36-4c8d-c3e8-f4f517682f78"
      },
      "outputs": [
        {
          "output_type": "stream",
          "name": "stdout",
          "text": [
            "3.0\n"
          ]
        }
      ],
      "source": [
        "#위의 것 응용\n",
        "\n",
        "nums = [1,2,3,4,5]\n",
        "\n",
        "average = sum(nums)/len(nums)\n",
        "\n",
        "print(average)"
      ]
    },
    {
      "cell_type": "code",
      "source": [],
      "metadata": {
        "id": "Lwg7V8ezCpUn"
      },
      "execution_count": null,
      "outputs": []
    }
  ]
}