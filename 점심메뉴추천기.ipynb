{
 "cells": [
  {
   "cell_type": "markdown",
   "id": "b9cf1de7-90da-4d9f-970a-331c58dcbba4",
   "metadata": {},
   "source": [
    "오늘의 점심 메뉴 추천 룰렛"
   ]
  },
  {
   "cell_type": "code",
   "execution_count": 20,
   "id": "2d879acb-4a8f-45af-8cd5-2a93d99af4a5",
   "metadata": {},
   "outputs": [
    {
     "name": "stdin",
     "output_type": "stream",
     "text": [
      ">>한식,중식,일식,베트남식, 양식<< 베트남식\n"
     ]
    },
    {
     "name": "stdout",
     "output_type": "stream",
     "text": [
      "['분짜']\n"
     ]
    }
   ],
   "source": [
    "import random\n",
    "kor_menu = [\"비빔밥\", \"김치찌개\", \"불고기\", \"된장찌개\", \"삼겹살\", \"갈비탕\", \"순두부찌개\", \"잡채\", \"떡볶이\", \"칼국수\", \"제육볶음\", \"갈비찜\", \"김밥\", \"삼계탕\", \"해물파전\", \"닭갈비\", \"콩나물국밥\", \"낙지볶음\", \"수육\", \"부대찌개\", \"냉면\", \"국밥\", \"참치마요\", \"스팸마요\", \"라면\", \"돈가스\"]\n",
    "\n",
    "viet_menu = [\"쌀국수\", \"반미\", \"분짜\", \"월남쌈\", \"반세오\", \"껌땀\", \"짜조\", \"후띠유\", \"분보후에\", \"분팃느엉\"]\n",
    "\n",
    "chin_menu = [\"탕수육\", \"마파두부\", \"꿔바로우\", \"짜장면\", \"짬뽕\", \"양장피\", \"팔보채\", \"깐풍기\", \"유린기\", \"마라탕\"]\n",
    "\n",
    "jap_menu = [\"초밥\", \"덴푸라\", \"라멘\", \"돈부리\", \"우동\", \"소바\", \"오코노미야키\", \"타코야키\", \"가라아게\", \"야키토리\", \"돈가스\"]\n",
    "\n",
    "west_menu = [\"스테이크\", \"파스타\", \"피자\", \"햄버거\", \"샐러드\", \"리조또\", \"라자냐\", \"그라탱\", \"프렌치프라이\", \"치킨윙\"]\n",
    "\n",
    "\n",
    "\n",
    "menu_choice = input(\">>한식,중식,일식,베트남식, 양식<<\")\n",
    "\n",
    "if menu_choice == \"한식\":\n",
    "    print(random.choices(kor_menu))\n",
    "elif menu_choice == \"중식\":\n",
    "    print(random.choices(chin_menu))\n",
    "elif menu_choice == \"일식\":\n",
    "    print(random.choices(jap_menu))\n",
    "elif menu_choice == \"양식\":\n",
    "    print(random.choices(west_menu))\n",
    "elif menu_choice == \"베트남식\":\n",
    "    print(random.choices(viet_menu))\n",
    "else:\n",
    "    print(\"잘못된 입력입니다.\")"
   ]
  },
  {
   "cell_type": "code",
   "execution_count": null,
   "id": "d784a99d-a031-41bc-830d-522f44159f1e",
   "metadata": {},
   "outputs": [],
   "source": []
  }
 ],
 "metadata": {
  "kernelspec": {
   "display_name": "Python 3 (ipykernel)",
   "language": "python",
   "name": "python3"
  },
  "language_info": {
   "codemirror_mode": {
    "name": "ipython",
    "version": 3
   },
   "file_extension": ".py",
   "mimetype": "text/x-python",
   "name": "python",
   "nbconvert_exporter": "python",
   "pygments_lexer": "ipython3",
   "version": "3.10.14"
  }
 },
 "nbformat": 4,
 "nbformat_minor": 5
}
