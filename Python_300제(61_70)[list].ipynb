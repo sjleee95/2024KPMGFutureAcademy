{
  "nbformat": 4,
  "nbformat_minor": 0,
  "metadata": {
    "colab": {
      "provenance": [],
      "authorship_tag": "ABX9TyP/tzgTY1BgofG1Y/rgzzTs",
      "include_colab_link": true
    },
    "kernelspec": {
      "name": "python3",
      "display_name": "Python 3"
    },
    "language_info": {
      "name": "python"
    }
  },
  "cells": [
    {
      "cell_type": "markdown",
      "metadata": {
        "id": "view-in-github",
        "colab_type": "text"
      },
      "source": [
        "<a href=\"https://colab.research.google.com/github/sjleee95/2024KPMGFutureAcademy/blob/Python-300%EC%A0%9C/Python_300%EC%A0%9C(61_70)%5Blist%5D.ipynb\" target=\"_parent\"><img src=\"https://colab.research.google.com/assets/colab-badge.svg\" alt=\"Open In Colab\"/></a>"
      ]
    },
    {
      "cell_type": "markdown",
      "source": [
        "**061**\n",
        "\n",
        "price 변수에는 날짜와 종가 정보가 저장돼 있다.\n",
        "\n",
        "날짜 정보를 제외하고 가격 정보만을 출력하라. (힌트 : 슬라이싱)\n",
        "\n",
        "price = ['20180728', 100, 130, 140, 150, 160, 170]\n",
        "\n",
        "출력 예시:\n",
        "[100, 130, 140, 150, 160, 170]"
      ],
      "metadata": {
        "id": "9nzxPu0HXxMw"
      }
    },
    {
      "cell_type": "code",
      "source": [
        "price = ['20180728',100,130,140,150,160,170]\n",
        "\n",
        "price[1:7]"
      ],
      "metadata": {
        "colab": {
          "base_uri": "https://localhost:8080/"
        },
        "id": "o24y0bW9bIDw",
        "outputId": "a993470a-6565-46b4-b54f-fa10223883aa"
      },
      "execution_count": null,
      "outputs": [
        {
          "output_type": "execute_result",
          "data": {
            "text/plain": [
              "[100, 130, 140, 150, 160, 170]"
            ]
          },
          "metadata": {},
          "execution_count": 2
        }
      ]
    },
    {
      "cell_type": "markdown",
      "source": [
        "**062**\n",
        "\n",
        "슬라이싱을 사용해서 홀수만 출력하라.\n",
        "\n",
        "nums = [1, 2, 3, 4, 5, 6, 7, 8, 9, 10]\n",
        "\n",
        "실행 예:\n",
        "[1, 3, 5, 7, 9]"
      ],
      "metadata": {
        "id": "eALEYAJsXxJV"
      }
    },
    {
      "cell_type": "code",
      "source": [
        "nums = [1,2,3,4,5,6,7,8,9,10]\n",
        "\n",
        "#1\n",
        "print(nums[0:9:2])\n",
        "\n",
        "#2\n",
        "print(nums[::2])"
      ],
      "metadata": {
        "colab": {
          "base_uri": "https://localhost:8080/"
        },
        "id": "cHcxGIbwb5p-",
        "outputId": "b494b526-c092-499b-f10a-55a9ffb19180"
      },
      "execution_count": null,
      "outputs": [
        {
          "output_type": "stream",
          "name": "stdout",
          "text": [
            "[1, 3, 5, 7, 9]\n",
            "[1, 3, 5, 7, 9]\n"
          ]
        }
      ]
    },
    {
      "cell_type": "markdown",
      "source": [
        "**063**\n",
        "\n",
        "슬라이싱을 사용해서 짝수만 출력하라.\n",
        "\n",
        "nums = [1, 2, 3, 4, 5, 6, 7, 8, 9, 10]\n",
        "\n",
        "실행 예:\n",
        "\n",
        "[2, 4, 6, 8, 10]"
      ],
      "metadata": {
        "id": "-bBnKgbtXxGU"
      }
    },
    {
      "cell_type": "code",
      "source": [
        "nums = [1,2,3,4,5,6,7,8,9,10]\n",
        "\n",
        "#1\n",
        "print(nums[1:10:2])\n",
        "\n",
        "#2\n",
        "print(nums[1::2])\n"
      ],
      "metadata": {
        "colab": {
          "base_uri": "https://localhost:8080/"
        },
        "id": "Vyhzj1mYcLoG",
        "outputId": "fa444115-040e-49aa-a087-4097fcc60c1d"
      },
      "execution_count": null,
      "outputs": [
        {
          "output_type": "stream",
          "name": "stdout",
          "text": [
            "[2, 4, 6, 8, 10]\n",
            "[2, 4, 6, 8, 10]\n"
          ]
        }
      ]
    },
    {
      "cell_type": "markdown",
      "source": [
        "**064**\n",
        "\n",
        "슬라이싱을 사용해서 리스트의 숫자를 역 방향으로 출력하라.\n",
        "\n",
        "nums = [1, 2, 3, 4, 5]\n",
        "\n",
        "실행 예:\n",
        "[5, 4, 3, 2, 1]"
      ],
      "metadata": {
        "id": "J5zkFE6gXxDl"
      }
    },
    {
      "cell_type": "code",
      "source": [
        "nums = [1,2,3,4,5]\n",
        "\n",
        "#1\n",
        "print(nums[::-1])\n",
        "\n",
        "#2\n",
        "print(nums[-1::-1])"
      ],
      "metadata": {
        "colab": {
          "base_uri": "https://localhost:8080/"
        },
        "id": "UTjQwx4Yc44m",
        "outputId": "3a7d763f-d678-4699-a792-79436d13a10c"
      },
      "execution_count": null,
      "outputs": [
        {
          "output_type": "stream",
          "name": "stdout",
          "text": [
            "[5, 4, 3, 2, 1]\n",
            "[5, 4, 3, 2, 1]\n"
          ]
        }
      ]
    },
    {
      "cell_type": "markdown",
      "source": [
        "**065**\n",
        "\n",
        "interest 리스트에는 아래의 데이터가 바인딩되어 있다.\n",
        "\n",
        "interest = ['삼성전자', 'LG전자', 'Naver']\n",
        "\n",
        "interest 리스트를 사용하여 아래와 같이 화면에 출력하라.\n",
        "\n",
        "출력 예시:\n",
        "\n",
        "삼성전자 Naver"
      ],
      "metadata": {
        "id": "5ahy0rklXxAk"
      }
    },
    {
      "cell_type": "code",
      "source": [
        "interest = ['삼성전자', 'LG전자', 'Naver']"
      ],
      "metadata": {
        "id": "JJclQHHOdSQv"
      },
      "execution_count": 1,
      "outputs": []
    },
    {
      "cell_type": "code",
      "source": [
        "print(interest[0],interest[2])"
      ],
      "metadata": {
        "colab": {
          "base_uri": "https://localhost:8080/"
        },
        "id": "4Pjdj_YmiTUx",
        "outputId": "f9eb16e7-2d91-4edd-b11e-c41eccea86e6"
      },
      "execution_count": 3,
      "outputs": [
        {
          "output_type": "stream",
          "name": "stdout",
          "text": [
            "삼성전자 Naver\n"
          ]
        }
      ]
    },
    {
      "cell_type": "markdown",
      "source": [
        "**066** join 메서드\n",
        "\n",
        "interest 리스트에는 아래의 데이터가 바인딩되어 있다.\n",
        "\n",
        "interest = ['삼성전자', 'LG전자', 'Naver', 'SK하이닉스', '미래에셋대우']\n",
        "\n",
        "interest 리스트를 사용하여 아래와 같이 화면에 출력하라.\n",
        "\n",
        "출력 예시:\n",
        "\n",
        "삼성전자 LG전자 Naver SK하이닉스 미래에셋대우"
      ],
      "metadata": {
        "id": "UEQQf0y7Xw9W"
      }
    },
    {
      "cell_type": "code",
      "source": [
        "interest = ['삼성전자', 'LG전자', 'Naver', 'SK하이닉스', '미래에셋대우']\n",
        "\n",
        "print(interest[0],interest[1],interest[2],interest[3],interest[4])\n",
        "\n",
        "print(\" \".join(interest))"
      ],
      "metadata": {
        "colab": {
          "base_uri": "https://localhost:8080/"
        },
        "id": "3HBeOAiKiukb",
        "outputId": "a784f4b3-5992-4465-bd42-f7159af28519"
      },
      "execution_count": 7,
      "outputs": [
        {
          "output_type": "stream",
          "name": "stdout",
          "text": [
            "삼성전자 LG전자 Naver SK하이닉스 미래에셋대우\n",
            "삼성전자 LG전자 Naver SK하이닉스 미래에셋대우\n"
          ]
        }
      ]
    },
    {
      "cell_type": "markdown",
      "source": [
        "**067** join 메서드\n",
        "\n",
        "interest 리스트에는 아래의 데이터가 바인딩되어 있다.\n",
        "\n",
        "interest = ['삼성전자', 'LG전자', 'Naver', 'SK하이닉스', '미래에셋대우']\n",
        "\n",
        "interest 리스트를 사용하여 아래와 같이 화면에 출력하라.\n",
        "\n",
        "출력 예시:\n",
        "\n",
        "삼성전자/LG전자/Naver/SK하이닉스/미래에셋대우"
      ],
      "metadata": {
        "id": "3m__seuyXw6o"
      }
    },
    {
      "cell_type": "code",
      "source": [
        "interest = ['삼성전자', 'LG전자', 'Naver', 'SK하이닉스', '미래에셋대우']\n",
        "\n",
        "print(interest)\n",
        "print(\"/\".join(interest))"
      ],
      "metadata": {
        "colab": {
          "base_uri": "https://localhost:8080/"
        },
        "id": "20ls_IPKjYlw",
        "outputId": "20118067-b5bd-4633-c4d1-32df05f78cb9"
      },
      "execution_count": 8,
      "outputs": [
        {
          "output_type": "stream",
          "name": "stdout",
          "text": [
            "['삼성전자', 'LG전자', 'Naver', 'SK하이닉스', '미래에셋대우']\n",
            "삼성전자/LG전자/Naver/SK하이닉스/미래에셋대우\n"
          ]
        }
      ]
    },
    {
      "cell_type": "markdown",
      "source": [
        "**068**\n",
        "\n",
        "join 메서드\n",
        "\n",
        "interest 리스트에는 아래의 데이터가 바인딩되어 있다.\n",
        "\n",
        "interest = ['삼성전자', 'LG전자', 'Naver', 'SK하이닉스', '미래에셋대우']\n",
        "\n",
        "join() 메서드를 사용해서 interest 리스트를 아래와 같이 화면에 출력하라.\n",
        "\n",
        "출력 예시:\n",
        "\n",
        "삼성전자\n",
        "\n",
        "LG전자\n",
        "\n",
        "Naver\n",
        "\n",
        "SK하이닉스\n",
        "\n",
        "미래에셋대우"
      ],
      "metadata": {
        "id": "NGp4-2-wXw37"
      }
    },
    {
      "cell_type": "code",
      "source": [
        "print(\"\\n\".join(interest))"
      ],
      "metadata": {
        "colab": {
          "base_uri": "https://localhost:8080/"
        },
        "id": "N3nLOZMUlppz",
        "outputId": "ff092799-a3dd-4b0d-99fb-914788ae5cde"
      },
      "execution_count": 9,
      "outputs": [
        {
          "output_type": "stream",
          "name": "stdout",
          "text": [
            "삼성전자\n",
            "LG전자\n",
            "Naver\n",
            "SK하이닉스\n",
            "미래에셋대우\n"
          ]
        }
      ]
    },
    {
      "cell_type": "markdown",
      "source": [
        "**069**\n",
        "\n",
        "회사 이름이 슬래시 ('/')로 구분되어 하나의 문자열로 저장되어 있다.\n",
        "\n",
        "string = \"삼성전자/LG전자/Naver\"\n",
        "이를 interest 이름의 리스트로 분리 저장하라.\n",
        "\n",
        "실행 예시\n",
        ">> print(interest)\n",
        "\n",
        "['삼성전자', 'LG전자', 'Naver']"
      ],
      "metadata": {
        "id": "W_7bMj2BXw0t"
      }
    },
    {
      "cell_type": "code",
      "source": [
        "string = \"삼성전자/LG전자/Naver\"\n",
        "\n",
        "string.split(\"/\")"
      ],
      "metadata": {
        "colab": {
          "base_uri": "https://localhost:8080/"
        },
        "id": "dbel6LVGqWEk",
        "outputId": "9a962c20-380b-43c6-951b-22b3c9ceb4c4"
      },
      "execution_count": 13,
      "outputs": [
        {
          "output_type": "execute_result",
          "data": {
            "text/plain": [
              "['삼성전자', 'LG전자', 'Naver']"
            ]
          },
          "metadata": {},
          "execution_count": 13
        }
      ]
    },
    {
      "cell_type": "markdown",
      "source": [
        "**070** 리스트 정렬(Sort)\n",
        "\n",
        "리스트에 있는 값을 오름차순으로 정렬하세요.\n",
        "\n",
        "data = [2, 4, 3, 1, 5, 10, 9]"
      ],
      "metadata": {
        "id": "3vxErDG5XwuR"
      }
    },
    {
      "cell_type": "code",
      "execution_count": 19,
      "metadata": {
        "id": "jd9w6V1OlPNG",
        "colab": {
          "base_uri": "https://localhost:8080/"
        },
        "outputId": "16032ce0-dab7-42f5-c6f0-144c70337308"
      },
      "outputs": [
        {
          "output_type": "stream",
          "name": "stdout",
          "text": [
            "[1, 2, 3, 4, 5, 9, 10]\n",
            "[1, 2, 3, 4, 5, 9, 10]\n"
          ]
        }
      ],
      "source": [
        "data = [2, 4, 3, 1, 5, 10, 9]\n",
        "data.sort()\n",
        "print(data)\n",
        "\n",
        "data = [2, 4, 3, 1, 5, 10, 9]\n",
        "data2 = sorted(data)\n",
        "print(data2)"
      ]
    },
    {
      "cell_type": "code",
      "source": [
        "dat = [1,4,5,56,32,3,9]\n",
        "print(dat)\n",
        "\n",
        "dat.sort()\n",
        "print(dat)"
      ],
      "metadata": {
        "colab": {
          "base_uri": "https://localhost:8080/"
        },
        "id": "ZZ71NCddsLQX",
        "outputId": "925aedc1-4c40-4e8b-9c57-4decfff8922b"
      },
      "execution_count": 22,
      "outputs": [
        {
          "output_type": "stream",
          "name": "stdout",
          "text": [
            "[1, 4, 5, 56, 32, 3, 9]\n",
            "[1, 3, 4, 5, 9, 32, 56]\n"
          ]
        }
      ]
    },
    {
      "cell_type": "code",
      "source": [],
      "metadata": {
        "id": "G_WvutArsRtg"
      },
      "execution_count": null,
      "outputs": []
    }
  ]
}