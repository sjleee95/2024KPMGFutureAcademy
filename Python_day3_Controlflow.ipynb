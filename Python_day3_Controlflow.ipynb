{
  "nbformat": 4,
  "nbformat_minor": 0,
  "metadata": {
    "colab": {
      "provenance": [],
      "authorship_tag": "ABX9TyOJ4Sdna5mp0bX8k/V/v0aO",
      "include_colab_link": true
    },
    "kernelspec": {
      "name": "python3",
      "display_name": "Python 3"
    },
    "language_info": {
      "name": "python"
    }
  },
  "cells": [
    {
      "cell_type": "markdown",
      "metadata": {
        "id": "view-in-github",
        "colab_type": "text"
      },
      "source": [
        "<a href=\"https://colab.research.google.com/github/sjleee95/2024KPMGFutureAcademy/blob/main/Python_day3_Controlflow.ipynb\" target=\"_parent\"><img src=\"https://colab.research.google.com/assets/colab-badge.svg\" alt=\"Open In Colab\"/></a>"
      ]
    },
    {
      "cell_type": "markdown",
      "source": [],
      "metadata": {
        "id": "JYsi7uZ5F3tC"
      }
    },
    {
      "cell_type": "markdown",
      "source": [
        "#제어문"
      ],
      "metadata": {
        "id": "qB6SJkgjFs0g"
      }
    },
    {
      "cell_type": "markdown",
      "source": [
        "##조건식"
      ],
      "metadata": {
        "id": "9T9UIi3gFyzE"
      }
    },
    {
      "cell_type": "code",
      "execution_count": null,
      "metadata": {
        "id": "rOVmZFy3Etbz"
      },
      "outputs": [],
      "source": [
        "a = 4\n",
        "b = 8"
      ]
    },
    {
      "cell_type": "code",
      "source": [
        "print(a,b)"
      ],
      "metadata": {
        "colab": {
          "base_uri": "https://localhost:8080/"
        },
        "id": "uqnkv21LFGO9",
        "outputId": "1df50b3d-5462-4282-b9c2-38a9eda94615"
      },
      "execution_count": null,
      "outputs": [
        {
          "output_type": "stream",
          "name": "stdout",
          "text": [
            "4 8\n"
          ]
        }
      ]
    },
    {
      "cell_type": "code",
      "source": [
        "print(a == b)"
      ],
      "metadata": {
        "colab": {
          "base_uri": "https://localhost:8080/"
        },
        "id": "AAyF_kpcGAA7",
        "outputId": "2f25e770-415b-4c98-c8cd-a44cd6d21180"
      },
      "execution_count": null,
      "outputs": [
        {
          "output_type": "stream",
          "name": "stdout",
          "text": [
            "False\n"
          ]
        }
      ]
    },
    {
      "cell_type": "code",
      "source": [
        "# = 기호가 먼저나오면 안된다.\n",
        "print(a>=b)"
      ],
      "metadata": {
        "colab": {
          "base_uri": "https://localhost:8080/"
        },
        "id": "AlzwKi49GHT5",
        "outputId": "d0310610-019a-4be0-c9ed-7e8041977358"
      },
      "execution_count": null,
      "outputs": [
        {
          "output_type": "stream",
          "name": "stdout",
          "text": [
            "False\n"
          ]
        }
      ]
    },
    {
      "cell_type": "code",
      "source": [
        "print(a==b) #같다\n",
        "print(a<=b)\n",
        "print(a<b)\n",
        "print(a>=b)\n",
        "print(a>b)\n",
        "print(a != b) #같지않다"
      ],
      "metadata": {
        "colab": {
          "base_uri": "https://localhost:8080/"
        },
        "id": "HLtfxfOoGLVC",
        "outputId": "e8d241eb-53ce-4e5e-ee00-83d5942012cf"
      },
      "execution_count": null,
      "outputs": [
        {
          "output_type": "stream",
          "name": "stdout",
          "text": [
            "False\n",
            "True\n",
            "True\n",
            "False\n",
            "False\n",
            "True\n"
          ]
        }
      ]
    },
    {
      "cell_type": "code",
      "source": [
        "#단어를 비교한다? 내부의 코드값으로 비교한다. 각 단어가 배정된 데이터값이 있고, 이를 비교하는 것. 우리가 보기에는 글자지만, 내부의 데이터는 다르다.\n",
        "c = \"가방\"\n",
        "d = \"책\""
      ],
      "metadata": {
        "id": "a2JV1Zg6GnZM"
      },
      "execution_count": null,
      "outputs": []
    },
    {
      "cell_type": "code",
      "source": [
        "print(\"가방\" == \"책\")"
      ],
      "metadata": {
        "colab": {
          "base_uri": "https://localhost:8080/"
        },
        "id": "on9fMt1sHCiy",
        "outputId": "0261145f-b5c6-4028-9af7-b67fb09a082f"
      },
      "execution_count": null,
      "outputs": [
        {
          "output_type": "stream",
          "name": "stdout",
          "text": [
            "False\n"
          ]
        }
      ]
    },
    {
      "cell_type": "code",
      "source": [
        "print(c < d)\n",
        "print(c > d)\n",
        "print(c == d)"
      ],
      "metadata": {
        "colab": {
          "base_uri": "https://localhost:8080/"
        },
        "id": "2R8nCfOeHFxI",
        "outputId": "05dc41b9-7fec-47ad-9a43-67c58fe0ad9b"
      },
      "execution_count": null,
      "outputs": [
        {
          "output_type": "stream",
          "name": "stdout",
          "text": [
            "True\n",
            "False\n",
            "False\n"
          ]
        }
      ]
    },
    {
      "cell_type": "markdown",
      "source": [
        "###논리 연산자"
      ],
      "metadata": {
        "id": "DVNS9MObHyOv"
      }
    },
    {
      "cell_type": "code",
      "source": [
        "a = 4\n",
        "b = 8\n",
        "c = 10\n",
        "d = 12"
      ],
      "metadata": {
        "id": "fLtchALuHVey"
      },
      "execution_count": null,
      "outputs": []
    },
    {
      "cell_type": "code",
      "source": [
        "#F and F\n",
        "print(a==b and c>d)\n",
        "# F and T\n",
        "print(a>=b and c<d)\n",
        "# T and T\n",
        "print(a<b and c<d)\n"
      ],
      "metadata": {
        "colab": {
          "base_uri": "https://localhost:8080/"
        },
        "id": "WdXYb4aBIBSj",
        "outputId": "9935ab1f-0c63-4b03-a363-387755fbe95f"
      },
      "execution_count": null,
      "outputs": [
        {
          "output_type": "stream",
          "name": "stdout",
          "text": [
            "False\n",
            "False\n",
            "True\n"
          ]
        }
      ]
    },
    {
      "cell_type": "code",
      "source": [
        "print(result = print(a<b and c<d))"
      ],
      "metadata": {
        "colab": {
          "base_uri": "https://localhost:8080/",
          "height": 166
        },
        "id": "pX5ZRYS5IHD4",
        "outputId": "738701c3-89b8-4e72-f1a7-287ea50b0788"
      },
      "execution_count": null,
      "outputs": [
        {
          "output_type": "stream",
          "name": "stdout",
          "text": [
            "True\n"
          ]
        },
        {
          "output_type": "error",
          "ename": "TypeError",
          "evalue": "'result' is an invalid keyword argument for print()",
          "traceback": [
            "\u001b[0;31m---------------------------------------------------------------------------\u001b[0m",
            "\u001b[0;31mTypeError\u001b[0m                                 Traceback (most recent call last)",
            "\u001b[0;32m<ipython-input-17-9092cca1172f>\u001b[0m in \u001b[0;36m<cell line: 1>\u001b[0;34m()\u001b[0m\n\u001b[0;32m----> 1\u001b[0;31m \u001b[0mprint\u001b[0m\u001b[0;34m(\u001b[0m\u001b[0mresult\u001b[0m \u001b[0;34m=\u001b[0m \u001b[0mprint\u001b[0m\u001b[0;34m(\u001b[0m\u001b[0ma\u001b[0m\u001b[0;34m<\u001b[0m\u001b[0mb\u001b[0m \u001b[0;32mand\u001b[0m \u001b[0mc\u001b[0m\u001b[0;34m<\u001b[0m\u001b[0md\u001b[0m\u001b[0;34m)\u001b[0m\u001b[0;34m)\u001b[0m\u001b[0;34m\u001b[0m\u001b[0;34m\u001b[0m\u001b[0m\n\u001b[0m",
            "\u001b[0;31mTypeError\u001b[0m: 'result' is an invalid keyword argument for print()"
          ]
        }
      ]
    },
    {
      "cell_type": "code",
      "source": [
        "result = (a<b and c<d)\n"
      ],
      "metadata": {
        "id": "m5yHsY4ZJhVl"
      },
      "execution_count": null,
      "outputs": []
    },
    {
      "cell_type": "code",
      "source": [
        "result"
      ],
      "metadata": {
        "colab": {
          "base_uri": "https://localhost:8080/"
        },
        "id": "hoemejlZJleV",
        "outputId": "89c8c121-5387-4e3c-b939-e8082c6644c6"
      },
      "execution_count": null,
      "outputs": [
        {
          "output_type": "execute_result",
          "data": {
            "text/plain": [
              "True"
            ]
          },
          "metadata": {},
          "execution_count": 19
        }
      ]
    },
    {
      "cell_type": "code",
      "source": [
        "not(result)"
      ],
      "metadata": {
        "colab": {
          "base_uri": "https://localhost:8080/"
        },
        "id": "64mks5ydJnEZ",
        "outputId": "412ddc61-fba1-4956-b1dc-374a62400e45"
      },
      "execution_count": null,
      "outputs": [
        {
          "output_type": "execute_result",
          "data": {
            "text/plain": [
              "False"
            ]
          },
          "metadata": {},
          "execution_count": 20
        }
      ]
    },
    {
      "cell_type": "code",
      "source": [
        "not(not(result))"
      ],
      "metadata": {
        "colab": {
          "base_uri": "https://localhost:8080/"
        },
        "id": "12yqM4VQJtcL",
        "outputId": "c99a23f4-1f30-433c-ccb2-2158d46a389b"
      },
      "execution_count": null,
      "outputs": [
        {
          "output_type": "execute_result",
          "data": {
            "text/plain": [
              "True"
            ]
          },
          "metadata": {},
          "execution_count": 21
        }
      ]
    },
    {
      "cell_type": "code",
      "source": [
        "not result"
      ],
      "metadata": {
        "colab": {
          "base_uri": "https://localhost:8080/"
        },
        "id": "hlI7p77XJyVV",
        "outputId": "d0614f0f-bd6a-44c4-c184-12df76500992"
      },
      "execution_count": null,
      "outputs": [
        {
          "output_type": "execute_result",
          "data": {
            "text/plain": [
              "False"
            ]
          },
          "metadata": {},
          "execution_count": 22
        }
      ]
    },
    {
      "cell_type": "code",
      "source": [
        "not not not not result"
      ],
      "metadata": {
        "colab": {
          "base_uri": "https://localhost:8080/"
        },
        "id": "oNa-498WJ0nA",
        "outputId": "11b7cfe6-a8f2-40e8-9f88-da5c0f40c2a7"
      },
      "execution_count": null,
      "outputs": [
        {
          "output_type": "execute_result",
          "data": {
            "text/plain": [
              "True"
            ]
          },
          "metadata": {},
          "execution_count": 23
        }
      ]
    },
    {
      "cell_type": "code",
      "source": [
        "print(not result)"
      ],
      "metadata": {
        "colab": {
          "base_uri": "https://localhost:8080/"
        },
        "id": "sg3JNRGUJ3Eu",
        "outputId": "a937993b-686f-440f-8ffb-78b7750d6be8"
      },
      "execution_count": null,
      "outputs": [
        {
          "output_type": "stream",
          "name": "stdout",
          "text": [
            "False\n"
          ]
        }
      ]
    },
    {
      "cell_type": "markdown",
      "source": [
        "###조건문 (비교연산자와 논리연산자가 있는 식)\n",
        "<pre>\n",
        "if 조건식 :\n",
        "  실행문\n",
        "</pre>"
      ],
      "metadata": {
        "id": "ONpxllt5FgSR"
      }
    },
    {
      "cell_type": "code",
      "source": [
        "if True :\n",
        "  print(\"True\")"
      ],
      "metadata": {
        "colab": {
          "base_uri": "https://localhost:8080/"
        },
        "id": "yA-0zL5MK4Bi",
        "outputId": "ebc01cba-d67f-40f5-800b-bd9221eb5daf"
      },
      "execution_count": null,
      "outputs": [
        {
          "output_type": "stream",
          "name": "stdout",
          "text": [
            "True\n"
          ]
        }
      ]
    },
    {
      "cell_type": "code",
      "source": [
        "if False:\n",
        "  print(\"True\")"
      ],
      "metadata": {
        "id": "nZTpu7R_LzhA"
      },
      "execution_count": null,
      "outputs": []
    },
    {
      "cell_type": "code",
      "source": [
        "if False:\n",
        "  print(\"True\")\n",
        "else:\n",
        "  print(\"False\")"
      ],
      "metadata": {
        "colab": {
          "base_uri": "https://localhost:8080/"
        },
        "id": "nDPJgvzCL5v4",
        "outputId": "342f2140-537f-4302-91da-608a60f78d96"
      },
      "execution_count": null,
      "outputs": [
        {
          "output_type": "stream",
          "name": "stdout",
          "text": [
            "False\n"
          ]
        }
      ]
    },
    {
      "cell_type": "code",
      "source": [
        "#result = False\n",
        "result = True\n",
        "if result :\n",
        "  print(\"True\")\n",
        "else:\n",
        "  print(\"False\")"
      ],
      "metadata": {
        "colab": {
          "base_uri": "https://localhost:8080/"
        },
        "id": "oH3YDkL6MKRg",
        "outputId": "0f9a8fa3-fa4c-4512-cd44-6c6cc6d6558c"
      },
      "execution_count": null,
      "outputs": [
        {
          "output_type": "stream",
          "name": "stdout",
          "text": [
            "True\n"
          ]
        }
      ]
    },
    {
      "cell_type": "code",
      "source": [
        "result = 1\n",
        "if result :\n",
        "  print(\"True\")\n",
        "else:\n",
        "  print(\"False\")"
      ],
      "metadata": {
        "colab": {
          "base_uri": "https://localhost:8080/"
        },
        "id": "i3GbJWRIMWe5",
        "outputId": "7e40659f-9580-4a65-fa7a-cb19c8f33e99"
      },
      "execution_count": null,
      "outputs": [
        {
          "output_type": "stream",
          "name": "stdout",
          "text": [
            "True\n"
          ]
        }
      ]
    },
    {
      "cell_type": "code",
      "source": [
        "result = 0\n",
        "if result :\n",
        "  print(\"True\")\n",
        "else:\n",
        "  print(\"False\")"
      ],
      "metadata": {
        "colab": {
          "base_uri": "https://localhost:8080/"
        },
        "id": "vJbe0b7ONCc0",
        "outputId": "d097a26c-14b5-4cee-9ed5-45b63ff4b2e4"
      },
      "execution_count": null,
      "outputs": [
        {
          "output_type": "stream",
          "name": "stdout",
          "text": [
            "False\n"
          ]
        }
      ]
    },
    {
      "cell_type": "markdown",
      "source": [
        "### 시스템의 날짜 / 시간 출력하기"
      ],
      "metadata": {
        "id": "NnuhAAcPNqAg"
      }
    },
    {
      "cell_type": "code",
      "source": [
        "import datetime"
      ],
      "metadata": {
        "id": "kU2hC1vANE6C"
      },
      "execution_count": null,
      "outputs": []
    },
    {
      "cell_type": "code",
      "source": [
        "datetime.datetime.now()"
      ],
      "metadata": {
        "colab": {
          "base_uri": "https://localhost:8080/"
        },
        "id": "FqaQJYPvORk6",
        "outputId": "909dbfd0-72ac-4a90-9326-fe61183c34a8"
      },
      "execution_count": null,
      "outputs": [
        {
          "output_type": "execute_result",
          "data": {
            "text/plain": [
              "datetime.datetime(2024, 7, 17, 5, 46, 30, 823994)"
            ]
          },
          "metadata": {},
          "execution_count": 36
        }
      ]
    },
    {
      "cell_type": "code",
      "source": [
        "datetime.datetime.now()"
      ],
      "metadata": {
        "colab": {
          "base_uri": "https://localhost:8080/"
        },
        "id": "OlbWUepaOl1t",
        "outputId": "a8bb38fb-21fb-4be8-a85d-1e82d1b41416"
      },
      "execution_count": null,
      "outputs": [
        {
          "output_type": "execute_result",
          "data": {
            "text/plain": [
              "datetime.datetime(2024, 7, 17, 5, 46, 56, 83322)"
            ]
          },
          "metadata": {},
          "execution_count": 37
        }
      ]
    },
    {
      "cell_type": "code",
      "source": [
        "datetime.datetime.now()"
      ],
      "metadata": {
        "colab": {
          "base_uri": "https://localhost:8080/"
        },
        "id": "PEHXJeaDOsAw",
        "outputId": "2fbc1761-e290-4b20-c365-a4bd54dc6104"
      },
      "execution_count": null,
      "outputs": [
        {
          "output_type": "execute_result",
          "data": {
            "text/plain": [
              "datetime.datetime(2024, 7, 17, 5, 47, 5, 472195)"
            ]
          },
          "metadata": {},
          "execution_count": 38
        }
      ]
    },
    {
      "cell_type": "code",
      "source": [
        "now = datetime.datetime.now()\n",
        "now"
      ],
      "metadata": {
        "colab": {
          "base_uri": "https://localhost:8080/"
        },
        "id": "blbLfYwiOuTm",
        "outputId": "26aadfc6-e173-411d-b1a7-9751e0c5bd7f"
      },
      "execution_count": null,
      "outputs": [
        {
          "output_type": "execute_result",
          "data": {
            "text/plain": [
              "datetime.datetime(2024, 7, 17, 5, 48, 34, 207224)"
            ]
          },
          "metadata": {},
          "execution_count": 39
        }
      ]
    },
    {
      "cell_type": "code",
      "source": [
        "# 입력했을 떄 렌치 모양이 나오는 것은 함수가 아니다.\n",
        "print(now.year, \"년\")\n",
        "print(now.month, \"월\")\n",
        "print(now.day, \"일\")\n",
        "print(now.hour, \"시\")\n",
        "print(now.minute, \"분\")\n",
        "print(now.second, \"초\")"
      ],
      "metadata": {
        "colab": {
          "base_uri": "https://localhost:8080/"
        },
        "id": "0_kt7w9_PD5b",
        "outputId": "b31ce4a8-3ca5-47f8-cd2c-9f600d35f4e2"
      },
      "execution_count": null,
      "outputs": [
        {
          "output_type": "stream",
          "name": "stdout",
          "text": [
            "2024 년\n",
            "7 월\n",
            "17 일\n",
            "5 시\n",
            "48 분\n",
            "34 초\n"
          ]
        }
      ]
    },
    {
      "cell_type": "code",
      "source": [
        "import datetime\n",
        "now = datetime.datetime.now()\n",
        "a = now.hour\n",
        "if 0 <= a < 7 :\n",
        "  print(\"새벽입니다.\")\n",
        "elif 7<= a < 12 :\n",
        "  print(\"오전입니다.\")\n",
        "elif 12 <= a < 13 :\n",
        "  print(\"점심시간입니다.\")\n",
        "elif 13 <= a < 18 :\n",
        "  print(\"오후입니다.\")\n",
        "elif 18 <= a < 24 :\n",
        "  print(\"밤입니다.\")"
      ],
      "metadata": {
        "colab": {
          "base_uri": "https://localhost:8080/"
        },
        "id": "LY068EGxPnfl",
        "outputId": "03ac5445-3e5b-45cd-85c4-08a01d29c19e"
      },
      "execution_count": null,
      "outputs": [
        {
          "output_type": "stream",
          "name": "stdout",
          "text": [
            "새벽입니다.\n"
          ]
        }
      ]
    },
    {
      "cell_type": "code",
      "source": [
        "now"
      ],
      "metadata": {
        "colab": {
          "base_uri": "https://localhost:8080/"
        },
        "id": "NaX82XvkUp2I",
        "outputId": "7dc95cd6-731f-44d5-bf9b-17f128bd5651"
      },
      "execution_count": null,
      "outputs": [
        {
          "output_type": "execute_result",
          "data": {
            "text/plain": [
              "datetime.datetime(2024, 7, 17, 6, 15, 31, 150614)"
            ]
          },
          "metadata": {},
          "execution_count": 52
        }
      ]
    },
    {
      "cell_type": "code",
      "source": [
        "now.hour"
      ],
      "metadata": {
        "colab": {
          "base_uri": "https://localhost:8080/"
        },
        "id": "zgVECPAMVGvZ",
        "outputId": "dab706d6-ad96-44f2-da1f-646f6d8888bf"
      },
      "execution_count": null,
      "outputs": [
        {
          "output_type": "execute_result",
          "data": {
            "text/plain": [
              "6"
            ]
          },
          "metadata": {},
          "execution_count": 53
        }
      ]
    },
    {
      "cell_type": "code",
      "source": [
        "#잘 작동하는지 반드시 테스트를 해보자.\n",
        "#변수 정의를 통해 테스트를 진행해보자\n",
        "#마지막은 else로 처리함으로써 가동률을 낮춰보자.\n",
        "\n",
        "import datetime\n",
        "now = datetime.datetime.now()\n",
        "#a = now.hour\n",
        "a = 11\n",
        "if 7<= a < 12 :\n",
        "  print(\"오전입니다.\")\n",
        "elif 12 <= a < 13 :\n",
        "  print(\"점심시간입니다.\")\n",
        "elif 13 <= a < 18 :\n",
        "  print(\"오후입니다.\")\n",
        "elif 18 <= a < 24 :\n",
        "  print(\"밤입니다.\")\n",
        "elif 0 <= a < 7 :\n",
        "  print(\"새벽입니다.\")"
      ],
      "metadata": {
        "id": "InQZ9rHQVI6e",
        "colab": {
          "base_uri": "https://localhost:8080/"
        },
        "outputId": "3833638a-ff58-4457-bc25-595f2d8f90dd"
      },
      "execution_count": null,
      "outputs": [
        {
          "output_type": "stream",
          "name": "stdout",
          "text": [
            "오전입니다.\n"
          ]
        }
      ]
    },
    {
      "cell_type": "code",
      "source": [
        "import datetime\n",
        "now = datetime.datetime.now()\n",
        "#a = now.hour\n",
        "a = 11\n",
        "if 7<= a < 12 :\n",
        "  print(\"오전입니다.\")\n",
        "elif 12 <= a < 13 :\n",
        "  print(\"점심시간입니다.\")\n",
        "elif 13 <= a < 18 :\n",
        "  print(\"오후입니다.\")\n",
        "elif 18 <= a < 24 :\n",
        "  print(\"밤입니다.\")\n",
        "else :\n",
        "  print(\"새벽입니다.\")"
      ],
      "metadata": {
        "colab": {
          "base_uri": "https://localhost:8080/"
        },
        "id": "agcVG98gXigU",
        "outputId": "fac9c0cc-e3ea-467b-bfd4-625a56222d2f"
      },
      "execution_count": null,
      "outputs": [
        {
          "output_type": "stream",
          "name": "stdout",
          "text": [
            "오전입니다.\n"
          ]
        }
      ]
    },
    {
      "cell_type": "markdown",
      "source": [
        "###입력값의 홀수 짝수 여부 판단하기"
      ],
      "metadata": {
        "id": "DhfKyVEGgLEd"
      }
    },
    {
      "cell_type": "code",
      "source": [
        "num = input(\"숫자 입력하기\")"
      ],
      "metadata": {
        "colab": {
          "base_uri": "https://localhost:8080/"
        },
        "id": "YSQOcW6WdP2c",
        "outputId": "2e09c4b4-3632-42ae-cd9f-12266e4c7800"
      },
      "execution_count": null,
      "outputs": [
        {
          "name": "stdout",
          "output_type": "stream",
          "text": [
            "숫자 입력하기12345\n"
          ]
        }
      ]
    },
    {
      "cell_type": "code",
      "source": [
        "num"
      ],
      "metadata": {
        "colab": {
          "base_uri": "https://localhost:8080/",
          "height": 35
        },
        "id": "17t7QPmTgRrW",
        "outputId": "093494d4-3467-402a-f1a5-251895364608"
      },
      "execution_count": null,
      "outputs": [
        {
          "output_type": "execute_result",
          "data": {
            "text/plain": [
              "'12345'"
            ],
            "application/vnd.google.colaboratory.intrinsic+json": {
              "type": "string"
            }
          },
          "metadata": {},
          "execution_count": 70
        }
      ]
    },
    {
      "cell_type": "code",
      "source": [
        "num[-1]"
      ],
      "metadata": {
        "colab": {
          "base_uri": "https://localhost:8080/",
          "height": 35
        },
        "id": "uHns2mLQgUt-",
        "outputId": "c1ca37ab-0ad7-4cf4-c075-19c43c82145d"
      },
      "execution_count": null,
      "outputs": [
        {
          "output_type": "execute_result",
          "data": {
            "text/plain": [
              "'5'"
            ],
            "application/vnd.google.colaboratory.intrinsic+json": {
              "type": "string"
            }
          },
          "metadata": {},
          "execution_count": 71
        }
      ]
    },
    {
      "cell_type": "code",
      "source": [
        "#가장 무식한 방법\n",
        "#짝수\n",
        "number = input(\"정수를 입력하세요\")\n",
        "last_character = number[-1]\n",
        "last_number = int(last_character)\n",
        "if last_number == 0 \\\n",
        "  or last_number == 2 \\\n",
        "  or last_number == 4 \\\n",
        "  or last_number == 6 \\\n",
        "  or last_number == 8 :\n",
        "    print(\"짝수입니다.\")\n",
        "#홀수\n",
        "if last_number == 1\\\n",
        "  or last_number == 3\\\n",
        "  or last_number == 5\\\n",
        "  or last_number == 7\\\n",
        "  or last_number == 9 :\n",
        "    print(\"홀수입니다.\")"
      ],
      "metadata": {
        "colab": {
          "base_uri": "https://localhost:8080/"
        },
        "id": "nSGZxiZcgWwd",
        "outputId": "9c656fb6-a334-477d-9e91-2bdd1d338aa1"
      },
      "execution_count": null,
      "outputs": [
        {
          "output_type": "stream",
          "name": "stdout",
          "text": [
            "정수를 입력하세요123\n",
            "홀수입니다.\n"
          ]
        }
      ]
    },
    {
      "cell_type": "code",
      "source": [
        "# in 연산자를 활용한 수정\n",
        "\n",
        "number = input(\"정수 입력>\")\n",
        "last_character = number[-1]\n",
        "\n",
        "if last_character in \"02468\" :\n",
        "  print(\"짝수입니다\")\n",
        "\n",
        "if last_character in \"13579\" :\n",
        "  print(\"홀수입니다\")\n"
      ],
      "metadata": {
        "colab": {
          "base_uri": "https://localhost:8080/"
        },
        "id": "a51tUhKbiDRH",
        "outputId": "6e64a4f5-991a-4621-f2e7-2202574428c4"
      },
      "execution_count": null,
      "outputs": [
        {
          "output_type": "stream",
          "name": "stdout",
          "text": [
            "정수 입력>1243132\n",
            "짝수입니다\n"
          ]
        }
      ]
    },
    {
      "cell_type": "code",
      "source": [
        "number = input(\"정수 입력>\")\n",
        "number = int(number)\n",
        "\n",
        "#짝수조건\n",
        "if number % 2 == 0 :\n",
        "  print(\"짝수입니다\")\n",
        "\n",
        "if number % 2 == 1 :\n",
        "  print(\"홀수입니다\")"
      ],
      "metadata": {
        "colab": {
          "base_uri": "https://localhost:8080/"
        },
        "id": "vpcVtoitjYpw",
        "outputId": "2f74b551-50d7-4359-f8ca-825d54b14bed"
      },
      "execution_count": null,
      "outputs": [
        {
          "output_type": "stream",
          "name": "stdout",
          "text": [
            "정수 입력>12132\n",
            "짝수입니다\n"
          ]
        }
      ]
    },
    {
      "cell_type": "code",
      "source": [
        "number = input(\"정수 입력>\")\n",
        "number = int(number)\n",
        "\n",
        "#짝수조건\n",
        "if number % 2 == 0 :\n",
        "  print(\"짝수입니다.\")\n",
        "\n",
        "else:\n",
        "  print(\"홀수입니다.\")"
      ],
      "metadata": {
        "colab": {
          "base_uri": "https://localhost:8080/"
        },
        "id": "rj9JgNQUj0HU",
        "outputId": "f5eb43da-bea7-4c00-865a-c247a6ff67b8"
      },
      "execution_count": null,
      "outputs": [
        {
          "output_type": "stream",
          "name": "stdout",
          "text": [
            "정수 입력>12412\n",
            "짝수입니다.\n"
          ]
        }
      ]
    },
    {
      "cell_type": "code",
      "source": [
        "#Shift + \\를 누르면 or 단축키 가능\n",
        "True | False"
      ],
      "metadata": {
        "colab": {
          "base_uri": "https://localhost:8080/"
        },
        "id": "pkt3k71Sj_Se",
        "outputId": "850cfee2-91a9-4e2b-d0bf-fb2ca08b4920"
      },
      "execution_count": null,
      "outputs": [
        {
          "output_type": "execute_result",
          "data": {
            "text/plain": [
              "True"
            ]
          },
          "metadata": {},
          "execution_count": 84
        }
      ]
    },
    {
      "cell_type": "code",
      "source": [
        "if True :\n",
        "  # 여기 참"
      ],
      "metadata": {
        "colab": {
          "base_uri": "https://localhost:8080/",
          "height": 110
        },
        "id": "TOdUvkwwlQRN",
        "outputId": "bc0ca720-f1da-49b5-86b1-d6ff2427c33b"
      },
      "execution_count": null,
      "outputs": [
        {
          "output_type": "error",
          "ename": "SyntaxError",
          "evalue": "incomplete input (<ipython-input-85-52d40f72a73a>, line 2)",
          "traceback": [
            "\u001b[0;36m  File \u001b[0;32m\"<ipython-input-85-52d40f72a73a>\"\u001b[0;36m, line \u001b[0;32m2\u001b[0m\n\u001b[0;31m    # 여기 참\u001b[0m\n\u001b[0m          ^\u001b[0m\n\u001b[0;31mSyntaxError\u001b[0m\u001b[0;31m:\u001b[0m incomplete input\n"
          ]
        }
      ]
    },
    {
      "cell_type": "code",
      "source": [
        "#Pass를 사용하는 경우가 있다. 연산을 하지 않고 일단 넘긴다는 이야기. 구현하고자 하는 것을 적어두고 pass 하는 방식으로 활용하기도 함.\n",
        "if True :\n",
        "  pass"
      ],
      "metadata": {
        "id": "5XaKr0-fl0an"
      },
      "execution_count": null,
      "outputs": []
    },
    {
      "cell_type": "code",
      "source": [
        "if True :\n"
      ],
      "metadata": {
        "id": "pjY_9gzXl3_A"
      },
      "execution_count": null,
      "outputs": []
    },
    {
      "cell_type": "code",
      "source": [
        "None"
      ],
      "metadata": {
        "id": "SKvIWS84oLvx"
      },
      "execution_count": null,
      "outputs": []
    },
    {
      "cell_type": "code",
      "source": [
        "type(None)"
      ],
      "metadata": {
        "colab": {
          "base_uri": "https://localhost:8080/"
        },
        "id": "4bRsId16oNM3",
        "outputId": "e63722f8-0c21-44c0-8506-0abe8ac4e46d"
      },
      "execution_count": null,
      "outputs": [
        {
          "output_type": "execute_result",
          "data": {
            "text/plain": [
              "NoneType"
            ]
          },
          "metadata": {},
          "execution_count": 89
        }
      ]
    },
    {
      "cell_type": "code",
      "source": [
        "if None :\n",
        "  print(\"참\")\n",
        "else :\n",
        "  print(\"거짓\")"
      ],
      "metadata": {
        "colab": {
          "base_uri": "https://localhost:8080/"
        },
        "id": "DqdGVoxIoOrO",
        "outputId": "377e68c0-465d-4a9b-b11c-97136b95d240"
      },
      "execution_count": null,
      "outputs": [
        {
          "output_type": "stream",
          "name": "stdout",
          "text": [
            "거짓\n"
          ]
        }
      ]
    },
    {
      "cell_type": "code",
      "source": [
        "if \"\" :\n",
        "  print(\"참\")\n",
        "else :\n",
        "  print(\"거짓\")"
      ],
      "metadata": {
        "colab": {
          "base_uri": "https://localhost:8080/"
        },
        "id": "RDqp4DgioUDZ",
        "outputId": "8426657f-7402-4ff4-c79a-2a9e488b6c33"
      },
      "execution_count": null,
      "outputs": [
        {
          "output_type": "stream",
          "name": "stdout",
          "text": [
            "거짓\n"
          ]
        }
      ]
    },
    {
      "cell_type": "code",
      "source": [
        "type(\"\")"
      ],
      "metadata": {
        "colab": {
          "base_uri": "https://localhost:8080/"
        },
        "id": "hapx7Kg4ogCH",
        "outputId": "14ae568d-c93d-4f19-8d66-19b73ebee9a9"
      },
      "execution_count": null,
      "outputs": [
        {
          "output_type": "execute_result",
          "data": {
            "text/plain": [
              "str"
            ]
          },
          "metadata": {},
          "execution_count": 92
        }
      ]
    },
    {
      "cell_type": "code",
      "source": [
        "type(None)"
      ],
      "metadata": {
        "colab": {
          "base_uri": "https://localhost:8080/"
        },
        "id": "TMOu96hnomPe",
        "outputId": "1ec32d12-87b5-4f86-d46f-cebd9bbc3d15"
      },
      "execution_count": null,
      "outputs": [
        {
          "output_type": "execute_result",
          "data": {
            "text/plain": [
              "NoneType"
            ]
          },
          "metadata": {},
          "execution_count": 93
        }
      ]
    },
    {
      "cell_type": "code",
      "source": [
        "if [] :\n",
        "  print(\"참\")\n",
        "else :\n",
        "  print(\"거짓\")"
      ],
      "metadata": {
        "colab": {
          "base_uri": "https://localhost:8080/"
        },
        "id": "YCJ-Ujjsoo-K",
        "outputId": "72c61980-62e9-42eb-976d-b25c100214da"
      },
      "execution_count": null,
      "outputs": [
        {
          "output_type": "stream",
          "name": "stdout",
          "text": [
            "거짓\n"
          ]
        }
      ]
    },
    {
      "cell_type": "code",
      "source": [
        "#예시 : 계절 구하기\n",
        "import datetime\n",
        "\n",
        "now = datetime.datetime.now()\n",
        "month = now.month\n",
        "\n",
        "\n",
        "if 3 <= month <= 5:\n",
        "  print(\"현재는 봄입니다.\")\n",
        "elif 6 <= month <= 8:\n",
        "  print(\"현재는 여름입니다.\")\n",
        "elif 9 <= month <= 11:\n",
        "  print(\"현재는 가을입니다.\")\n",
        "else:\n",
        "  print(\"현재는 겨울입니다.\")"
      ],
      "metadata": {
        "colab": {
          "base_uri": "https://localhost:8080/"
        },
        "id": "z_Uk8pTxo3sp",
        "outputId": "84edf92c-4304-4691-b467-f2ec5266d7b6"
      },
      "execution_count": null,
      "outputs": [
        {
          "output_type": "stream",
          "name": "stdout",
          "text": [
            "현재는 여름입니다.\n"
          ]
        }
      ]
    },
    {
      "cell_type": "code",
      "source": [
        "#if 조건문을 효율적으로 사용하기 - 위에서 계산한 영역을 굳이 다시 정의할 필요가 없다.\n",
        "\n",
        "score = float(input(\"학점을 입력하세요\"))\n",
        "\n",
        "if score == 4.5 :\n",
        "  print(\"신\")\n",
        "\n",
        "elif 4.2 <= score :\n",
        "  print(\"교수님의 사랑\")\n",
        "\n",
        "elif 3.5 <= score :\n",
        "  print(\"현 체제의 수호자\")\n",
        "\n",
        "elif 2.8 <= score :\n",
        "  print(\"일반인\")\n",
        "\n",
        "elif 2.3 <= score :\n",
        "  print(\"일탈을 꿈꾸는 소시민\")\n",
        "\n",
        "elif 1.75 <= score :\n",
        "  print(\"오락문화의 선구자\")\n",
        "\n",
        "elif 1.0 <= score :\n",
        "  print(\"불가촉천민\")\n",
        "\n",
        "elif 0.5 <= score :\n",
        "  print(\"자벌레\")\n",
        "\n",
        "elif 0 <= score :\n",
        "  print(\"플랑크톤\")\n",
        "\n",
        "else:\n",
        "  print(\"시대를 앞서가는 혁명의 씨앗\")"
      ],
      "metadata": {
        "colab": {
          "base_uri": "https://localhost:8080/"
        },
        "id": "rWhFNpmwpwSC",
        "outputId": "3878ae00-d203-4599-a96a-6eb7bbd70909"
      },
      "execution_count": null,
      "outputs": [
        {
          "output_type": "stream",
          "name": "stdout",
          "text": [
            "학점을 입력하세요0.7\n",
            "자벌레\n"
          ]
        }
      ]
    },
    {
      "cell_type": "code",
      "source": [
        "#False로 변환되는 값\n",
        "#빈 컨테이너\n",
        "#if 조건문의 매개변수에 불 아닌 다른 값이 올 때 자동으로 불로 변환\n",
        "#이 때 Flase로 변환되는 값 : None, 0.0, 빈 문자열, 빈 바이트열, 빈 리스트\n",
        "\n",
        "print(\"#if 조건문에 0 넣기\")\n",
        "if 0:\n",
        "  print(\"0은 True로 변환됩니다.\")\n",
        "else:\n",
        "  print(\"0은 False로 변환됩니다.\")\n",
        "print()\n",
        "\n",
        "print(\"#if 조건문에 빈 문자열 넣기\")\n",
        "if \"\":\n",
        "  print(\"빈 문자열은 True로 변환됩니다.\")\n",
        "else:\n",
        "  print(\"빈 문자열은 False로 변환됩니다.\")"
      ],
      "metadata": {
        "id": "n2QyZQSorSDx"
      },
      "execution_count": null,
      "outputs": []
    },
    {
      "cell_type": "code",
      "source": [
        "\n",
        "#확인 문제\n",
        "\n",
        "item = input(\"card, money, paper, mobilephone\")\n",
        "\n",
        "card = True\n",
        "money = True\n",
        "paper = False\n",
        "mobilephone = False\n",
        "card = \"card\"\n",
        "money = \"money\"\n",
        "paper = \"paper\"\n",
        "mobilephone = \"mobilephone\"\n",
        "\n",
        "if item == card or item == money :\n",
        "  print(\"택시를 타라\")\n",
        "\n",
        "elif item == paper or item == mobilephone :\n",
        "  print(\"걸어 가라\")\n",
        "\n",
        "else :\n",
        "  print(\"잘못된 입력입니다.\")\n"
      ],
      "metadata": {
        "id": "MkEIxVJ9wupk",
        "colab": {
          "base_uri": "https://localhost:8080/"
        },
        "outputId": "0c797596-c4b5-4e15-9090-9c3463cdb669"
      },
      "execution_count": null,
      "outputs": [
        {
          "output_type": "stream",
          "name": "stdout",
          "text": [
            "card, money, paper, mobilephonebob\n",
            "잘못된 입력입니다.\n"
          ]
        }
      ]
    },
    {
      "cell_type": "code",
      "source": [
        "#Feedback - 처음에 했던 방식\n",
        "\n",
        "item = input(\"card, money, paper, mobilephone\")\n",
        "\n",
        "card = True\n",
        "money = True\n",
        "paper = False\n",
        "mobilephone = False\n",
        "\n",
        "if item == card or money:\n",
        "  print(\"택시를 타라\")\n",
        "\n",
        "else:\n",
        "  print(\"걸어 가라\")"
      ],
      "metadata": {
        "colab": {
          "base_uri": "https://localhost:8080/"
        },
        "id": "25wG4f9OKiPv",
        "outputId": "06fb3792-a99b-4319-ab70-f6e4def9ba3f"
      },
      "execution_count": null,
      "outputs": [
        {
          "output_type": "stream",
          "name": "stdout",
          "text": [
            "card, money, paper, mobilephoneㅊㅁㄱㅇ\n",
            "택시를 타라\n"
          ]
        }
      ]
    },
    {
      "cell_type": "code",
      "source": [
        "#자판기 문제\n",
        "#정의\n",
        "콜라 = \"콜라\"\n",
        "사이다 = \"사이다\"\n",
        "환타 = \"환타\"\n",
        "\n",
        "\n",
        "value = int(input(\"동전을 넣으세요\"))\n",
        "\n",
        "if value < 700 :\n",
        "  print(\"잔돈이 부족합니다\")\n",
        "\n",
        "elif value >= 700 :\n",
        "  beverage = input(\"콜라 사이다 환타 중 선택하세요\")\n",
        "  if beverage == 환타 :\n",
        "    print(value - 700)\n",
        "  elif beverage == 사이다 :\n",
        "    print(value - 600)\n",
        "  elif beverage == 콜라 :\n",
        "    print(value - 500)\n",
        "  else :\n",
        "    print(\"동전을 반환합니다.\")\n",
        "\n"
      ],
      "metadata": {
        "colab": {
          "base_uri": "https://localhost:8080/"
        },
        "id": "dYWf7DOZyHkK",
        "outputId": "ed042903-481e-4e94-c0ee-d4506dcd92a3"
      },
      "execution_count": null,
      "outputs": [
        {
          "output_type": "stream",
          "name": "stdout",
          "text": [
            "동전을 넣으세요5000\n",
            "콜라 사이다 환타 중 선택하세요사이다\n",
            "4400\n"
          ]
        }
      ]
    },
    {
      "cell_type": "code",
      "source": [],
      "metadata": {
        "id": "Ax1rYhar0jFu"
      },
      "execution_count": null,
      "outputs": []
    }
  ]
}