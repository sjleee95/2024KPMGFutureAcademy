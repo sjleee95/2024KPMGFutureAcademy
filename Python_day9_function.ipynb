{
 "cells": [
  {
   "cell_type": "code",
   "execution_count": 2,
   "id": "23a34f7d-b33f-4df1-bc18-521a7874eb8c",
   "metadata": {},
   "outputs": [
    {
     "data": {
      "text/plain": [
       "(1, 3, 3, 4)"
      ]
     },
     "execution_count": 2,
     "metadata": {},
     "output_type": "execute_result"
    }
   ],
   "source": [
    "#아래처럼 나열하면 tuple이 자동으로 만들어진다.\n",
    "a = 1,3,3,4\n",
    "\n",
    "a"
   ]
  },
  {
   "cell_type": "code",
   "execution_count": 4,
   "id": "180d7c40-14f2-4417-8555-4091b46b7241",
   "metadata": {},
   "outputs": [
    {
     "name": "stdout",
     "output_type": "stream",
     "text": [
      "10\n",
      "20\n"
     ]
    }
   ],
   "source": [
    "[a,b] = [10,20]\n",
    "print(a)\n",
    "print(b)"
   ]
  },
  {
   "cell_type": "code",
   "execution_count": 6,
   "id": "00401c86-e9d8-4148-9e91-d1ea54a3cef8",
   "metadata": {},
   "outputs": [
    {
     "name": "stdout",
     "output_type": "stream",
     "text": [
      "10\n",
      "[20, 30, 40]\n"
     ]
    }
   ],
   "source": [
    "## *를 붙이면 사용할 수 있음\n",
    "\n",
    "(a,*b) = (10,20,30,40)\n",
    "print(a)\n",
    "print(b)"
   ]
  },
  {
   "cell_type": "code",
   "execution_count": 7,
   "id": "4827c4d6-318c-45af-ae33-82e3a5c06664",
   "metadata": {},
   "outputs": [
    {
     "name": "stdout",
     "output_type": "stream",
     "text": [
      "a: 10\n",
      "b: 20\n"
     ]
    }
   ],
   "source": [
    "def test():\n",
    "    return (10, 20)\n",
    "\n",
    "a,b = test()\n",
    "\n",
    "print(\"a:\",a)\n",
    "print(\"b:\",b)"
   ]
  },
  {
   "cell_type": "code",
   "execution_count": 11,
   "id": "59baf7c3-8d33-4b55-9477-b6e2927faa42",
   "metadata": {},
   "outputs": [
    {
     "name": "stdout",
     "output_type": "stream",
     "text": [
      "10\n",
      "20\n",
      "30\n"
     ]
    }
   ],
   "source": [
    "#Tuple\n",
    "\n",
    "tuple_test = (10,20,30)\n",
    "\n",
    "print(tuple_test[0])\n",
    "\n",
    "print(tuple_test[1])\n",
    "\n",
    "print(tuple_test[2])"
   ]
  },
  {
   "cell_type": "code",
   "execution_count": 12,
   "id": "8bc2868c-fb2c-460a-8dd3-b68642903a45",
   "metadata": {},
   "outputs": [
    {
     "ename": "TypeError",
     "evalue": "'tuple' object does not support item assignment",
     "output_type": "error",
     "traceback": [
      "\u001b[1;31m---------------------------------------------------------------------------\u001b[0m",
      "\u001b[1;31mTypeError\u001b[0m                                 Traceback (most recent call last)",
      "Cell \u001b[1;32mIn[12], line 2\u001b[0m\n\u001b[0;32m      1\u001b[0m \u001b[38;5;66;03m#튜플은 내부 자료들을 바꿀 수 없음! 데이터 조작을 막는 데 유용할수도?\u001b[39;00m\n\u001b[1;32m----> 2\u001b[0m tuple_test[\u001b[38;5;241m0\u001b[39m] \u001b[38;5;241m=\u001b[39m \u001b[38;5;241m2\u001b[39m\n",
      "\u001b[1;31mTypeError\u001b[0m: 'tuple' object does not support item assignment"
     ]
    }
   ],
   "source": [
    "#튜플은 내부 자료들을 바꿀 수 없음! 데이터 조작을 막는 데 유용할수도?\n",
    "tuple_test[0] = 2"
   ]
  },
  {
   "cell_type": "code",
   "execution_count": 14,
   "id": "4ad6c4c0-2920-4e23-aa7e-516de4deb3f0",
   "metadata": {},
   "outputs": [
    {
     "name": "stdout",
     "output_type": "stream",
     "text": [
      "괄호가 없는 자료의 튜플의 값과 자료형 출력\n",
      "tuple_test: (10, 20, 30, 40)\n",
      "type(tuple_test:) <class 'tuple'>\n",
      "\n",
      "#괄호가 없는 튜플을 활용한 할당\n",
      "a: 10\n",
      "b: 20\n",
      "c: 30\n"
     ]
    }
   ],
   "source": [
    "#괄호가 없는 튜플\n",
    "tuple_test = 10,20,30,40\n",
    "\n",
    "print(\"괄호가 없는 자료의 튜플의 값과 자료형 출력\")\n",
    "print(\"tuple_test:\", tuple_test)\n",
    "print(\"type(tuple_test:)\",type(tuple_test))\n",
    "print()\n",
    "\n",
    "#괄호가 없는 튜플 사용\n",
    "a,b,c = 10, 20, 30\n",
    "print(\"#괄호가 없는 튜플을 활용한 할당\")\n",
    "print(\"a:\",a)\n",
    "print(\"b:\",b)\n",
    "print(\"c:\",c)"
   ]
  },
  {
   "cell_type": "code",
   "execution_count": 15,
   "id": "b2d4d1e9-001b-4b94-8db0-228b87332d9f",
   "metadata": {},
   "outputs": [
    {
     "name": "stdout",
     "output_type": "stream",
     "text": [
      "교환 전 값\n",
      "a: 10\n",
      "b: 20\n",
      "\n",
      "교환 후 값\n",
      "a: 20\n",
      "b: 10\n",
      "\n"
     ]
    }
   ],
   "source": [
    "#활용 예시 - 자료의 값을 변환하는 튜플\n",
    "a,b = 10, 20\n",
    "\n",
    "print(\"교환 전 값\")\n",
    "print(\"a:\",a)\n",
    "print(\"b:\",b)\n",
    "print()\n",
    "\n",
    "#값을 교환합니다.\n",
    "a,b = b,a\n",
    "\n",
    "print(\"교환 후 값\")\n",
    "print(\"a:\",a)\n",
    "print(\"b:\",b)\n",
    "print()"
   ]
  },
  {
   "cell_type": "code",
   "execution_count": 18,
   "id": "e47229a5-d208-4c6e-9ea9-8bf3413d2be1",
   "metadata": {},
   "outputs": [
    {
     "name": "stdout",
     "output_type": "stream",
     "text": [
      "a: 10\n",
      "b: 20\n"
     ]
    }
   ],
   "source": [
    "#튜플과 함수\n",
    "#예시 - 여러 개의 값 리턴하기\n",
    "\n",
    "def test():\n",
    "    return (10,20)\n",
    "\n",
    "#여러 개의 값을 리턴받습니다. 리턴 받은 값이 다시 a,b로 들어가는 원리\n",
    "a,b =test()\n",
    "\n",
    "#출력합니다.\n",
    "print(\"a:\",a)\n",
    "print(\"b:\",b)"
   ]
  },
  {
   "cell_type": "code",
   "execution_count": 22,
   "id": "c6724f09-5cc8-4442-b512-fa62cc864c74",
   "metadata": {},
   "outputs": [
    {
     "name": "stdout",
     "output_type": "stream",
     "text": [
      "{1, 2, 3, 4, 5, 6}\n",
      "{1, 2, 3, 4, 5, 6}\n"
     ]
    }
   ],
   "source": [
    "#집합(set)\n",
    "#{}사용\n",
    "#요소는 중복될 수 없음\n",
    "#요소의 순서가 정해져 있지 않음\n",
    "#합집합, 교집합, 차집합 등의 연산 가능\n",
    "\n",
    "a = {1,2,3,4}\n",
    "b = {3,4,5,6}\n",
    "print(a|b)\n",
    "\n",
    "print(set.union(a,b))"
   ]
  },
  {
   "cell_type": "code",
   "execution_count": 23,
   "id": "385e124d-0dd4-4862-8c82-6434b347e81f",
   "metadata": {},
   "outputs": [
    {
     "name": "stdout",
     "output_type": "stream",
     "text": [
      "{3, 4}\n",
      "{3, 4}\n"
     ]
    }
   ],
   "source": [
    "#교집합\n",
    "a = {1,2,3,4}\n",
    "b = {3,4,5,6}\n",
    "\n",
    "print(a&b)\n",
    "\n",
    "print(set.intersection(a,b))"
   ]
  },
  {
   "cell_type": "code",
   "execution_count": 25,
   "id": "e75796f8-0b6e-44ff-a7ba-92741318f851",
   "metadata": {},
   "outputs": [
    {
     "name": "stdout",
     "output_type": "stream",
     "text": [
      "{1, 2}\n",
      "{1, 2}\n"
     ]
    }
   ],
   "source": [
    "#차집합\n",
    "a = {1,2,3,4}\n",
    "b = {3,4,5,6}\n",
    "\n",
    "print(a-b)\n",
    "\n",
    "print(set.difference(a,b))"
   ]
  },
  {
   "cell_type": "code",
   "execution_count": 35,
   "id": "fb6d8fbe-51c6-46b4-b881-a17c61ae8f6f",
   "metadata": {},
   "outputs": [],
   "source": [
    "#함수\n",
    "a = {1,2,3,4} \n",
    "\n",
    "#set에 요소 추가\n",
    "a.add(5)\n",
    "\n",
    "## set에 특정 요소 삭제, 요소가 없으면 에러 발생\n",
    "a.remove(3)\n",
    "\n",
    "##set에 특정 요소를 삭제하고, 요소가 없으면 그냥 넘어감\n",
    "a.discard(2)\n",
    "\n",
    "##set에 임의의 요소 삭제하고, 해당 요소 반환\n",
    "a.pop()\n",
    "\n",
    "##set의 모든 요소 삭제\n",
    "a.clear()"
   ]
  },
  {
   "cell_type": "code",
   "execution_count": 38,
   "id": "7e5d1556-5020-4eff-9a30-bac70c361d15",
   "metadata": {},
   "outputs": [
    {
     "data": {
      "text/plain": [
       "{1, 2, 3, 4, 5}"
      ]
     },
     "execution_count": 38,
     "metadata": {},
     "output_type": "execute_result"
    }
   ],
   "source": [
    "a = {1,2,3,4}\n",
    "a.add(5)\n",
    "a"
   ]
  },
  {
   "cell_type": "code",
   "execution_count": 40,
   "id": "8f32e51f-34a9-4380-aabb-2c11d8c643f4",
   "metadata": {},
   "outputs": [
    {
     "data": {
      "text/plain": [
       "{1, 2, 3, 4, 5}"
      ]
     },
     "execution_count": 40,
     "metadata": {},
     "output_type": "execute_result"
    }
   ],
   "source": [
    "a =[1,1,2,3,4,4,5,5]\n",
    "# set() 형변환\n",
    "b = set(a)\n",
    "b"
   ]
  },
  {
   "cell_type": "code",
   "execution_count": null,
   "id": "d1727759-0516-4dc0-ad6a-543022bb4891",
   "metadata": {},
   "outputs": [],
   "source": []
  }
 ],
 "metadata": {
  "kernelspec": {
   "display_name": "Python 3 (ipykernel)",
   "language": "python",
   "name": "python3"
  },
  "language_info": {
   "codemirror_mode": {
    "name": "ipython",
    "version": 3
   },
   "file_extension": ".py",
   "mimetype": "text/x-python",
   "name": "python",
   "nbconvert_exporter": "python",
   "pygments_lexer": "ipython3",
   "version": "3.10.14"
  }
 },
 "nbformat": 4,
 "nbformat_minor": 5
}
