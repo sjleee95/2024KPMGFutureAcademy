{
 "cells": [
  {
   "cell_type": "markdown",
   "metadata": {
    "id": "2zSvV4muaG_U"
   },
   "source": [
    "#기본 매개변수\n",
    "\n",
    "- 함수 정의부의 매개변수에 기본값을 대입함\n",
    "\n",
    "- 호출부에서 그 매개변수의 값을 전달하지 않으면, default값으로 사용됨."
   ]
  },
  {
   "cell_type": "code",
   "execution_count": 3,
   "metadata": {
    "colab": {
     "base_uri": "https://localhost:8080/"
    },
    "executionInfo": {
     "elapsed": 348,
     "status": "ok",
     "timestamp": 1721886312537,
     "user": {
      "displayName": "Fullmoon",
      "userId": "09384791820595413483"
     },
     "user_tz": -540
    },
    "id": "XF2anExCaA9D",
    "outputId": "8b224509-aa30-409a-aa4d-27e875d667ec"
   },
   "outputs": [
    {
     "name": "stdout",
     "output_type": "stream",
     "text": [
      "안녕하세요.\n",
      "안녕하세요.\n",
      "안녕하세요.\n",
      "안녕하세요.\n",
      "안녕하세요.\n",
      "안녕하세요.\n",
      "안녕하세요.\n",
      "안녕하세요.\n",
      "안녕하세요.\n",
      "안녕하세요.\n"
     ]
    }
   ],
   "source": [
    "# 정의부\n",
    "# n = 2 : 호출부에서 전달인자 없기 때문에 기본값으로 사용됨.\n",
    "\n",
    "\n",
    "def print_n_time(value, n = 2):\n",
    "  for i in range(n):\n",
    "    print(value)\n",
    "\n",
    "#호출부\n",
    "print_n_time(\"안녕하세요.\",10)\n",
    "\n"
   ]
  },
  {
   "cell_type": "markdown",
   "metadata": {
    "id": "JEVaKi79jO45"
   },
   "source": [
    "###함수의 리턴"
   ]
  },
  {
   "cell_type": "code",
   "execution_count": 3,
   "metadata": {
    "colab": {
     "base_uri": "https://localhost:8080/"
    },
    "executionInfo": {
     "elapsed": 338,
     "status": "ok",
     "timestamp": 1721888633143,
     "user": {
      "displayName": "Fullmoon",
      "userId": "09384791820595413483"
     },
     "user_tz": -540
    },
    "id": "FHIILKguaqi-",
    "outputId": "2462d3c9-4443-48fd-dc82-a868e80a0a9f"
   },
   "outputs": [
    {
     "name": "stdout",
     "output_type": "stream",
     "text": [
      "hello\n",
      "hello\n"
     ]
    }
   ],
   "source": [
    "def return_test():\n",
    "  a = \"hello\"\n",
    "  print(a)\n",
    "  return a\n",
    "\n",
    "value = return_test()\n",
    "print(value)"
   ]
  },
  {
   "cell_type": "code",
   "execution_count": 4,
   "metadata": {},
   "outputs": [
    {
     "name": "stdout",
     "output_type": "stream",
     "text": [
      "10\n"
     ]
    }
   ],
   "source": [
    "def f(x):\n",
    "    return x\n",
    "print(f(10))"
   ]
  },
  {
   "cell_type": "code",
   "execution_count": 8,
   "metadata": {
    "executionInfo": {
     "elapsed": 339,
     "status": "ok",
     "timestamp": 1721888568895,
     "user": {
      "displayName": "Fullmoon",
      "userId": "09384791820595413483"
     },
     "user_tz": -540
    },
    "id": "cvbohuatjZXm"
   },
   "outputs": [
    {
     "name": "stdout",
     "output_type": "stream",
     "text": [
      "21\n"
     ]
    }
   ],
   "source": [
    "##확인문제 1번## -1\n",
    "\n",
    "#f(x) - 2x + 1\n",
    "\n",
    "def f(x):\n",
    "    return 2*x + 1\n",
    "\n",
    "print(f(10))"
   ]
  },
  {
   "cell_type": "code",
   "execution_count": 7,
   "metadata": {},
   "outputs": [
    {
     "name": "stdout",
     "output_type": "stream",
     "text": [
      "121\n"
     ]
    }
   ],
   "source": [
    "##확인문제 2번## -2\n",
    "\n",
    "#f(x) = x^2 +2x + 1\n",
    "\n",
    "def f(x):\n",
    "    return x**2 +2*x +1\n",
    "\n",
    "print(f(10))"
   ]
  },
  {
   "cell_type": "code",
   "execution_count": 18,
   "metadata": {},
   "outputs": [
    {
     "name": "stdout",
     "output_type": "stream",
     "text": [
      "3150\n"
     ]
    }
   ],
   "source": [
    "##확인문제 2번##\n",
    "\n",
    "def mul(*values):\n",
    "    output = 1\n",
    "    for i in values:\n",
    "        output = output*i\n",
    "        \n",
    "    return output\n",
    "\n",
    "\n",
    "print(mul(5,7,9,10))"
   ]
  },
  {
   "cell_type": "code",
   "execution_count": 19,
   "metadata": {},
   "outputs": [
    {
     "ename": "TypeError",
     "evalue": "function() missing 2 required keyword-only arguments: 'valueA' and 'vlaueB'",
     "output_type": "error",
     "traceback": [
      "\u001b[1;31m---------------------------------------------------------------------------\u001b[0m",
      "\u001b[1;31mTypeError\u001b[0m                                 Traceback (most recent call last)",
      "Cell \u001b[1;32mIn[19], line 6\u001b[0m\n\u001b[0;32m      4\u001b[0m \u001b[38;5;28;01mdef\u001b[39;00m \u001b[38;5;21mfunction\u001b[39m(\u001b[38;5;241m*\u001b[39mvalues, valueA, vlaueB):\n\u001b[0;32m      5\u001b[0m     \u001b[38;5;28;01mpass\u001b[39;00m\n\u001b[1;32m----> 6\u001b[0m \u001b[43mfunction\u001b[49m\u001b[43m(\u001b[49m\u001b[38;5;241;43m1\u001b[39;49m\u001b[43m,\u001b[49m\u001b[38;5;241;43m2\u001b[39;49m\u001b[43m,\u001b[49m\u001b[38;5;241;43m3\u001b[39;49m\u001b[43m,\u001b[49m\u001b[38;5;241;43m4\u001b[39;49m\u001b[43m,\u001b[49m\u001b[38;5;241;43m5\u001b[39;49m\u001b[43m)\u001b[49m\n",
      "\u001b[1;31mTypeError\u001b[0m: function() missing 2 required keyword-only arguments: 'valueA' and 'vlaueB'"
     ]
    }
   ],
   "source": [
    "#확인문제 3번#\n",
    "\n",
    "#1\n",
    "def function(*values, valueA, vlaueB):\n",
    "    pass\n",
    "function(1,2,3,4,5)"
   ]
  },
  {
   "cell_type": "code",
   "execution_count": 20,
   "metadata": {},
   "outputs": [],
   "source": [
    "#2\n",
    "def function(*values, ValueA=10, VlaueB = 20):\n",
    "    pass\n",
    "function(1,2,3,4,5)"
   ]
  },
  {
   "cell_type": "code",
   "execution_count": 21,
   "metadata": {},
   "outputs": [],
   "source": [
    "def function(valueA, ValueB, *vlaues):\n",
    "    pass\n",
    "function(1,2,3,4,5)"
   ]
  },
  {
   "cell_type": "code",
   "execution_count": 22,
   "metadata": {},
   "outputs": [],
   "source": [
    "def function(ValueA=10, VlaueB = 20, *values):\n",
    "    pass\n",
    "function(1,2,3,4,5)"
   ]
  },
  {
   "cell_type": "code",
   "execution_count": 57,
   "metadata": {},
   "outputs": [
    {
     "name": "stdout",
     "output_type": "stream",
     "text": [
      "5는 5과 1의 공배수입니다.\n",
      "10는 5과 1의 공배수입니다.\n",
      "15는 5과 1의 공배수입니다.\n",
      "20는 5과 1의 공배수입니다.\n",
      "25는 5과 1의 공배수입니다.\n",
      "30는 5과 1의 공배수입니다.\n",
      "35는 5과 1의 공배수입니다.\n",
      "40는 5과 1의 공배수입니다.\n",
      "45는 5과 1의 공배수입니다.\n",
      "50는 5과 1의 공배수입니다.\n",
      "55는 5과 1의 공배수입니다.\n",
      "60는 5과 1의 공배수입니다.\n",
      "65는 5과 1의 공배수입니다.\n",
      "70는 5과 1의 공배수입니다.\n",
      "75는 5과 1의 공배수입니다.\n",
      "80는 5과 1의 공배수입니다.\n",
      "85는 5과 1의 공배수입니다.\n",
      "90는 5과 1의 공배수입니다.\n",
      "95는 5과 1의 공배수입니다.\n",
      "100는 5과 1의 공배수입니다.\n"
     ]
    }
   ],
   "source": [
    "#4 - 두 수의 공배수 구하는 함수 만들기\n",
    "\n",
    "def commontimes(num1,num2):\n",
    "    for i in range(1,101):\n",
    "        if i%num1 == 0 and i%num2 == 0:\n",
    "            print(f\"{i}는 {num1}과 {num2}의 공배수입니다.\")\n",
    "\n",
    "\n",
    "        \n",
    "\n",
    "commontimes(5,1)"
   ]
  },
  {
   "cell_type": "code",
   "execution_count": 58,
   "metadata": {},
   "outputs": [],
   "source": [
    "#매개변수 중 필요한 값만 입력하기\n",
    "#예시 : 여러 함수 호출 상태\n",
    "\n",
    "def test(a, b=10, c=10):\n",
    "    print(a+b+c)\n",
    "\n",
    "\n",
    "test(10,20,30)\n",
    "\n",
    "test(a=10)"
   ]
  },
  {
   "cell_type": "code",
   "execution_count": null,
   "metadata": {},
   "outputs": [],
   "source": []
  }
 ],
 "metadata": {
  "colab": {
   "authorship_tag": "ABX9TyNmfr8ipxTerQRCz6DDHyF1",
   "provenance": []
  },
  "kernelspec": {
   "display_name": "Python 3 (ipykernel)",
   "language": "python",
   "name": "python3"
  },
  "language_info": {
   "codemirror_mode": {
    "name": "ipython",
    "version": 3
   },
   "file_extension": ".py",
   "mimetype": "text/x-python",
   "name": "python",
   "nbconvert_exporter": "python",
   "pygments_lexer": "ipython3",
   "version": "3.10.9"
  }
 },
 "nbformat": 4,
 "nbformat_minor": 4
}
