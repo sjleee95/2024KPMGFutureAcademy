{
  "nbformat": 4,
  "nbformat_minor": 0,
  "metadata": {
    "colab": {
      "provenance": [],
      "authorship_tag": "ABX9TyNaxcWZW0HItmiz94xc7uhS",
      "include_colab_link": true
    },
    "kernelspec": {
      "name": "python3",
      "display_name": "Python 3"
    },
    "language_info": {
      "name": "python"
    }
  },
  "cells": [
    {
      "cell_type": "markdown",
      "metadata": {
        "id": "view-in-github",
        "colab_type": "text"
      },
      "source": [
        "<a href=\"https://colab.research.google.com/github/sjleee95/2024KPMGFutureAcademy/blob/Python-300%EC%A0%9C/Python_300%EC%A0%9C(41_50)%5Bstring%5D.ipynb\" target=\"_parent\"><img src=\"https://colab.research.google.com/assets/colab-badge.svg\" alt=\"Open In Colab\"/></a>"
      ]
    },
    {
      "cell_type": "markdown",
      "source": [
        "**041** upper 메서드\n",
        "\n",
        "다음과 같은 문자열이 있을 때 이를 대문자 BTC_KRW로 변경하세요.\n",
        "\n",
        "ticker = \"btc_krw\""
      ],
      "metadata": {
        "id": "ZEo7BEeYjtn2"
      }
    },
    {
      "cell_type": "code",
      "source": [
        "ticker = \"btc_krw\"\n",
        "\n",
        "ticker = ticker.upper()\n",
        "\n",
        "print(ticker)"
      ],
      "metadata": {
        "colab": {
          "base_uri": "https://localhost:8080/"
        },
        "id": "PxStq2s5yhQY",
        "outputId": "82ff5255-4c53-4d4a-e86d-569e87478417"
      },
      "execution_count": null,
      "outputs": [
        {
          "output_type": "stream",
          "name": "stdout",
          "text": [
            "BTC_KRW\n"
          ]
        }
      ]
    },
    {
      "cell_type": "markdown",
      "source": [
        "**042** lower 메서드\n",
        "\n",
        "\n",
        "다음과 같은 문자열이 있을 때 이를 소문자 btc_krw로 변경하세요.\n",
        "\n",
        "ticker = \"BTC_KRW\""
      ],
      "metadata": {
        "id": "1bfo2TC2jtlX"
      }
    },
    {
      "cell_type": "code",
      "source": [
        "\n",
        "ticker = \"BTC_KRW\"\n",
        "\n",
        "ticker = ticker.lower()\n",
        "\n",
        "print(ticker)"
      ],
      "metadata": {
        "colab": {
          "base_uri": "https://localhost:8080/"
        },
        "id": "384NG3tMy7iq",
        "outputId": "c9e2d924-7869-49ee-fc03-3a82eb1ba6c3"
      },
      "execution_count": null,
      "outputs": [
        {
          "output_type": "stream",
          "name": "stdout",
          "text": [
            "btc_krw\n"
          ]
        }
      ]
    },
    {
      "cell_type": "markdown",
      "source": [
        "**043** capitalize 메서드\n",
        "\n",
        "문자열 'hello'가 있을 때 이를 'Hello'로 변경해보세요."
      ],
      "metadata": {
        "id": "uDe3ZA4FjtjE"
      }
    },
    {
      "cell_type": "code",
      "source": [
        "a = 'hello'\n",
        "\n",
        "a = a.capitalize()\n",
        "\n",
        "print(a)"
      ],
      "metadata": {
        "colab": {
          "base_uri": "https://localhost:8080/"
        },
        "id": "O8nF4gWSzFlc",
        "outputId": "b7f56186-f59e-46c8-a4aa-e9eb11d25911"
      },
      "execution_count": null,
      "outputs": [
        {
          "output_type": "stream",
          "name": "stdout",
          "text": [
            "Hello\n"
          ]
        }
      ]
    },
    {
      "cell_type": "markdown",
      "source": [
        "**044** endswith 메서드\n",
        "\n",
        "파일 이름이 문자열로 저장되어 있을 때 endswith 메서드를 사용해서 파일 이름이 'xlsx'로 끝나는지 확인해보세요.\n",
        "\n",
        "file_name = \"보고서.xlsx\""
      ],
      "metadata": {
        "id": "QeCaw6hGjtgs"
      }
    },
    {
      "cell_type": "code",
      "source": [
        "file_name = \"보고서.xlsx\"\n",
        "\n",
        "file_name.endswith(\"xlsx\")"
      ],
      "metadata": {
        "colab": {
          "base_uri": "https://localhost:8080/"
        },
        "id": "4yflBrk1zPqZ",
        "outputId": "f55aabb4-e175-4abc-bf04-34d2cdec8852"
      },
      "execution_count": null,
      "outputs": [
        {
          "output_type": "execute_result",
          "data": {
            "text/plain": [
              "True"
            ]
          },
          "metadata": {},
          "execution_count": 5
        }
      ]
    },
    {
      "cell_type": "markdown",
      "source": [
        "\n",
        "**045** endswith 메서드\n",
        "\n",
        "파일 이름이 문자열로 저장되어 있을 때 endswith 메서드를 사용해서 파일 이름이 'xlsx' 또는 'xls'로 끝나는지 확인해보세요.\n",
        "\n",
        "file_name = \"보고서.xlsx\""
      ],
      "metadata": {
        "id": "3bA6aWINjtec"
      }
    },
    {
      "cell_type": "code",
      "source": [
        "file_name = \"보고서.xlsx\"\n",
        "\n",
        "# 내 방식\n",
        "print(file_name.endswith(\"xlsx\"))\n",
        "print(file_name.endswith(\"xls\"))\n",
        "\n",
        "## 정답 - 더 편하게 가능...이 아니라 이것이 정답. xlsx '또는' xls이기 때문에 진리값을 구해야 한다.\n",
        "\n",
        "\n",
        "file_name.endswith((\"xlsx\",\"xls\"))"
      ],
      "metadata": {
        "colab": {
          "base_uri": "https://localhost:8080/"
        },
        "id": "RZqOp5xhzfs8",
        "outputId": "7523a9c5-b831-4a33-c6ed-8a6ae090fd68"
      },
      "execution_count": null,
      "outputs": [
        {
          "output_type": "stream",
          "name": "stdout",
          "text": [
            "True\n",
            "False\n"
          ]
        },
        {
          "output_type": "execute_result",
          "data": {
            "text/plain": [
              "True"
            ]
          },
          "metadata": {},
          "execution_count": 10
        }
      ]
    },
    {
      "cell_type": "markdown",
      "source": [
        "**046** startswith 메서드\n",
        "\n",
        "파일 이름이 문자열로 저장되어 있을 때 startswith 메서드를 사용해서 파일 이름이 '2020'로 시작하는지 확인해보세요.\n",
        "\n",
        "file_name = \"2020_보고서.xlsx\""
      ],
      "metadata": {
        "id": "NRaKqXSZjtcL"
      }
    },
    {
      "cell_type": "code",
      "source": [
        "file_name = \"2020_보고서.xlsx\"\n",
        "\n",
        "file_name.startswith('2020')"
      ],
      "metadata": {
        "colab": {
          "base_uri": "https://localhost:8080/"
        },
        "id": "lfeMAJ_10OeV",
        "outputId": "b5ff2bd6-950b-469a-e061-eda9de33df24"
      },
      "execution_count": null,
      "outputs": [
        {
          "output_type": "execute_result",
          "data": {
            "text/plain": [
              "True"
            ]
          },
          "metadata": {},
          "execution_count": 11
        }
      ]
    },
    {
      "cell_type": "markdown",
      "source": [
        "**047** split 메서드\n",
        "\n",
        "다음과 같은 문자열이 있을 때 공백을 기준으로 문자열을 나눠보세요.\n",
        "\n",
        "a = \"hello world\""
      ],
      "metadata": {
        "id": "K7YIo3IOjtZq"
      }
    },
    {
      "cell_type": "code",
      "source": [
        "# 공백 데이터는 굳이 \"\" 사용하지 않아도 괜찮다.\n",
        "\n",
        "a = \"hello world\"\n",
        "print(a.split(\" \"))\n",
        "print(a.split())"
      ],
      "metadata": {
        "colab": {
          "base_uri": "https://localhost:8080/"
        },
        "id": "FJzFnQtX0XLe",
        "outputId": "b8272712-a7e3-4a06-8261-cbf1fd9d001e"
      },
      "execution_count": null,
      "outputs": [
        {
          "output_type": "stream",
          "name": "stdout",
          "text": [
            "['hello', 'world']\n",
            "['hello', 'world']\n"
          ]
        }
      ]
    },
    {
      "cell_type": "markdown",
      "source": [
        "**048** split 메서드\n",
        "\n",
        "다음과 같이 문자열이 있을 때 btc와 krw로 나눠보세요.\n",
        "\n",
        "ticker = \"btc_krw\""
      ],
      "metadata": {
        "id": "MSRM0QKmjtXN"
      }
    },
    {
      "cell_type": "code",
      "source": [
        "ticker = \"btc_krw\"\n",
        "\n",
        "ticker.split(\"_\")"
      ],
      "metadata": {
        "colab": {
          "base_uri": "https://localhost:8080/"
        },
        "id": "ojzHLOXW0rjM",
        "outputId": "7564f369-c91c-4674-a013-676319bba9ef"
      },
      "execution_count": null,
      "outputs": [
        {
          "output_type": "execute_result",
          "data": {
            "text/plain": [
              "['btc', 'krw']"
            ]
          },
          "metadata": {},
          "execution_count": 15
        }
      ]
    },
    {
      "cell_type": "markdown",
      "source": [
        "**049** split 메서드\n",
        "\n",
        "다음과 같이 날짜를 표현하는 문자열이 있을 때 연도, 월, 일로 나눠보세요.\n",
        "\n",
        "date = \"2020-05-01\""
      ],
      "metadata": {
        "id": "pJFdxv7qjtUz"
      }
    },
    {
      "cell_type": "code",
      "source": [
        "date = \"2020-04-01\"\n",
        "\n",
        "date.split(\"-\")"
      ],
      "metadata": {
        "colab": {
          "base_uri": "https://localhost:8080/"
        },
        "id": "UbsHzO710yv-",
        "outputId": "9c231a05-4437-416b-a15f-a04e52cb68db"
      },
      "execution_count": null,
      "outputs": [
        {
          "output_type": "execute_result",
          "data": {
            "text/plain": [
              "['2020', '04', '01']"
            ]
          },
          "metadata": {},
          "execution_count": 16
        }
      ]
    },
    {
      "cell_type": "markdown",
      "source": [
        "**050** rstrip 메서드\n",
        "\n",
        "문자열의 오른쪽에 공백이 있을 때 이를 제거해보세요.\n",
        "\n",
        "data = \"039490   \""
      ],
      "metadata": {
        "id": "MSTil339jtSV"
      }
    },
    {
      "cell_type": "code",
      "execution_count": null,
      "metadata": {
        "id": "BMta8hOKjgWB",
        "colab": {
          "base_uri": "https://localhost:8080/",
          "height": 35
        },
        "outputId": "b74aeb78-d38b-464a-de82-d006480f9cc2"
      },
      "outputs": [
        {
          "output_type": "execute_result",
          "data": {
            "text/plain": [
              "'039490'"
            ],
            "application/vnd.google.colaboratory.intrinsic+json": {
              "type": "string"
            }
          },
          "metadata": {},
          "execution_count": 17
        }
      ],
      "source": [
        "data = \"039490 \"\n",
        "\n",
        "data.rstrip()"
      ]
    },
    {
      "cell_type": "code",
      "source": [],
      "metadata": {
        "id": "3nesO7EE09LR"
      },
      "execution_count": null,
      "outputs": []
    }
  ]
}