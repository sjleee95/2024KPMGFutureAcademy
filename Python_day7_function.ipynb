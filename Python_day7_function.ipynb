{
  "nbformat": 4,
  "nbformat_minor": 0,
  "metadata": {
    "colab": {
      "provenance": [],
      "authorship_tag": "ABX9TyNkkY4ve2lXzwDKaUrGFd3O",
      "include_colab_link": true
    },
    "kernelspec": {
      "name": "python3",
      "display_name": "Python 3"
    },
    "language_info": {
      "name": "python"
    }
  },
  "cells": [
    {
      "cell_type": "markdown",
      "metadata": {
        "id": "view-in-github",
        "colab_type": "text"
      },
      "source": [
        "<a href=\"https://colab.research.google.com/github/sjleee95/2024KPMGFutureAcademy/blob/main/Python_day7_function.ipynb\" target=\"_parent\"><img src=\"https://colab.research.google.com/assets/colab-badge.svg\" alt=\"Open In Colab\"/></a>"
      ]
    },
    {
      "cell_type": "markdown",
      "source": [
        "###함수의 기본"
      ],
      "metadata": {
        "id": "VeHjovYtBDnB"
      }
    },
    {
      "cell_type": "markdown",
      "source": [
        "#함수 익히기\n",
        "<pre>\n",
        "-함수는 정의부, 호출부로 이루어져 있다.\n",
        "\n",
        "정의부 :\n",
        "def 함수_이름():\n",
        "  -함수 내 실행문\n",
        "\n",
        "-호출부\n",
        "함수_이름()\n",
        "\n",
        "</pre>"
      ],
      "metadata": {
        "id": "vyKkPBLQCNUy"
      }
    },
    {
      "cell_type": "code",
      "execution_count": null,
      "metadata": {
        "colab": {
          "base_uri": "https://localhost:8080/"
        },
        "id": "Mx-srpngA08g",
        "outputId": "611c7175-592c-4625-fc04-26f218567e36"
      },
      "outputs": [
        {
          "output_type": "stream",
          "name": "stdout",
          "text": [
            "안뇽\n",
            "안뇽\n",
            "안뇽\n"
          ]
        }
      ],
      "source": [
        "#함수 = 코드의 집합\n",
        "\n",
        "def sayhello():\n",
        "  print(\"안뇽\")\n",
        "  print(\"안뇽\")\n",
        "  print(\"안뇽\")\n",
        "\n",
        "sayhello()\n"
      ]
    },
    {
      "cell_type": "code",
      "source": [
        "#함수에 매개변수 만들기\n",
        "def print_n_times(value, n):\n",
        "  for i in range(n):\n",
        "    print(value)\n",
        "\n",
        "print_n_times(\"안뇽\",5)"
      ],
      "metadata": {
        "colab": {
          "base_uri": "https://localhost:8080/"
        },
        "id": "uOL1wdhRBCFz",
        "outputId": "4464b4f0-c469-490f-87f8-2f36667f83c6"
      },
      "execution_count": null,
      "outputs": [
        {
          "output_type": "stream",
          "name": "stdout",
          "text": [
            "안뇽\n",
            "안뇽\n",
            "안뇽\n",
            "안뇽\n",
            "안뇽\n"
          ]
        }
      ]
    },
    {
      "cell_type": "code",
      "source": [
        "#가변 매개변수 함수\n",
        "\n",
        "def print_n_time(n, *values):\n",
        "#n번 반복합니다.\n",
        "  for i in range(n):\n",
        "    #values는 list처럼 활용합니다.\n",
        "    for value in values:\n",
        "      print(value)\n",
        "    #단순한 줄바꿈\n",
        "    print()\n",
        "\n",
        "\n",
        "print_n_time(3, \"안뇽\", \"즐거운\", \"파이썬\", \"프로그램\" , \"만들어봐요\")"
      ],
      "metadata": {
        "colab": {
          "base_uri": "https://localhost:8080/"
        },
        "id": "CRQuTTAUCK_x",
        "outputId": "9368482c-d689-41a6-da05-a8e6b94891bb"
      },
      "execution_count": null,
      "outputs": [
        {
          "output_type": "stream",
          "name": "stdout",
          "text": [
            "안뇽\n",
            "즐거운\n",
            "파이썬\n",
            "프로그램\n",
            "만들어봐요\n",
            "\n",
            "안뇽\n",
            "즐거운\n",
            "파이썬\n",
            "프로그램\n",
            "만들어봐요\n",
            "\n",
            "안뇽\n",
            "즐거운\n",
            "파이썬\n",
            "프로그램\n",
            "만들어봐요\n",
            "\n"
          ]
        }
      ]
    },
    {
      "cell_type": "code",
      "source": [
        "# 함수의 리턴\n",
        "# 두 수를 더하는 함수\n",
        "#호출할 때 두 수를 전달\n",
        "\n",
        "## 함수는 값을 아래에서 활용하고 싶을 때는 반드시 return을 사용해야 한다.\n",
        "## 그렇지 않고, 단순히 print()를 이용할 때는 출력만을 담당하게 된다.\n",
        "\n",
        "nums = [1,2,3,4]\n",
        "\n",
        "def add_the_numbers(a,b):\n",
        "  #print(f\"{a}+{b} = {a+b}\")\n",
        "  return a+b\n",
        "\n",
        "result = add_the_numbers(1,2)\n",
        "\n",
        "for a in nums:\n",
        "  print(result + a)"
      ],
      "metadata": {
        "colab": {
          "base_uri": "https://localhost:8080/"
        },
        "id": "RV7ikdYCDKPd",
        "outputId": "1ae678a0-77ca-4e46-c69b-28339029889d"
      },
      "execution_count": null,
      "outputs": [
        {
          "output_type": "stream",
          "name": "stdout",
          "text": [
            "4\n",
            "5\n",
            "6\n",
            "7\n"
          ]
        }
      ]
    },
    {
      "cell_type": "code",
      "source": [
        "#매개변수와 관련된 Type Error\n",
        "\n",
        "def print_nn_times(value, n):\n",
        "  for i in range(n):\n",
        "    print(value)\n",
        "\n",
        "print_nn_times(\"ㅋㅋ\", 1)\n",
        "print_nn_times(\"ㅋㅋㅋ\", 1)\n",
        "print_nn_times(\"ㅋㅋㅋㅋ\", 1)\n",
        "print_nn_times(\"ㅋㅋㅋㅋㅋ\", 1)\n",
        "print_nn_times(\"ㅋㅋㅋㅋㅋㅋ\", 1)\n",
        "print_nn_times(\"ㅋㅋㅋㅋㅋㅋㅋ\", 1)\n",
        "print_nn_times(\"ㅋㅋㅋㅋㅋㅋㅋㅋ\", 1)\n",
        "print_nn_times(\"ㅋㅋㅋㅋㅋㅋㅋㅋㅋ\", 1)\n",
        "print_nn_times(\"ㅋㅋㅋㅋㅋㅋㅋㅋㅋㅋ\", 1)\n",
        "print_nn_times(\"ㅋㅋㅋㅋㅋㅋㅋㅋㅋㅋㅋ\", 1)"
      ],
      "metadata": {
        "colab": {
          "base_uri": "https://localhost:8080/"
        },
        "id": "y1kh921gDxag",
        "outputId": "44ee40e9-08f7-4ebb-d665-0a2be74dcd64"
      },
      "execution_count": null,
      "outputs": [
        {
          "output_type": "stream",
          "name": "stdout",
          "text": [
            "ㅋㅋ\n",
            "ㅋㅋㅋ\n",
            "ㅋㅋㅋㅋ\n",
            "ㅋㅋㅋㅋㅋ\n",
            "ㅋㅋㅋㅋㅋㅋ\n",
            "ㅋㅋㅋㅋㅋㅋㅋ\n",
            "ㅋㅋㅋㅋㅋㅋㅋㅋ\n",
            "ㅋㅋㅋㅋㅋㅋㅋㅋㅋ\n",
            "ㅋㅋㅋㅋㅋㅋㅋㅋㅋㅋ\n",
            "ㅋㅋㅋㅋㅋㅋㅋㅋㅋㅋㅋ\n"
          ]
        }
      ]
    },
    {
      "cell_type": "code",
      "source": [
        "#깜짝 문제 : return 결과가 ..........................따로 공부 한 번 더\n",
        "# [\"안녕1\", \"안녕2\",\"안녕3\",\"안녕4\", \"안녕5\"]\n",
        "\n",
        "def print_hellohello(value, n):\n",
        "  list_data = []\n",
        "  for i in range(n):\n",
        "    list_data.append(f\"안녕{i+1}\")\n",
        "    #print(list_data)\n",
        "  return list_data\n",
        "\n",
        "\n"
      ],
      "metadata": {
        "id": "819QP8tJHo9g"
      },
      "execution_count": null,
      "outputs": []
    },
    {
      "cell_type": "code",
      "source": [
        "val = \"안녕\"\n",
        "nth = 5\n",
        "print_hellohello(val,nth)"
      ],
      "metadata": {
        "colab": {
          "base_uri": "https://localhost:8080/"
        },
        "id": "ejYnMKuLJxyC",
        "outputId": "22bcc6f2-c5e0-47e8-d0c5-0e0dfc572afd"
      },
      "execution_count": null,
      "outputs": [
        {
          "output_type": "execute_result",
          "data": {
            "text/plain": [
              "['안녕1', '안녕2', '안녕3', '안녕4', '안녕5']"
            ]
          },
          "metadata": {},
          "execution_count": 70
        }
      ]
    },
    {
      "cell_type": "code",
      "source": [
        "#정의부\n",
        "\n",
        "def add_nums(nums*):\n",
        "  print(nums)\n",
        "\n",
        "#호출부\n",
        "#nums_list = 1,2,3\n",
        "#nums_list = 3,4,5,6,7\n",
        "#nums_list = 1,2,3,4,5,6,7,8,9"
      ],
      "metadata": {
        "id": "Ggclq6DJOnQb"
      },
      "execution_count": null,
      "outputs": []
    },
    {
      "cell_type": "code",
      "source": [
        "#파이썬의 숨겨진 기능 - 뒤를 묶는다.\n",
        "a, *b = 1,2,3\n",
        "print(a,b)"
      ],
      "metadata": {
        "colab": {
          "base_uri": "https://localhost:8080/"
        },
        "id": "h5Q8J1lQWIZm",
        "outputId": "ef77ab87-b800-4d23-9225-ee12e66a0118"
      },
      "execution_count": null,
      "outputs": [
        {
          "output_type": "stream",
          "name": "stdout",
          "text": [
            "1 [2, 3]\n"
          ]
        }
      ]
    },
    {
      "cell_type": "code",
      "source": [
        "a,b, *c = 3,4,5,6,7\n",
        "print(a,b,c)"
      ],
      "metadata": {
        "colab": {
          "base_uri": "https://localhost:8080/"
        },
        "id": "jgAEBBUvWZdg",
        "outputId": "b5f28e38-13a5-441f-99a2-2f11b2089e23"
      },
      "execution_count": null,
      "outputs": [
        {
          "output_type": "stream",
          "name": "stdout",
          "text": [
            "3 4 [5, 6, 7]\n"
          ]
        }
      ]
    },
    {
      "cell_type": "code",
      "source": [
        "\n",
        "a,b,c,*d = 1,2,3,4,5,6,7,8,9\n",
        "print(a,b,c,d)"
      ],
      "metadata": {
        "colab": {
          "base_uri": "https://localhost:8080/"
        },
        "id": "-vnUYLr7Wavr",
        "outputId": "406bd4d1-5404-466d-d6c0-c59164168d9b"
      },
      "execution_count": null,
      "outputs": [
        {
          "output_type": "stream",
          "name": "stdout",
          "text": [
            "1 2 3 [4, 5, 6, 7, 8, 9]\n"
          ]
        }
      ]
    },
    {
      "cell_type": "markdown",
      "source": [
        "##확인문제\n",
        "1~100까지 소수구하기\n",
        "\n",
        "소수의 정의 : 1보다 큰 자연수 중 1과 자기자신만을 약수로 가지는 수\n",
        "\n",
        "자기 자신만을 약수로 가지기 위해서는 : 일단 그 아래 있는 수들과 나눠지면 안된다.\n",
        "\n",
        "따라서, 짝수는 자동으로 탈락되고 (알고리즘 1)\n",
        "\n",
        "홀수에서의 판별이 중요해진다.\n",
        "\n",
        "홀수에서 소수를 판별하는 방법은 1,3,5,7,9 ..... 그 이전의 홀수로 나누어지는지 판별하면 된다.\n",
        "\n",
        "논리구조는\n",
        "\n",
        "1. 데미칼\n",
        "2. 리스트 [2부터 100까지의 숫자가 준비된]\n",
        "3. 2는 무조건 넣으니, 들어가도록 해주고,\n",
        "4. 2로 나누어지는 숫자들은 계산하지 않고 빠져나가도록 만들고,\n",
        "5. 나누어지지 않는다면 3, 5 , 7 , 9, 11, 13\n",
        "6. 의문점은 deno는 어디에 쓰이냐는 것이다."
      ],
      "metadata": {
        "id": "BYHiZ0cRcjTF"
      }
    },
    {
      "cell_type": "code",
      "source": [
        "#deno 없이 푼 방법\n",
        "\n",
        "demical= []\n",
        "for num in range(2,101):\n",
        " #2는 무조건 넣기\n",
        "  if num == 2:\n",
        "    demical.append(num)\n",
        "\n",
        "  elif num > 2 :\n",
        "    for i in range(2,num):\n",
        "      if num%i == 0:\n",
        "        break\n",
        "    else:\n",
        "        demical.append(num)\n",
        "\n",
        "\n",
        "\n",
        "print(demical)"
      ],
      "metadata": {
        "colab": {
          "base_uri": "https://localhost:8080/"
        },
        "id": "4qWlcuZyWe33",
        "outputId": "f9d7501c-a955-4deb-cd06-23fa15acbf4c"
      },
      "execution_count": null,
      "outputs": [
        {
          "output_type": "stream",
          "name": "stdout",
          "text": [
            "[2, 3, 5, 7, 11, 13, 17, 19, 23, 29, 31, 37, 41, 43, 47, 53, 59, 61, 67, 71, 73, 79, 83, 89, 97]\n"
          ]
        }
      ]
    },
    {
      "cell_type": "markdown",
      "source": [
        "<pre>\n",
        "#3번 연습문제 해설\n",
        "소수의 정의 : 1보다 큰 자연수 중 1과 자기자신만을 약수로 가지는 수\n",
        "<pre/>"
      ],
      "metadata": {
        "id": "A8CODD4qt2gH"
      }
    },
    {
      "cell_type": "code",
      "source": [
        "for n in range(2,101):\n",
        "  #분모 : denominator(deno)\n",
        "  deno = n-1 #1과 자기 자신을 제외한 숫자로 나눔\n",
        "  for m in (2, deno):\n",
        "    # n = 6이라면 판단 방법\n",
        "    if n%m == 0:\n",
        "      break\n",
        "    if deno == 2:\n",
        "      decimal.append(n)\n",
        "    deno = deno -1\n",
        "  #print(n,\":\",deno)\n",
        "\n",
        "print(decimal)"
      ],
      "metadata": {
        "colab": {
          "base_uri": "https://localhost:8080/",
          "height": 221
        },
        "id": "GfRrFoT_ddlU",
        "outputId": "7394d5cd-279b-4e21-96a7-78b52117888f"
      },
      "execution_count": null,
      "outputs": [
        {
          "output_type": "error",
          "ename": "NameError",
          "evalue": "name 'decimal' is not defined",
          "traceback": [
            "\u001b[0;31m---------------------------------------------------------------------------\u001b[0m",
            "\u001b[0;31mNameError\u001b[0m                                 Traceback (most recent call last)",
            "\u001b[0;32m<ipython-input-123-a449f439a8b3>\u001b[0m in \u001b[0;36m<cell line: 1>\u001b[0;34m()\u001b[0m\n\u001b[1;32m      7\u001b[0m       \u001b[0;32mbreak\u001b[0m\u001b[0;34m\u001b[0m\u001b[0;34m\u001b[0m\u001b[0m\n\u001b[1;32m      8\u001b[0m     \u001b[0;32mif\u001b[0m \u001b[0mdeno\u001b[0m \u001b[0;34m==\u001b[0m \u001b[0;36m2\u001b[0m\u001b[0;34m:\u001b[0m\u001b[0;34m\u001b[0m\u001b[0;34m\u001b[0m\u001b[0m\n\u001b[0;32m----> 9\u001b[0;31m       \u001b[0mdecimal\u001b[0m\u001b[0;34m.\u001b[0m\u001b[0mappend\u001b[0m\u001b[0;34m(\u001b[0m\u001b[0mn\u001b[0m\u001b[0;34m)\u001b[0m\u001b[0;34m\u001b[0m\u001b[0;34m\u001b[0m\u001b[0m\n\u001b[0m\u001b[1;32m     10\u001b[0m     \u001b[0mdeno\u001b[0m \u001b[0;34m=\u001b[0m \u001b[0mdeno\u001b[0m \u001b[0;34m-\u001b[0m\u001b[0;36m1\u001b[0m\u001b[0;34m\u001b[0m\u001b[0;34m\u001b[0m\u001b[0m\n\u001b[1;32m     11\u001b[0m   \u001b[0;31m#print(n,\":\",deno)\u001b[0m\u001b[0;34m\u001b[0m\u001b[0;34m\u001b[0m\u001b[0m\n",
            "\u001b[0;31mNameError\u001b[0m: name 'decimal' is not defined"
          ]
        }
      ]
    },
    {
      "cell_type": "code",
      "source": [],
      "metadata": {
        "id": "lohpzPW30i2T"
      },
      "execution_count": null,
      "outputs": []
    }
  ]
}