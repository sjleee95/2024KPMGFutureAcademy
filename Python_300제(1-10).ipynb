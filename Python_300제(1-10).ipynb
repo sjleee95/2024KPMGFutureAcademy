{
  "nbformat": 4,
  "nbformat_minor": 0,
  "metadata": {
    "colab": {
      "provenance": [],
      "authorship_tag": "ABX9TyN2M/SZYGnsb4k6/p6CCayd",
      "include_colab_link": true
    },
    "kernelspec": {
      "name": "python3",
      "display_name": "Python 3"
    },
    "language_info": {
      "name": "python"
    }
  },
  "cells": [
    {
      "cell_type": "markdown",
      "metadata": {
        "id": "view-in-github",
        "colab_type": "text"
      },
      "source": [
        "<a href=\"https://colab.research.google.com/github/sjleee95/2024KPMGFutureAcademy/blob/Python-300%EC%A0%9C/python_300%EC%A0%9C(1-10).ipynb\" target=\"_parent\"><img src=\"https://colab.research.google.com/assets/colab-badge.svg\" alt=\"Open In Colab\"/></a>"
      ]
    },
    {
      "cell_type": "markdown",
      "source": [
        "**001**\n",
        "\n",
        "print 기초\n",
        "화면에 Hello World 문자열을 출력하세요."
      ],
      "metadata": {
        "id": "OkCN_1IhbGU9"
      }
    },
    {
      "cell_type": "code",
      "execution_count": 5,
      "metadata": {
        "colab": {
          "base_uri": "https://localhost:8080/"
        },
        "id": "o5if8Vf_bCFF",
        "outputId": "798d8d05-21ba-4d5e-cdc1-2b4e7cc63823"
      },
      "outputs": [
        {
          "output_type": "stream",
          "name": "stdout",
          "text": [
            "Hello World\n",
            "Hello World\n"
          ]
        }
      ],
      "source": [
        "#1 - Best Practice (코드 복잡성)\n",
        "print(\"Hello World\")\n",
        "\n",
        "#2\n",
        "a = \"Hello \"\n",
        "b = \"World\"\n",
        "\n",
        "print(a+b)"
      ]
    },
    {
      "cell_type": "markdown",
      "source": [
        "**002**\n",
        "\n",
        "화면에 Mary's cosmetics을 출력하세요. (중간에 '가 있음에 주의하세요)"
      ],
      "metadata": {
        "id": "cXnf4ux5bYMN"
      }
    },
    {
      "cell_type": "code",
      "source": [
        "#1 (이스케이프 문자 활용)\n",
        "print(\"Mary\\'s cosmetics\")\n",
        "\n",
        "#Best Practice (코드 복잡성)\n",
        "#2 (큰따옴표 작은따옴표 이용)\n",
        "print(\"Mary's cosmetics\")"
      ],
      "metadata": {
        "colab": {
          "base_uri": "https://localhost:8080/"
        },
        "id": "6KAdgdR3bQP1",
        "outputId": "36438863-9277-45d6-f9c8-222b6e8ec6fb"
      },
      "execution_count": 11,
      "outputs": [
        {
          "output_type": "stream",
          "name": "stdout",
          "text": [
            "Mary's cosmetics\n",
            "Mary's cosmetics\n"
          ]
        }
      ]
    },
    {
      "cell_type": "markdown",
      "source": [
        "**003**\n",
        "\n",
        "화면에 아래 문장을 출력하세요. (중간에 \"가 있음에 주의하세요.)\n",
        "\n",
        "신씨가 소리질렀다. \"도둑이야\"."
      ],
      "metadata": {
        "id": "bSSsw5Hsc6iX"
      }
    },
    {
      "cell_type": "code",
      "source": [
        "#1 - Best Practice (코드 복잡성)\n",
        "print('\"도둑이야\"')\n",
        "\n",
        "#2\n",
        "print('\\\"도둑이야\\\"')"
      ],
      "metadata": {
        "colab": {
          "base_uri": "https://localhost:8080/"
        },
        "id": "5Dq649neb6Ff",
        "outputId": "a692eaea-3bc8-4e9d-9734-fe972f6c5561"
      },
      "execution_count": 13,
      "outputs": [
        {
          "output_type": "stream",
          "name": "stdout",
          "text": [
            "\"도둑이야\"\n",
            "\"도둑이야\"\n"
          ]
        }
      ]
    },
    {
      "cell_type": "markdown",
      "source": [
        "**004**\n",
        "\n",
        "화면에 C:\\Windows를 출력하세요."
      ],
      "metadata": {
        "id": "_u8OAm06dlhi"
      }
    },
    {
      "cell_type": "code",
      "source": [
        "print(\"C:\\Windows\")"
      ],
      "metadata": {
        "colab": {
          "base_uri": "https://localhost:8080/"
        },
        "id": "MXG5ymsOdGHu",
        "outputId": "8e7515ec-854a-44fe-bc8f-dd3d4f7f6d75"
      },
      "execution_count": 15,
      "outputs": [
        {
          "output_type": "stream",
          "name": "stdout",
          "text": [
            "C:\\Windows\n"
          ]
        }
      ]
    },
    {
      "cell_type": "markdown",
      "source": [
        "**005**\n",
        "\n",
        "다음 코드를 실행해보고 \\t와 \\n의 역할을 설명해보세요.\n",
        "\n",
        "print(\"안녕하세요.\\n만나서\\t\\t반갑습니다.\")"
      ],
      "metadata": {
        "id": "w1hk2t_feQ5P"
      }
    },
    {
      "cell_type": "code",
      "source": [
        "# \\t는 탭(Tab), \\n은 줄바꿈(Enter)\n",
        "print(\"안녕하세요.\\n만나서\\t\\t반갑습니다.\")"
      ],
      "metadata": {
        "colab": {
          "base_uri": "https://localhost:8080/"
        },
        "id": "1Js_xRvZd_h5",
        "outputId": "5f95f065-4036-4f62-dd80-a82c0fa8a1d3"
      },
      "execution_count": 17,
      "outputs": [
        {
          "output_type": "stream",
          "name": "stdout",
          "text": [
            "안녕하세요.\n",
            "만나서\t\t반갑습니다.\n"
          ]
        }
      ]
    },
    {
      "cell_type": "markdown",
      "source": [
        "**006**\n",
        "\n",
        "print 함수에 두 개의 단어를 입력한 예제입니다. 아래 코드의 출력 결과를 예상해봅시다.\n",
        "\n",
        "print (\"오늘은\", \"일요일\")\n",
        "\n",
        "오늘은일요일"
      ],
      "metadata": {
        "id": "DkMRG53nfFn4"
      }
    },
    {
      "cell_type": "code",
      "source": [
        "#String을 합치면 중간에 Space가 포함됨\n",
        "print (\"오늘은\", \"일요일\")"
      ],
      "metadata": {
        "colab": {
          "base_uri": "https://localhost:8080/"
        },
        "id": "-ymncHodfFIy",
        "outputId": "cee70a22-a07b-4d46-9e86-4f8375708e95"
      },
      "execution_count": 18,
      "outputs": [
        {
          "output_type": "stream",
          "name": "stdout",
          "text": [
            "오늘은 일요일\n"
          ]
        }
      ]
    },
    {
      "cell_type": "markdown",
      "source": [
        "**007**\n",
        "\n",
        "print() 함수를 사용하여 다음과 같이 출력하세요.\n",
        "\n",
        "naver;kakao;sk;samsung"
      ],
      "metadata": {
        "id": "G51kdUkDgEPH"
      }
    },
    {
      "cell_type": "code",
      "source": [
        "#1\n",
        "print(\"naver;kakao;sk;samsung\")\n",
        "\n",
        "#2\n",
        "print(\"naver\",\"kakao\",\"sk\",\"samsung\",sep=\";\")\n",
        "\n",
        "#3\n",
        "print(\"naver\",\"kakao\",\"sk\",\"samsung\",sep=\" \")\n",
        "\n",
        "#4\n",
        "print(\"naver\",\"kakao\",\"sk\",\"samsung\",sep=\"!\")\n",
        "\n",
        "#5\n",
        "print(\"naver\",\"kakao\",\"sk\",\"samsung\",sep=\"^\")"
      ],
      "metadata": {
        "colab": {
          "base_uri": "https://localhost:8080/"
        },
        "id": "oYY63_mOfmpE",
        "outputId": "db276659-3f72-40f9-cfa9-b1b781548cbc"
      },
      "execution_count": 25,
      "outputs": [
        {
          "output_type": "stream",
          "name": "stdout",
          "text": [
            "naver;kakao;sk;samsung\n",
            "naver;kakao;sk;samsung\n",
            "naver kakao sk samsung\n",
            "naver!kakao!sk!samsung\n",
            "naver^kakao^sk^samsung\n"
          ]
        }
      ]
    },
    {
      "cell_type": "markdown",
      "source": [
        "**008**\n",
        "\n",
        "print() 함수를 사용하여 다음과 같이 출력하세요.\n",
        "\n",
        "naver/kakao/sk/samsung"
      ],
      "metadata": {
        "id": "tsUnMTdMhSz2"
      }
    },
    {
      "cell_type": "code",
      "source": [
        "#1\n",
        "print(\"naver\",\"kakao\",\"sk\",\"samsung\", sep =\"/\")\n",
        "\n",
        "#2\n",
        "print(\"naver/kakao/sk/samsung\")"
      ],
      "metadata": {
        "colab": {
          "base_uri": "https://localhost:8080/"
        },
        "id": "-d8--wfzgrBH",
        "outputId": "74d46ea0-430a-4960-8b61-4d9b9b3d91ee"
      },
      "execution_count": 27,
      "outputs": [
        {
          "output_type": "stream",
          "name": "stdout",
          "text": [
            "naver/kakao/sk/samsung\n",
            "naver/kakao/sk/samsung\n"
          ]
        }
      ]
    },
    {
      "cell_type": "markdown",
      "source": [
        "**009**\n",
        "\n",
        "다음 코드를 수정하여 줄바꿈이 없이 출력하세요. (힌트: end='')\n",
        "\n",
        "print 함수는 두 번 사용합니다.\n",
        "\n",
        "세미콜론 (;)은 한줄에 여러 개의 명령을 작성하기 위해 사용합니다.\n",
        "\n",
        "print(\"first\");print(\"second\")"
      ],
      "metadata": {
        "id": "4e9vWhSPhtK6"
      }
    },
    {
      "cell_type": "code",
      "source": [
        "# end = / sep = 개념\n",
        "\n",
        "print(\"first\", end=\"\");print(\"second\")"
      ],
      "metadata": {
        "colab": {
          "base_uri": "https://localhost:8080/"
        },
        "id": "IRwllmfbhiPg",
        "outputId": "302a53f3-d537-4e71-e070-5b07e1e398ed"
      },
      "execution_count": 41,
      "outputs": [
        {
          "output_type": "stream",
          "name": "stdout",
          "text": [
            "firstsecond\n"
          ]
        }
      ]
    },
    {
      "cell_type": "markdown",
      "source": [
        "**010**\n",
        "\n",
        "5/3의 결과를 화면에 출력하세요."
      ],
      "metadata": {
        "id": "bKVUbzoekMi7"
      }
    },
    {
      "cell_type": "code",
      "source": [
        "print(5/3)"
      ],
      "metadata": {
        "colab": {
          "base_uri": "https://localhost:8080/"
        },
        "id": "Dv33X8fPh5In",
        "outputId": "470deff6-2b97-4f69-bd21-923ec26b3441"
      },
      "execution_count": 43,
      "outputs": [
        {
          "output_type": "stream",
          "name": "stdout",
          "text": [
            "1.6666666666666667\n"
          ]
        }
      ]
    },
    {
      "cell_type": "code",
      "source": [],
      "metadata": {
        "id": "br1ICaeGkXOW"
      },
      "execution_count": null,
      "outputs": []
    }
  ]
}
