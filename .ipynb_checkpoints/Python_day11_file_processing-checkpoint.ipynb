{
 "cells": [
  {
   "cell_type": "raw",
   "id": "2a0aad7e-34e0-46dc-8b37-00e8019f7d99",
   "metadata": {},
   "source": [
    "#한글 리스트"
   ]
  },
  {
   "cell_type": "code",
   "execution_count": 1,
   "id": "cbcab4db-272f-4d61-9264-b4a45aae89f9",
   "metadata": {},
   "outputs": [],
   "source": [
    "import random"
   ]
  },
  {
   "cell_type": "code",
   "execution_count": 2,
   "id": "ab6a01af-4f6c-43aa-b80f-a27a310cac7b",
   "metadata": {},
   "outputs": [
    {
     "data": {
      "text/plain": [
       "['가', '나', '다', '라', '마', '바', '사', '아', '자', '차', '카', '타', '파', '하']"
      ]
     },
     "execution_count": 2,
     "metadata": {},
     "output_type": "execute_result"
    }
   ],
   "source": [
    "list(\"가나다라마바사아자차카타파하\")"
   ]
  },
  {
   "cell_type": "code",
   "execution_count": 12,
   "id": "034954aa-174e-48b9-8357-b421ee009c45",
   "metadata": {},
   "outputs": [
    {
     "name": "stdout",
     "output_type": "stream",
     "text": [
      "['유', '현', '호'] [65] [162]\n",
      "['임', '원', '빈'] [99] [140]\n",
      "['송', '정', '준'] [57] [180]\n",
      "['오', '승', '준'] [51] [147]\n",
      "['황', '희', '호'] [91] [146]\n"
     ]
    }
   ],
   "source": [
    "#문자열에서 문자 각각을 요소로 하는 리스트 생성\n",
    "first_name = list(\"김이박최정강조윤장임한오서신권황안송유고문양허\")\n",
    "middle_name = list(\"승윤현희원지정현세\")\n",
    "last_name = list(\"준아경빈호수진\")\n",
    "\n",
    "number = list(range(40,101))\n",
    "numbers = list(range(140,201))\n",
    "\n",
    "for i in range(5):\n",
    "    #랜덤한 값으로 변수를 생성함\n",
    "    name = random.choices(first_name)+random.choices(middle_name)+random.choices(last_name)\n",
    "    weight = random.choices(number)\n",
    "    height = random.choices(numbers)\n",
    "    print(name, weight, height)\n"
   ]
  },
  {
   "cell_type": "markdown",
   "id": "d6d526c4-509b-47f0-8d4b-42cd95b15171",
   "metadata": {},
   "source": [
    "랜덤하게 사람 이름 만들기"
   ]
  },
  {
   "cell_type": "code",
   "execution_count": 21,
   "id": "b9807984-c036-4b48-9cba-adaa3e2639a1",
   "metadata": {},
   "outputs": [
    {
     "name": "stdout",
     "output_type": "stream",
     "text": [
      "권정빈, 166, 60\n",
      "윤지빈, 140, 78\n",
      "윤현진, 173, 69\n",
      "안세진, 151, 101\n",
      "고정경, 154, 112\n"
     ]
    }
   ],
   "source": [
    "for i in range(5):\n",
    "    #랜덤한 값으로 변수를 생성함\n",
    "    name = random.choices(first_name)[0]+random.choices(middle_name)[0]+random.choices(last_name)[0]\n",
    "    moogae = (random.randrange(40, 120))\n",
    "    kii = (random.randrange(140, 200))\n",
    "    print(f\"{name}, {kii}, {moogae}\")\n",
    "\n"
   ]
  },
  {
   "cell_type": "markdown",
   "id": "5ecf4b84-6089-447c-9ddf-cce583bc986d",
   "metadata": {},
   "source": [
    "###생성한 데이터를 csv 파일에 저장하기"
   ]
  },
  {
   "cell_type": "code",
   "execution_count": 40,
   "id": "dedb6e88-f0ce-41f0-9155-5d6f27e37244",
   "metadata": {},
   "outputs": [
    {
     "name": "stdout",
     "output_type": "stream",
     "text": [
      "이희수,180,108\n",
      "\n",
      "임희아,147,97\n",
      "\n",
      "윤승진,142,78\n",
      "\n",
      "조현빈,195,115\n",
      "\n",
      "조현아,167,42\n",
      "\n",
      "고세호,159,55\n",
      "\n",
      "황윤호,143,46\n",
      "\n",
      "윤원준,153,49\n",
      "\n",
      "임지호,162,110\n",
      "\n",
      "한윤호,148,89\n",
      "\n"
     ]
    }
   ],
   "source": [
    "import random\n",
    "first_name = list(\"김이박최정강조윤장임한오서신권황안송유고문양허\")\n",
    "middle_name = list(\"승윤현희원지정현세\")\n",
    "last_name = list(\"준아경빈호수진\")\n",
    "\n",
    "# csv 파일로 쓰기, with문은 close를 자동으로 해줌\n",
    "with open(\"info.csv\",\"w\", encoding =\"utf-8\") as file:\n",
    "    #각 항목 이름(head) 추가\n",
    "    file.write(f\"이름,키,몸무게\\n\")\n",
    "    #1000개의 사람 데이터 생성\n",
    "    for i in range(10):\n",
    "        name = random.choices(first_name)[0]+random.choices(middle_name)[0]+random.choices(last_name)[0]\n",
    "        moogae = (random.randrange(40, 120))\n",
    "        kii = (random.randrange(140, 200))\n",
    "    \n",
    "        person_data = f\"{name},{kii},{moogae}\\n\"\n",
    "        file.write(person_data)\n",
    "        print(person_data)\n",
    "        "
   ]
  },
  {
   "cell_type": "code",
   "execution_count": 42,
   "id": "404df2f6-33b1-4efc-8ccc-84fa0feede15",
   "metadata": {},
   "outputs": [
    {
     "name": "stdout",
     "output_type": "stream",
     "text": [
      "<range_iterator object at 0x00000236173B8590>\n"
     ]
    }
   ],
   "source": [
    "#next() 함수 사용\n",
    "nums = range(5)\n",
    "nums = iter(nums)\n",
    "print(nums)"
   ]
  },
  {
   "cell_type": "code",
   "execution_count": 45,
   "id": "45868316-e2ec-4692-a547-59a7a3df8c27",
   "metadata": {},
   "outputs": [
    {
     "data": {
      "text/plain": [
       "2"
      ]
     },
     "execution_count": 45,
     "metadata": {},
     "output_type": "execute_result"
    }
   ],
   "source": [
    "next(nums)"
   ]
  },
  {
   "cell_type": "markdown",
   "id": "485bfea0-b507-407b-b363-8c424ab51408",
   "metadata": {},
   "source": [
    "Info.csv 파일을 읽어서 각 사람의 BMI 지수 구해서 출력"
   ]
  },
  {
   "cell_type": "code",
   "execution_count": 72,
   "id": "c0dcfe4b-36b5-4a41-8d57-270c8c27b879",
   "metadata": {},
   "outputs": [
    {
     "name": "stdout",
     "output_type": "stream",
     "text": [
      "이름: 이 희\n",
      "몸무게: 180\n",
      "키: 108\n",
      "bmi: 154.32\n",
      "결과: 과체중\n",
      "\n",
      "이름: 임 희\n",
      "몸무게: 147\n",
      "키: 97\n",
      "bmi: 156.23\n",
      "결과: 과체중\n",
      "\n",
      "이름: 윤 승\n",
      "몸무게: 142\n",
      "키: 78\n",
      "bmi: 233.4\n",
      "결과: 과체중\n",
      "\n",
      "이름: 조 현\n",
      "몸무게: 195\n",
      "키: 115\n",
      "bmi: 147.45\n",
      "결과: 과체중\n",
      "\n",
      "이름: 조 현\n",
      "몸무게: 167\n",
      "키: 42\n",
      "bmi: 946.71\n",
      "결과: 과체중\n",
      "\n",
      "이름: 고 세\n",
      "몸무게: 159\n",
      "키: 55\n",
      "bmi: 525.62\n",
      "결과: 과체중\n",
      "\n",
      "이름: 황 윤\n",
      "몸무게: 143\n",
      "키: 46\n",
      "bmi: 675.8\n",
      "결과: 과체중\n",
      "\n",
      "이름: 윤 원\n",
      "몸무게: 153\n",
      "키: 49\n",
      "bmi: 637.23\n",
      "결과: 과체중\n",
      "\n",
      "이름: 임 지\n",
      "몸무게: 162\n",
      "키: 110\n",
      "bmi: 133.88\n",
      "결과: 과체중\n",
      "\n",
      "이름: 한 윤\n",
      "몸무게: 148\n",
      "키: 89\n",
      "bmi: 186.85\n",
      "결과: 과체중\n",
      "\n"
     ]
    }
   ],
   "source": [
    "with open('info.csv', 'r', encoding='utf-8') as f:\n",
    "    #몸무게와 키를 통해 bmi 계산 및 출력\n",
    "    for line in f:\n",
    "        (name, weight, height) = line.strip().split(',') \n",
    "        if (not name) or (not weight) or (not height) or (not weight.isdigit()):\n",
    "            #isdigit : 첫 정보 줄 점프\n",
    "            continue\n",
    "\n",
    "        bmi = int(weight) / ((int(height)/100)**2)\n",
    "        result = \"\"\n",
    "        if 25 <= bmi:\n",
    "            result = \"과체중\"\n",
    "        elif 18.04 <= bmi <25:\n",
    "            result = \"정상체중\"\n",
    "        else:\n",
    "            result = \"저체중\"\n",
    "        #출력\n",
    "        print('\\n'.join([f\"이름: {name[0]} {name[1]}\",\n",
    "                         f\"몸무게: {weight}\",\n",
    "                         f\"키: {height}\",\n",
    "                         f\"bmi: {round(bmi, 2)}\",\n",
    "                         f\"결과: {result}\"\n",
    "                        ]))\n",
    "        print()\n",
    "                         "
   ]
  },
  {
   "cell_type": "code",
   "execution_count": 61,
   "id": "92376536-f62f-45bb-9672-77b8ef5b7634",
   "metadata": {},
   "outputs": [
    {
     "name": "stdout",
     "output_type": "stream",
     "text": [
      "이름 키 몸무게\n",
      "이희수 180 108\n",
      "임희아 147 97\n",
      "윤승진 142 78\n",
      "조현빈 195 115\n",
      "조현아 167 42\n",
      "고세호 159 55\n",
      "황윤호 143 46\n",
      "윤원준 153 49\n",
      "임지호 162 110\n",
      "한윤호 148 89\n"
     ]
    }
   ],
   "source": [
    "with open('info.csv','r', encoding = 'utf-8') as f:\n",
    "    for line in f:\n",
    "\n",
    "        (name, weight, height) = line.strip().split(',')\n",
    "        #print(type(weight))\n",
    "\n",
    "        # 각 항복에 값이 비어잇거나, 첫 번재 head 걸러내기\n",
    "        if (not name) or (not weight) or (not height) or (name=='name'):\n",
    "            continue\n",
    "        print(name, weight, height)\n",
    "        "
   ]
  },
  {
   "cell_type": "code",
   "execution_count": null,
   "id": "15cb96fb-f4e3-440c-a5c4-03cb18cfef0f",
   "metadata": {},
   "outputs": [],
   "source": []
  }
 ],
 "metadata": {
  "kernelspec": {
   "display_name": "Python 3 (ipykernel)",
   "language": "python",
   "name": "python3"
  },
  "language_info": {
   "codemirror_mode": {
    "name": "ipython",
    "version": 3
   },
   "file_extension": ".py",
   "mimetype": "text/x-python",
   "name": "python",
   "nbconvert_exporter": "python",
   "pygments_lexer": "ipython3",
   "version": "3.10.14"
  }
 },
 "nbformat": 4,
 "nbformat_minor": 5
}
