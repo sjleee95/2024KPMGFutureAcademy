{
  "nbformat": 4,
  "nbformat_minor": 0,
  "metadata": {
    "colab": {
      "provenance": [],
      "authorship_tag": "ABX9TyONTqK1kFAZgaPJEOvxJxbO",
      "include_colab_link": true
    },
    "kernelspec": {
      "name": "python3",
      "display_name": "Python 3"
    },
    "language_info": {
      "name": "python"
    }
  },
  "cells": [
    {
      "cell_type": "markdown",
      "metadata": {
        "id": "view-in-github",
        "colab_type": "text"
      },
      "source": [
        "<a href=\"https://colab.research.google.com/github/sjleee95/2024KPMGFutureAcademy/blob/Python-300%EC%A0%9C/Python_300%EC%A0%9C(71_80)%5Btuple%5D.ipynb\" target=\"_parent\"><img src=\"https://colab.research.google.com/assets/colab-badge.svg\" alt=\"Open In Colab\"/></a>"
      ]
    },
    {
      "cell_type": "markdown",
      "source": [
        "**071**\n",
        "\n",
        "my_variable 이름의 비어있는 튜플을 만들라."
      ],
      "metadata": {
        "id": "2k99ON7qZB_D"
      }
    },
    {
      "cell_type": "code",
      "source": [
        "my_variable = ()\n",
        "\n",
        "type(my_variable)"
      ],
      "metadata": {
        "colab": {
          "base_uri": "https://localhost:8080/"
        },
        "id": "qbtVL63byPLG",
        "outputId": "aa318b9f-451c-42e1-a40c-4513ac167287"
      },
      "execution_count": 1,
      "outputs": [
        {
          "output_type": "execute_result",
          "data": {
            "text/plain": [
              "tuple"
            ]
          },
          "metadata": {},
          "execution_count": 1
        }
      ]
    },
    {
      "cell_type": "markdown",
      "source": [
        "**072**\n",
        "\n",
        "2016년 11월 영화 예매 순위 기준 top3는 다음과 같다.\n",
        "\n",
        "영화 제목을 movie_rank 이름의 튜플에 저장하라. (순위 정보는 저장하지 않는다.)\n",
        "\n",
        "순위\t영화\n",
        "\n",
        "1\t닥터 스트레인지\n",
        "\n",
        "2\t스플릿\n",
        "\n",
        "3\t럭키"
      ],
      "metadata": {
        "id": "OoZwF1oCZB7p"
      }
    },
    {
      "cell_type": "code",
      "source": [
        "movie_rank = (\"닥터 스트레인지\",\"스플릿\",\"럭키\")\n",
        "\n",
        "print(movie_rank)"
      ],
      "metadata": {
        "colab": {
          "base_uri": "https://localhost:8080/"
        },
        "id": "B-dFkkzSykX1",
        "outputId": "8209e64e-ab1a-4387-915a-69b92c944283"
      },
      "execution_count": 2,
      "outputs": [
        {
          "output_type": "stream",
          "name": "stdout",
          "text": [
            "('닥터 스트레인지', '스플릿', '럭키')\n"
          ]
        }
      ]
    },
    {
      "cell_type": "markdown",
      "source": [
        "**073**\n",
        "\n",
        "숫자 1 이 저장된 튜플을 생성하라."
      ],
      "metadata": {
        "id": "FgqhQbGDZB5T"
      }
    },
    {
      "cell_type": "code",
      "source": [
        "#아래와 같이 괄호와 함께 하나의 정숫값을 저장하면 튜플이 정의 될 것같지만 그렇지 않습니다. type()을 출력해보면 파이썬은 튜플이 아닌 정수로 인식합니다.\n",
        "\n",
        "tuple_test = (1,)\n",
        "\n",
        "type(tuple_test)"
      ],
      "metadata": {
        "colab": {
          "base_uri": "https://localhost:8080/"
        },
        "id": "GwMkzXk8z-yl",
        "outputId": "a4788119-4cf2-42e7-ed6d-56c14ce51290"
      },
      "execution_count": 5,
      "outputs": [
        {
          "output_type": "execute_result",
          "data": {
            "text/plain": [
              "tuple"
            ]
          },
          "metadata": {},
          "execution_count": 5
        }
      ]
    },
    {
      "cell_type": "markdown",
      "source": [
        "**074**\n",
        "\n",
        "다음 코드를 실행해보고 오류가 발생하는 원인을 설명하라.\n",
        "\n",
        ">> t = (1, 2, 3)\n",
        "\n",
        ">> t[0] = 'a'\n",
        "\n",
        "Traceback (most recent call last):\n",
        "\n",
        "  File \"<pyshell#46>\", line 1, in <module>\n",
        "\n",
        "    t[0] = 'a'\n",
        "\n",
        "TypeError: 'tuple' object does not support item assignment"
      ],
      "metadata": {
        "id": "_7cPmCC9ZB2l"
      }
    },
    {
      "cell_type": "code",
      "source": [
        "#tuple의 원소는 list와 다르게 바꿀 수 없다.\n",
        "t = (1, 2, 3)\n",
        "\n",
        "t[0] = 'a'"
      ],
      "metadata": {
        "colab": {
          "base_uri": "https://localhost:8080/",
          "height": 176
        },
        "id": "fvrLitDA2Njz",
        "outputId": "c8e63f57-8b83-4856-9b5c-f19a7333191a"
      },
      "execution_count": 6,
      "outputs": [
        {
          "output_type": "error",
          "ename": "TypeError",
          "evalue": "'tuple' object does not support item assignment",
          "traceback": [
            "\u001b[0;31m---------------------------------------------------------------------------\u001b[0m",
            "\u001b[0;31mTypeError\u001b[0m                                 Traceback (most recent call last)",
            "\u001b[0;32m<ipython-input-6-17cc0c5dd6d3>\u001b[0m in \u001b[0;36m<cell line: 3>\u001b[0;34m()\u001b[0m\n\u001b[1;32m      1\u001b[0m \u001b[0mt\u001b[0m \u001b[0;34m=\u001b[0m \u001b[0;34m(\u001b[0m\u001b[0;36m1\u001b[0m\u001b[0;34m,\u001b[0m \u001b[0;36m2\u001b[0m\u001b[0;34m,\u001b[0m \u001b[0;36m3\u001b[0m\u001b[0;34m)\u001b[0m\u001b[0;34m\u001b[0m\u001b[0;34m\u001b[0m\u001b[0m\n\u001b[1;32m      2\u001b[0m \u001b[0;34m\u001b[0m\u001b[0m\n\u001b[0;32m----> 3\u001b[0;31m \u001b[0mt\u001b[0m\u001b[0;34m[\u001b[0m\u001b[0;36m0\u001b[0m\u001b[0;34m]\u001b[0m \u001b[0;34m=\u001b[0m \u001b[0;34m'a'\u001b[0m\u001b[0;34m\u001b[0m\u001b[0;34m\u001b[0m\u001b[0m\n\u001b[0m",
            "\u001b[0;31mTypeError\u001b[0m: 'tuple' object does not support item assignment"
          ]
        }
      ]
    },
    {
      "cell_type": "markdown",
      "source": [
        "**075**\n",
        "\n",
        "아래와 같이 t에는 1, 2, 3, 4 데이터가 바인딩되어 있다.\n",
        "\n",
        "t가 바인딩하는 데이터 타입은 무엇인가?\n",
        "\n",
        "t = 1, 2, 3, 4"
      ],
      "metadata": {
        "id": "WcRHUcECZBz5"
      }
    },
    {
      "cell_type": "code",
      "source": [
        "t = 1,2,3,4\n",
        "c = \"1\",\"2\",\"3\",\"4\"\n",
        "\n",
        "type(c)"
      ],
      "metadata": {
        "colab": {
          "base_uri": "https://localhost:8080/"
        },
        "id": "S9J0Cb6j4251",
        "outputId": "a21ecc9f-6846-4196-be95-080b74ec87b7"
      },
      "execution_count": 10,
      "outputs": [
        {
          "output_type": "execute_result",
          "data": {
            "text/plain": [
              "tuple"
            ]
          },
          "metadata": {},
          "execution_count": 10
        }
      ]
    },
    {
      "cell_type": "markdown",
      "source": [
        "**076**\n",
        "\n",
        "변수 t에는 아래와 같은 값이 저장되어 있다. 변수 t가 ('A', 'b', 'c') 튜플을 가리키도록 수정 하라.\n",
        "\n",
        "t = ('a', 'b', 'c')"
      ],
      "metadata": {
        "id": "Xec7ve-pZBxS"
      }
    },
    {
      "cell_type": "code",
      "source": [
        "t = ('a', 'b', 'c')\n",
        "\n",
        "#튜플의 값은 변경할 수 없기 때문에, 리스트와 달리 아래 코드는 동작하지 않습니다.\n",
        "t[0] = 'A'\n",
        "#새로운 튜플을 만들고 t 라는 변수를 업데이트 해야 합니다. 기존의 튜플 ('a', 'b', 'c')은 자동으로 삭제됩니다.\n",
        "t = ('A', 'b', 'c')"
      ],
      "metadata": {
        "colab": {
          "base_uri": "https://localhost:8080/",
          "height": 176
        },
        "id": "hUwFQ2jw7Rd5",
        "outputId": "a0fffd6e-d9c7-455d-e6de-8f55772b1d57"
      },
      "execution_count": 12,
      "outputs": [
        {
          "output_type": "error",
          "ename": "AttributeError",
          "evalue": "'tuple' object has no attribute 'upper'",
          "traceback": [
            "\u001b[0;31m---------------------------------------------------------------------------\u001b[0m",
            "\u001b[0;31mAttributeError\u001b[0m                            Traceback (most recent call last)",
            "\u001b[0;32m<ipython-input-12-ff849dd1a1e0>\u001b[0m in \u001b[0;36m<cell line: 3>\u001b[0;34m()\u001b[0m\n\u001b[1;32m      1\u001b[0m \u001b[0mt\u001b[0m \u001b[0;34m=\u001b[0m \u001b[0;34m(\u001b[0m\u001b[0;34m'a'\u001b[0m\u001b[0;34m,\u001b[0m \u001b[0;34m'b'\u001b[0m\u001b[0;34m,\u001b[0m \u001b[0;34m'c'\u001b[0m\u001b[0;34m)\u001b[0m\u001b[0;34m\u001b[0m\u001b[0;34m\u001b[0m\u001b[0m\n\u001b[1;32m      2\u001b[0m \u001b[0;34m\u001b[0m\u001b[0m\n\u001b[0;32m----> 3\u001b[0;31m \u001b[0mt\u001b[0m\u001b[0;34m.\u001b[0m\u001b[0mupper\u001b[0m\u001b[0;34m[\u001b[0m\u001b[0;36m0\u001b[0m\u001b[0;34m]\u001b[0m\u001b[0;34m\u001b[0m\u001b[0;34m\u001b[0m\u001b[0m\n\u001b[0m",
            "\u001b[0;31mAttributeError\u001b[0m: 'tuple' object has no attribute 'upper'"
          ]
        }
      ]
    },
    {
      "cell_type": "markdown",
      "source": [
        "**077**\n",
        "\n",
        "다음 튜플을 리스트로 변환하라.\n",
        "\n",
        "interest = ('삼성전자', 'LG전자', 'SK Hynix')\n"
      ],
      "metadata": {
        "id": "tsr3QpyKZBuf"
      }
    },
    {
      "cell_type": "code",
      "source": [
        "interest = ('삼성전자', 'LG전자', 'SK Hynix')\n",
        "\n",
        "list(interest)\n",
        "\n",
        "print(type(interest))\n",
        "print(interest)"
      ],
      "metadata": {
        "colab": {
          "base_uri": "https://localhost:8080/"
        },
        "id": "-oQxkmvh-tP5",
        "outputId": "635de37e-fd13-424c-8986-20249b2629ac"
      },
      "execution_count": 15,
      "outputs": [
        {
          "output_type": "stream",
          "name": "stdout",
          "text": [
            "<class 'tuple'>\n",
            "('삼성전자', 'LG전자', 'SK Hynix')\n"
          ]
        }
      ]
    },
    {
      "cell_type": "markdown",
      "source": [
        "**078**\n",
        "\n",
        "다음 리스트를 튜플로 변경하라.\n",
        "\n",
        "interest = ['삼성전자', 'LG전자', 'SK Hynix']"
      ],
      "metadata": {
        "id": "nM-usiaLZBry"
      }
    },
    {
      "cell_type": "code",
      "source": [
        "#여기서는 왜 data로 바꾸는 것일까??\n",
        "\n",
        "interest = ['삼성전자', 'LG전자', 'SK Hynix']\n",
        "\n",
        "data = tuple(interest)\n",
        "\n",
        "type(data)"
      ],
      "metadata": {
        "colab": {
          "base_uri": "https://localhost:8080/"
        },
        "id": "RaQ0BmbdDjYc",
        "outputId": "17e0a901-8489-4deb-adf0-3d11af49bc9d"
      },
      "execution_count": 18,
      "outputs": [
        {
          "output_type": "execute_result",
          "data": {
            "text/plain": [
              "tuple"
            ]
          },
          "metadata": {},
          "execution_count": 18
        }
      ]
    },
    {
      "cell_type": "markdown",
      "source": [
        "**071** 튜플 언팩킹\n",
        "\n",
        "다음 코드의 실행 결과를 예상하라.\n",
        "\n",
        "temp = ('apple', 'banana', 'cake')\n",
        "\n",
        "a, b, c = temp\n",
        "\n",
        "print(a, b, c)"
      ],
      "metadata": {
        "id": "KCv4Q6w4ZBpF"
      }
    },
    {
      "cell_type": "code",
      "source": [
        "#가설 : 각자 대응된다?\n",
        "temp = ('apple', 'banana', 'cake')\n",
        "\n",
        "a, b, c = temp\n",
        "\n",
        "print(a, b, c)\n",
        "\n"
      ],
      "metadata": {
        "colab": {
          "base_uri": "https://localhost:8080/"
        },
        "id": "96JtwB-yENxK",
        "outputId": "dc954e07-bb88-493e-cac5-c6b821aa2766"
      },
      "execution_count": 19,
      "outputs": [
        {
          "output_type": "stream",
          "name": "stdout",
          "text": [
            "apple banana cake\n"
          ]
        }
      ]
    },
    {
      "cell_type": "markdown",
      "source": [
        "**080** range 함수\n",
        "\n",
        "1 부터 99까지의 정수 중 짝수만 저장된 튜플을 생성하라.\n",
        "\n",
        "(2, 4, 6, 8 ... 98)"
      ],
      "metadata": {
        "id": "4itryc2wZBl_"
      }
    },
    {
      "cell_type": "code",
      "execution_count": 24,
      "metadata": {
        "id": "090chKxQlkNk",
        "colab": {
          "base_uri": "https://localhost:8080/"
        },
        "outputId": "3b8dd855-f9a2-4653-8fc5-7f3de2cd14e2"
      },
      "outputs": [
        {
          "output_type": "stream",
          "name": "stdout",
          "text": [
            "<class 'tuple'>\n",
            "(2, 4, 6, 8, 10, 12, 14, 16, 18, 20, 22, 24, 26, 28, 30, 32, 34, 36, 38, 40, 42, 44, 46, 48, 50, 52, 54, 56, 58, 60, 62, 64, 66, 68, 70, 72, 74, 76, 78, 80, 82, 84, 86, 88, 90, 92, 94, 96, 98)\n",
            "(2, 4, 6, 8, 10, 12, 14, 16, 18, 20, 22, 24, 26, 28, 30, 32, 34, 36, 38, 40, 42, 44, 46, 48, 50, 52, 54, 56, 58, 60, 62, 64, 66, 68, 70, 72, 74, 76, 78, 80, 82, 84, 86, 88, 90, 92, 94, 96, 98)\n"
          ]
        }
      ],
      "source": [
        "#1\n",
        "a = list(range(2,100,2))\n",
        "\n",
        "a = tuple(a)\n",
        "\n",
        "print(type(a))\n",
        "print(a)\n",
        "\n",
        "#2 답지\n",
        "\n",
        "data = tuple(range(2, 100, 2))\n",
        "print( data )"
      ]
    },
    {
      "cell_type": "code",
      "source": [],
      "metadata": {
        "id": "eoHsRNtoGUP6"
      },
      "execution_count": null,
      "outputs": []
    }
  ]
}