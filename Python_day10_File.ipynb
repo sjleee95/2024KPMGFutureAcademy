{
 "cells": [
  {
   "cell_type": "markdown",
   "id": "feaf5739-cac3-4dc2-92ad-772c23536cf5",
   "metadata": {},
   "source": [
    "#파일 처리\n",
    "##파일 쓰기\n",
    "-파일 오픈 : 파일명, 모드(쓰기 모드 w,a), 식별\n",
    "-쓰기 모드 \n",
    "\n",
    "w : 파일에 overwrite, a:파일의 뒷부분에 추가\n",
    "(append)\n",
    "\n",
    "마지막에 close()"
   ]
  },
  {
   "cell_type": "code",
   "execution_count": 5,
   "id": "f96b2de9-731c-41d3-ab22-9edafee97df0",
   "metadata": {},
   "outputs": [],
   "source": [
    "#파일 오픈\n",
    "#식별자 = open(\"파일명\", \"모드\")\n",
    "#encoding을 이용해서 file을 열고싶으면, (jupyter lab에서 할거면) ('utf-8')\n",
    "file = open(\"test.txt\",\"w\",encoding='utf-8')\n",
    "\n",
    "#파일에 데이터 쓰기\n",
    "file.write(\"안녕 파일 쓰기 처음이야.\")\n",
    "\n",
    "file.write(\"hi, I'm Sonny\")\n",
    "\n",
    "#파일 닫기\n",
    "file.close()"
   ]
  },
  {
   "cell_type": "markdown",
   "id": "080a0a26-88f5-46b0-9cfb-4a85dd62ab1e",
   "metadata": {},
   "source": [
    "파일 읽기"
   ]
  },
  {
   "cell_type": "code",
   "execution_count": 4,
   "id": "a2a41373-098d-45ed-b788-04a44ae8dccb",
   "metadata": {},
   "outputs": [
    {
     "name": "stdout",
     "output_type": "stream",
     "text": [
      "<class 'str'>\n"
     ]
    },
    {
     "data": {
      "text/plain": [
       "\"안녕 파일 쓰기 처음이야.hi, I'm Sonny안녕 파일 쓰기 처음이야.2\\nhi, I'm Sonny2\\n\""
      ]
     },
     "execution_count": 4,
     "metadata": {},
     "output_type": "execute_result"
    }
   ],
   "source": [
    "#식별자 = open(\"파일명\", \"모드\")\n",
    "file = open(\"test.txt\",\"r\", encoding='utf-8')\n",
    "data = file.read()\n",
    "file.close #read메모리에 올라가서 close 해도 상관없다.\n",
    "print(type(data))\n",
    "data"
   ]
  },
  {
   "cell_type": "markdown",
   "id": "a286c3e8-fb53-45b5-af4f-0d8da858b1e1",
   "metadata": {},
   "source": [
    "## with문 사용, file access(read, write 포함됨)"
   ]
  },
  {
   "cell_type": "code",
   "execution_count": 5,
   "id": "d5c1dec8-0412-44dc-b169-65797d09e1bf",
   "metadata": {},
   "outputs": [],
   "source": [
    "#with open(문자열:파일 경로, 문자열 모드) as 파일 객체:\n",
    "\n",
    "#      contents = file.read()\n",
    "#print(contents)"
   ]
  },
  {
   "cell_type": "code",
   "execution_count": null,
   "id": "9407ae82-f440-4ccf-81f5-1ca0b2edb260",
   "metadata": {},
   "outputs": [],
   "source": [
    "with open(\"test.txt\",\"r\")"
   ]
  }
 ],
 "metadata": {
  "kernelspec": {
   "display_name": "Python 3 (ipykernel)",
   "language": "python",
   "name": "python3"
  },
  "language_info": {
   "codemirror_mode": {
    "name": "ipython",
    "version": 3
   },
   "file_extension": ".py",
   "mimetype": "text/x-python",
   "name": "python",
   "nbconvert_exporter": "python",
   "pygments_lexer": "ipython3",
   "version": "3.10.14"
  }
 },
 "nbformat": 4,
 "nbformat_minor": 5
}
