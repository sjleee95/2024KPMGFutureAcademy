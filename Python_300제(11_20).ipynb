{
  "nbformat": 4,
  "nbformat_minor": 0,
  "metadata": {
    "colab": {
      "provenance": [],
      "authorship_tag": "ABX9TyP6xLwg8V4spsgxz79fCHMH",
      "include_colab_link": true
    },
    "kernelspec": {
      "name": "python3",
      "display_name": "Python 3"
    },
    "language_info": {
      "name": "python"
    }
  },
  "cells": [
    {
      "cell_type": "markdown",
      "metadata": {
        "id": "view-in-github",
        "colab_type": "text"
      },
      "source": [
        "<a href=\"https://colab.research.google.com/github/sjleee95/2024KPMGFutureAcademy/blob/Python-300%EC%A0%9C/Python_300%EC%A0%9C(11_20).ipynb\" target=\"_parent\"><img src=\"https://colab.research.google.com/assets/colab-badge.svg\" alt=\"Open In Colab\"/></a>"
      ]
    },
    {
      "cell_type": "markdown",
      "source": [
        "**011** 변수 사용하기\n",
        "\n",
        "삼성전자라는 변수로 50,000원을 바인딩해보세요. 삼성전자 주식 10주를 보유하고 있을 때 총 평가금액을 출력하세요."
      ],
      "metadata": {
        "id": "b4mKvRaZLb_B"
      }
    },
    {
      "cell_type": "code",
      "source": [
        "#1\n",
        "\n",
        "삼성전자 = 50000\n",
        "\n",
        "총평가금액 = 10*삼성전자\n",
        "\n",
        "print(총평가금액)"
      ],
      "metadata": {
        "colab": {
          "base_uri": "https://localhost:8080/"
        },
        "id": "yqVECAkoLixv",
        "outputId": "d6426155-cc04-4a3d-c5f0-d48d6d448708"
      },
      "execution_count": 7,
      "outputs": [
        {
          "output_type": "stream",
          "name": "stdout",
          "text": [
            "500000\n"
          ]
        }
      ]
    },
    {
      "cell_type": "markdown",
      "source": [
        "**012** 변수 사용하기\n",
        "\n",
        "다음 표는 삼성전자의 일부 투자정보입니다. 변수를 사용해서 시가총액, 현재가, PER 등을 바인딩해보세요. #바인딩이란?\n",
        "\n",
        "항목\t값\n",
        "\n",
        "\n",
        "시가총액\t298조\n",
        "\n",
        "\n",
        "현재가\t50,000원\n",
        "\n",
        "\n",
        "PER\t15.79"
      ],
      "metadata": {
        "id": "Kuswh4yKMEt_"
      }
    },
    {
      "cell_type": "code",
      "source": [
        "시가총액 = 298000000000000\n",
        "현재가 = 50000\n",
        "PER = 15.79\n",
        "\n",
        "print(시가총액, type(시가총액))\n",
        "print(현재가, type(현재가))\n",
        "print(PER, type(PER))"
      ],
      "metadata": {
        "colab": {
          "base_uri": "https://localhost:8080/"
        },
        "id": "YsbO-a97Lseb",
        "outputId": "c73bc128-832e-43fe-bdfd-531692a7ed66"
      },
      "execution_count": 9,
      "outputs": [
        {
          "output_type": "stream",
          "name": "stdout",
          "text": [
            "298000000000000 <class 'int'>\n",
            "50000 <class 'int'>\n",
            "15.79 <class 'float'>\n"
          ]
        }
      ]
    },
    {
      "cell_type": "markdown",
      "source": [
        "**013** 문자열 출력\n",
        "\n",
        "변수 s와 t에는 각각 문자열이 바인딩 되어있습니다.\n",
        "\n",
        ">> s = \"hello\"\n",
        "\n",
        "\n",
        ">> t = \"python\"\n",
        "\n",
        "\n",
        "두 변수를 이용하여 아래와 같이 출력해보세요.\n",
        "\n",
        "\n",
        "실행 예:\n",
        "\n",
        "\n",
        "hello! python"
      ],
      "metadata": {
        "id": "GrU2xGUCNOQF"
      }
    },
    {
      "cell_type": "code",
      "source": [
        "s = \"hello\"\n",
        "t = \"python\"\n",
        "\n",
        "print(s + \"! \" + t)"
      ],
      "metadata": {
        "colab": {
          "base_uri": "https://localhost:8080/"
        },
        "id": "Ram3pqfiMlHZ",
        "outputId": "f4695517-33c6-42cf-8228-eb3996dedd76"
      },
      "execution_count": 14,
      "outputs": [
        {
          "output_type": "stream",
          "name": "stdout",
          "text": [
            "hello! python\n"
          ]
        }
      ]
    },
    {
      "cell_type": "markdown",
      "source": [
        "**014** 파이썬을 이용한 값 계산\n",
        "\n",
        "아래 코드의 실행 결과를 예상해보세요. #8\n",
        "\n",
        ">> 2 + 2 * 3"
      ],
      "metadata": {
        "id": "JuFkz9vMNzkI"
      }
    },
    {
      "cell_type": "code",
      "source": [
        "2+2*3"
      ],
      "metadata": {
        "colab": {
          "base_uri": "https://localhost:8080/"
        },
        "id": "ItmGNpjlNerh",
        "outputId": "cb69c8ec-fb15-46b8-8640-1e42fd9791c6"
      },
      "execution_count": 15,
      "outputs": [
        {
          "output_type": "execute_result",
          "data": {
            "text/plain": [
              "8"
            ]
          },
          "metadata": {},
          "execution_count": 15
        }
      ]
    },
    {
      "cell_type": "markdown",
      "source": [
        "**015** type 함수\n",
        "\n",
        "\n",
        "type() 함수는 데이터 타입을 판별합니다.\n",
        "\n",
        "변수 a에는 128 숫자가 바인딩돼 있어 type 함수가 int (정수)형임을 알려줍니다.\n",
        "\n",
        ">> a = 128\n",
        "\n",
        "\n",
        ">> print (type(a))\n",
        "\n",
        "\n",
        ">> <class 'int'>\n",
        "\n",
        "\n",
        "아래 변수에 바인딩된 값의 타입을 판별해보세요. # type(a) = str\n",
        "\n",
        ">> a = \"132\""
      ],
      "metadata": {
        "id": "3GzV3hNVOI1s"
      }
    },
    {
      "cell_type": "code",
      "source": [
        "a = '132'\n",
        "print(type(a))"
      ],
      "metadata": {
        "colab": {
          "base_uri": "https://localhost:8080/"
        },
        "id": "67O-oxzFOGcm",
        "outputId": "72f24030-b0e8-429b-96b9-e88109e41e0f"
      },
      "execution_count": 16,
      "outputs": [
        {
          "output_type": "stream",
          "name": "stdout",
          "text": [
            "<class 'str'>\n"
          ]
        }
      ]
    },
    {
      "cell_type": "code",
      "source": [],
      "metadata": {
        "id": "1L78fHyxOiqX"
      },
      "execution_count": null,
      "outputs": []
    },
    {
      "cell_type": "markdown",
      "source": [
        "**016** 문자열을 정수로 변환\n",
        "\n",
        "\n",
        "문자열 '720'를 정수형으로 변환해보세요.\n",
        "\n",
        "\n",
        ">> num_str = \"720\""
      ],
      "metadata": {
        "id": "X-WOsMS_OlsV"
      }
    },
    {
      "cell_type": "code",
      "source": [
        "num_str = \"720\"\n",
        "\n",
        "num_str = int(num_str)\n",
        "\n",
        "print(num_str)\n",
        "\n",
        "print(num_str+1, type(num_str))"
      ],
      "metadata": {
        "colab": {
          "base_uri": "https://localhost:8080/"
        },
        "id": "lBkwI_S4OpGf",
        "outputId": "ed9bbc2f-0332-4a8a-cab5-46f117d237ac"
      },
      "execution_count": 18,
      "outputs": [
        {
          "output_type": "stream",
          "name": "stdout",
          "text": [
            "720\n",
            "721 <class 'int'>\n"
          ]
        }
      ]
    },
    {
      "cell_type": "markdown",
      "source": [
        "**017** 정수를 문자열 100으로 변환\n",
        "\n",
        "정수 100을 문자열 '100'으로 변환해보세요.\n",
        "\n",
        "num = 100\n"
      ],
      "metadata": {
        "id": "b6bgn3eXPA_w"
      }
    },
    {
      "cell_type": "code",
      "source": [
        "num = 100\n",
        "\n",
        "num = str(num)\n",
        "\n",
        "print(num, type(num))"
      ],
      "metadata": {
        "colab": {
          "base_uri": "https://localhost:8080/"
        },
        "id": "-_-u57SaOz4s",
        "outputId": "f352648c-d21d-460e-db54-524c8ec7ff72"
      },
      "execution_count": 20,
      "outputs": [
        {
          "output_type": "stream",
          "name": "stdout",
          "text": [
            "100 <class 'str'>\n"
          ]
        }
      ]
    },
    {
      "cell_type": "markdown",
      "source": [
        "**018** 문자열을 실수로 변환\n",
        "\n",
        "\n",
        "문자열 \"15.79\"를 실수(float) 타입으로 변환해보세요."
      ],
      "metadata": {
        "id": "ZAEErF1EPReK"
      }
    },
    {
      "cell_type": "code",
      "source": [
        "a = \"15.79\"\n",
        "\n",
        "print(a, type(a))\n",
        "\n",
        "a = float(a)\n",
        "\n",
        "print(a, type(a))"
      ],
      "metadata": {
        "colab": {
          "base_uri": "https://localhost:8080/"
        },
        "id": "CVHmscHpPMST",
        "outputId": "aa765841-a384-4039-82b7-c5c471136fec"
      },
      "execution_count": 21,
      "outputs": [
        {
          "output_type": "stream",
          "name": "stdout",
          "text": [
            "15.79 <class 'str'>\n",
            "15.79 <class 'float'>\n"
          ]
        }
      ]
    },
    {
      "cell_type": "markdown",
      "source": [
        "**019** 문자열을 정수로 변환\n",
        "\n",
        "\n",
        "year라는 변수가 문자열 타입의 연도를 바인딩하고 있습니다.\n",
        "\n",
        "\n",
        "이를 정수로 변환한 후 최근 3년의 연도를 화면에 출력해보세요.\n",
        "\n",
        "\n",
        "year = \"2020\""
      ],
      "metadata": {
        "id": "D-4UP1S3PkZ5"
      }
    },
    {
      "cell_type": "code",
      "source": [
        "year = \"2020\"\n",
        "\n",
        "year = int(year)\n",
        "\n",
        "최근3년의연도 = (year-3, year-2, year-1)\n",
        "\n",
        "print(최근3년의연도)"
      ],
      "metadata": {
        "colab": {
          "base_uri": "https://localhost:8080/"
        },
        "id": "gwnGZaW1PhrX",
        "outputId": "cc32c591-0a2e-4088-bd69-a0b7e04844c8"
      },
      "execution_count": 25,
      "outputs": [
        {
          "output_type": "stream",
          "name": "stdout",
          "text": [
            "(2017, 2018, 2019)\n"
          ]
        }
      ]
    },
    {
      "cell_type": "markdown",
      "source": [
        "**020** 파이썬 계산\n",
        "\n",
        "\n",
        "에이컨이 월 48,584원에 무이자 36개월의 조건으로 홈쇼핑에서 판매되고 있습니다.\n",
        "\n",
        "총 금액은 계산한 후 이를 화면에 출력해보세요. (변수사용하기)"
      ],
      "metadata": {
        "id": "uTVONr-yQRTd"
      }
    },
    {
      "cell_type": "code",
      "source": [
        "월금액 = 48584\n",
        "할부기간 = 36\n",
        "\n",
        "총금액 = 월금액*할부기간\n",
        "\n",
        "print(총금액)"
      ],
      "metadata": {
        "colab": {
          "base_uri": "https://localhost:8080/"
        },
        "id": "FGZU0NhyP8lo",
        "outputId": "4ab48a1f-1868-4069-8899-b1d72089656f"
      },
      "execution_count": 27,
      "outputs": [
        {
          "output_type": "stream",
          "name": "stdout",
          "text": [
            "1749024\n"
          ]
        }
      ]
    },
    {
      "cell_type": "code",
      "source": [],
      "metadata": {
        "id": "laTQBbmeQoZn"
      },
      "execution_count": null,
      "outputs": []
    }
  ]
}